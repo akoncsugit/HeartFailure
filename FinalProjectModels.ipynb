{
 "cells": [
  {
   "cell_type": "code",
   "execution_count": null,
   "id": "1b98c200-03a3-44cf-8c53-d5e32a1dc133",
   "metadata": {},
   "outputs": [],
   "source": []
  },
  {
   "cell_type": "code",
   "execution_count": 1,
   "id": "cbf36894-f84c-4662-9de6-e80e705f25ff",
   "metadata": {},
   "outputs": [
    {
     "name": "stderr",
     "output_type": "stream",
     "text": [
      "WARNING:root:'PYARROW_IGNORE_TIMEZONE' environment variable was not set. It is required to set this environment variable to '1' in both driver and executor sides if you use pyarrow>=2.0.0. pandas-on-Spark will set it for you but it does not work if there is a Spark context already launched.\n"
     ]
    }
   ],
   "source": [
    "# Import packages\n",
    "import os\n",
    "import sys\n",
    "import warnings\n",
    "import pandas as pd\n",
    "import numpy as np\n",
    "import pyspark.pandas as ps\n",
    "import matplotlib.pyplot as plt\n",
    "import seaborn as sns\n",
    "\n",
    "# Set environment\n",
    "os.environ['PYSPARK_PYTHON'] = sys.executable\n",
    "os.environ['PYSPARK_DRIVER_PYTHON'] = sys.executable\n",
    "\n",
    "# Remove warnings\n",
    "warnings.filterwarnings(\"ignore\")\n",
    "\n",
    "\n",
    "# Set figure size\n",
    "plt.rcParams[\"figure.figsize\"] = (10,7)\n",
    "\n",
    "# Spark Session builder\n",
    "from pyspark.sql import SparkSession\n",
    "spark = SparkSession.builder.config(\"spark.debug.maxToStringFields\", \"100\").getOrCreate()"
   ]
  },
  {
   "cell_type": "code",
   "execution_count": 2,
   "id": "29335e10-d0c3-4fb0-a5dc-4a44314f353e",
   "metadata": {},
   "outputs": [
    {
     "name": "stdout",
     "output_type": "stream",
     "text": [
      "root\n",
      " |-- Age: integer (nullable = true)\n",
      " |-- Sex: string (nullable = true)\n",
      " |-- ChestPainType: string (nullable = true)\n",
      " |-- RestingBP: integer (nullable = true)\n",
      " |-- Cholesterol: integer (nullable = true)\n",
      " |-- FastingBS: integer (nullable = true)\n",
      " |-- RestingECG: string (nullable = true)\n",
      " |-- MaxHR: integer (nullable = true)\n",
      " |-- ExerciseAngina: string (nullable = true)\n",
      " |-- Oldpeak: double (nullable = true)\n",
      " |-- ST_Slope: string (nullable = true)\n",
      " |-- HeartDisease: integer (nullable = true)\n",
      "\n"
     ]
    }
   ],
   "source": [
    "df = spark.read.csv(\"heart.csv\", header = True, inferSchema = True)\n",
    "cols = df.columns\n",
    "df.printSchema()"
   ]
  },
  {
   "cell_type": "code",
   "execution_count": null,
   "id": "c37665b4-8ed5-4baa-9f44-accf46580a94",
   "metadata": {},
   "outputs": [],
   "source": []
  },
  {
   "cell_type": "code",
   "execution_count": null,
   "id": "e2987858-2471-4965-97f7-8ba2310f616f",
   "metadata": {},
   "outputs": [],
   "source": []
  },
  {
   "cell_type": "code",
   "execution_count": 3,
   "id": "281f9c80-f717-4197-97fb-c292bde3aded",
   "metadata": {},
   "outputs": [],
   "source": [
    "from pyspark.ml.feature import OneHotEncoder, StringIndexer, VectorAssembler\n",
    "categoricalColumns = ['Sex', 'ChestPainType', 'RestingECG', 'ExerciseAngina', 'ST_Slope']\n",
    "stages = []\n",
    "for categoricalCol in categoricalColumns:\n",
    "    stringIndexer = StringIndexer(inputCol = categoricalCol, outputCol = categoricalCol + 'Index')\n",
    "    encoder = OneHotEncoder(inputCols=[stringIndexer.getOutputCol()], outputCols=[categoricalCol + \"classVec\"])\n",
    "    stages += [stringIndexer, encoder]\n",
    "label_stringIdx = StringIndexer(inputCol = 'HeartDisease', outputCol = 'label')\n",
    "stages += [label_stringIdx]\n",
    "numericCols = ['Age', 'RestingBP', 'Cholesterol',\n",
    "               'FastingBS', 'MaxHR', 'Oldpeak']\n",
    "assemblerInputs = [c + \"classVec\" for c in categoricalColumns] + numericCols\n",
    "assembler = VectorAssembler(inputCols=assemblerInputs, outputCol=\"features\")\n",
    "stages += [assembler]"
   ]
  },
  {
   "cell_type": "code",
   "execution_count": 4,
   "id": "b5edfa2d-3e12-4dd7-938d-c06aeb65700e",
   "metadata": {},
   "outputs": [
    {
     "name": "stdout",
     "output_type": "stream",
     "text": [
      "root\n",
      " |-- label: double (nullable = false)\n",
      " |-- features: vector (nullable = true)\n",
      " |-- Age: integer (nullable = true)\n",
      " |-- Sex: string (nullable = true)\n",
      " |-- ChestPainType: string (nullable = true)\n",
      " |-- RestingBP: integer (nullable = true)\n",
      " |-- Cholesterol: integer (nullable = true)\n",
      " |-- FastingBS: integer (nullable = true)\n",
      " |-- RestingECG: string (nullable = true)\n",
      " |-- MaxHR: integer (nullable = true)\n",
      " |-- ExerciseAngina: string (nullable = true)\n",
      " |-- Oldpeak: double (nullable = true)\n",
      " |-- ST_Slope: string (nullable = true)\n",
      " |-- HeartDisease: integer (nullable = true)\n",
      "\n"
     ]
    }
   ],
   "source": [
    "from pyspark.ml import Pipeline\n",
    "pipeline = Pipeline(stages = stages)\n",
    "pipelineModel = pipeline.fit(df)\n",
    "df = pipelineModel.transform(df)\n",
    "selectedCols = ['label', 'features'] + cols\n",
    "df = df.select(selectedCols)\n",
    "df.printSchema()"
   ]
  },
  {
   "cell_type": "code",
   "execution_count": 5,
   "id": "09b46c1e-be38-4bde-ba53-38261a08c3c4",
   "metadata": {},
   "outputs": [
    {
     "data": {
      "text/html": [
       "<div>\n",
       "<style scoped>\n",
       "    .dataframe tbody tr th:only-of-type {\n",
       "        vertical-align: middle;\n",
       "    }\n",
       "\n",
       "    .dataframe tbody tr th {\n",
       "        vertical-align: top;\n",
       "    }\n",
       "\n",
       "    .dataframe thead th {\n",
       "        text-align: right;\n",
       "    }\n",
       "</style>\n",
       "<table border=\"1\" class=\"dataframe\">\n",
       "  <thead>\n",
       "    <tr style=\"text-align: right;\">\n",
       "      <th></th>\n",
       "      <th>0</th>\n",
       "      <th>1</th>\n",
       "      <th>2</th>\n",
       "      <th>3</th>\n",
       "      <th>4</th>\n",
       "    </tr>\n",
       "  </thead>\n",
       "  <tbody>\n",
       "    <tr>\n",
       "      <th>label</th>\n",
       "      <td>1.0</td>\n",
       "      <td>0.0</td>\n",
       "      <td>1.0</td>\n",
       "      <td>0.0</td>\n",
       "      <td>1.0</td>\n",
       "    </tr>\n",
       "    <tr>\n",
       "      <th>features</th>\n",
       "      <td>[1.0, 0.0, 0.0, 1.0, 1.0, 0.0, 1.0, 0.0, 1.0, ...</td>\n",
       "      <td>[0.0, 0.0, 1.0, 0.0, 1.0, 0.0, 1.0, 1.0, 0.0, ...</td>\n",
       "      <td>(1.0, 0.0, 0.0, 1.0, 0.0, 0.0, 1.0, 0.0, 1.0, ...</td>\n",
       "      <td>(0.0, 1.0, 0.0, 0.0, 1.0, 0.0, 0.0, 1.0, 0.0, ...</td>\n",
       "      <td>[1.0, 0.0, 1.0, 0.0, 1.0, 0.0, 1.0, 0.0, 1.0, ...</td>\n",
       "    </tr>\n",
       "    <tr>\n",
       "      <th>Age</th>\n",
       "      <td>40</td>\n",
       "      <td>49</td>\n",
       "      <td>37</td>\n",
       "      <td>48</td>\n",
       "      <td>54</td>\n",
       "    </tr>\n",
       "    <tr>\n",
       "      <th>Sex</th>\n",
       "      <td>M</td>\n",
       "      <td>F</td>\n",
       "      <td>M</td>\n",
       "      <td>F</td>\n",
       "      <td>M</td>\n",
       "    </tr>\n",
       "    <tr>\n",
       "      <th>ChestPainType</th>\n",
       "      <td>ATA</td>\n",
       "      <td>NAP</td>\n",
       "      <td>ATA</td>\n",
       "      <td>ASY</td>\n",
       "      <td>NAP</td>\n",
       "    </tr>\n",
       "    <tr>\n",
       "      <th>RestingBP</th>\n",
       "      <td>140</td>\n",
       "      <td>160</td>\n",
       "      <td>130</td>\n",
       "      <td>138</td>\n",
       "      <td>150</td>\n",
       "    </tr>\n",
       "    <tr>\n",
       "      <th>Cholesterol</th>\n",
       "      <td>289</td>\n",
       "      <td>180</td>\n",
       "      <td>283</td>\n",
       "      <td>214</td>\n",
       "      <td>195</td>\n",
       "    </tr>\n",
       "    <tr>\n",
       "      <th>FastingBS</th>\n",
       "      <td>0</td>\n",
       "      <td>0</td>\n",
       "      <td>0</td>\n",
       "      <td>0</td>\n",
       "      <td>0</td>\n",
       "    </tr>\n",
       "    <tr>\n",
       "      <th>RestingECG</th>\n",
       "      <td>Normal</td>\n",
       "      <td>Normal</td>\n",
       "      <td>ST</td>\n",
       "      <td>Normal</td>\n",
       "      <td>Normal</td>\n",
       "    </tr>\n",
       "    <tr>\n",
       "      <th>MaxHR</th>\n",
       "      <td>172</td>\n",
       "      <td>156</td>\n",
       "      <td>98</td>\n",
       "      <td>108</td>\n",
       "      <td>122</td>\n",
       "    </tr>\n",
       "    <tr>\n",
       "      <th>ExerciseAngina</th>\n",
       "      <td>N</td>\n",
       "      <td>N</td>\n",
       "      <td>N</td>\n",
       "      <td>Y</td>\n",
       "      <td>N</td>\n",
       "    </tr>\n",
       "    <tr>\n",
       "      <th>Oldpeak</th>\n",
       "      <td>0.0</td>\n",
       "      <td>1.0</td>\n",
       "      <td>0.0</td>\n",
       "      <td>1.5</td>\n",
       "      <td>0.0</td>\n",
       "    </tr>\n",
       "    <tr>\n",
       "      <th>ST_Slope</th>\n",
       "      <td>Up</td>\n",
       "      <td>Flat</td>\n",
       "      <td>Up</td>\n",
       "      <td>Flat</td>\n",
       "      <td>Up</td>\n",
       "    </tr>\n",
       "    <tr>\n",
       "      <th>HeartDisease</th>\n",
       "      <td>0</td>\n",
       "      <td>1</td>\n",
       "      <td>0</td>\n",
       "      <td>1</td>\n",
       "      <td>0</td>\n",
       "    </tr>\n",
       "  </tbody>\n",
       "</table>\n",
       "</div>"
      ],
      "text/plain": [
       "                                                                0  \\\n",
       "label                                                         1.0   \n",
       "features        [1.0, 0.0, 0.0, 1.0, 1.0, 0.0, 1.0, 0.0, 1.0, ...   \n",
       "Age                                                            40   \n",
       "Sex                                                             M   \n",
       "ChestPainType                                                 ATA   \n",
       "RestingBP                                                     140   \n",
       "Cholesterol                                                   289   \n",
       "FastingBS                                                       0   \n",
       "RestingECG                                                 Normal   \n",
       "MaxHR                                                         172   \n",
       "ExerciseAngina                                                  N   \n",
       "Oldpeak                                                       0.0   \n",
       "ST_Slope                                                       Up   \n",
       "HeartDisease                                                    0   \n",
       "\n",
       "                                                                1  \\\n",
       "label                                                         0.0   \n",
       "features        [0.0, 0.0, 1.0, 0.0, 1.0, 0.0, 1.0, 1.0, 0.0, ...   \n",
       "Age                                                            49   \n",
       "Sex                                                             F   \n",
       "ChestPainType                                                 NAP   \n",
       "RestingBP                                                     160   \n",
       "Cholesterol                                                   180   \n",
       "FastingBS                                                       0   \n",
       "RestingECG                                                 Normal   \n",
       "MaxHR                                                         156   \n",
       "ExerciseAngina                                                  N   \n",
       "Oldpeak                                                       1.0   \n",
       "ST_Slope                                                     Flat   \n",
       "HeartDisease                                                    1   \n",
       "\n",
       "                                                                2  \\\n",
       "label                                                         1.0   \n",
       "features        (1.0, 0.0, 0.0, 1.0, 0.0, 0.0, 1.0, 0.0, 1.0, ...   \n",
       "Age                                                            37   \n",
       "Sex                                                             M   \n",
       "ChestPainType                                                 ATA   \n",
       "RestingBP                                                     130   \n",
       "Cholesterol                                                   283   \n",
       "FastingBS                                                       0   \n",
       "RestingECG                                                     ST   \n",
       "MaxHR                                                          98   \n",
       "ExerciseAngina                                                  N   \n",
       "Oldpeak                                                       0.0   \n",
       "ST_Slope                                                       Up   \n",
       "HeartDisease                                                    0   \n",
       "\n",
       "                                                                3  \\\n",
       "label                                                         0.0   \n",
       "features        (0.0, 1.0, 0.0, 0.0, 1.0, 0.0, 0.0, 1.0, 0.0, ...   \n",
       "Age                                                            48   \n",
       "Sex                                                             F   \n",
       "ChestPainType                                                 ASY   \n",
       "RestingBP                                                     138   \n",
       "Cholesterol                                                   214   \n",
       "FastingBS                                                       0   \n",
       "RestingECG                                                 Normal   \n",
       "MaxHR                                                         108   \n",
       "ExerciseAngina                                                  Y   \n",
       "Oldpeak                                                       1.5   \n",
       "ST_Slope                                                     Flat   \n",
       "HeartDisease                                                    1   \n",
       "\n",
       "                                                                4  \n",
       "label                                                         1.0  \n",
       "features        [1.0, 0.0, 1.0, 0.0, 1.0, 0.0, 1.0, 0.0, 1.0, ...  \n",
       "Age                                                            54  \n",
       "Sex                                                             M  \n",
       "ChestPainType                                                 NAP  \n",
       "RestingBP                                                     150  \n",
       "Cholesterol                                                   195  \n",
       "FastingBS                                                       0  \n",
       "RestingECG                                                 Normal  \n",
       "MaxHR                                                         122  \n",
       "ExerciseAngina                                                  N  \n",
       "Oldpeak                                                       0.0  \n",
       "ST_Slope                                                       Up  \n",
       "HeartDisease                                                    0  "
      ]
     },
     "execution_count": 5,
     "metadata": {},
     "output_type": "execute_result"
    }
   ],
   "source": [
    "pd.DataFrame(df.take(5), columns=df.columns).transpose()"
   ]
  },
  {
   "cell_type": "code",
   "execution_count": 6,
   "id": "71ded852-6a21-479b-ba61-c1797a22a301",
   "metadata": {},
   "outputs": [
    {
     "name": "stdout",
     "output_type": "stream",
     "text": [
      "Training Dataset Count: 654\n",
      "Test Dataset Count: 264\n"
     ]
    }
   ],
   "source": [
    "train, test = df.randomSplit([0.7, 0.3], seed = 2018)\n",
    "print(\"Training Dataset Count: \" + str(train.count()))\n",
    "print(\"Test Dataset Count: \" + str(test.count()))"
   ]
  },
  {
   "cell_type": "code",
   "execution_count": 7,
   "id": "0959474b-4103-47e7-ba12-d2db7d1e9c3d",
   "metadata": {},
   "outputs": [],
   "source": [
    "#Logistic Regression Model\n",
    "\n",
    "from pyspark.ml.classification import LogisticRegression\n",
    "lr = LogisticRegression(featuresCol = 'features', labelCol = 'label', maxIter=10)\n",
    "lrModel = lr.fit(train)"
   ]
  },
  {
   "cell_type": "code",
   "execution_count": 8,
   "id": "f6861f4c-9787-42c4-8fb6-c0eba5f45fe3",
   "metadata": {},
   "outputs": [
    {
     "data": {
      "image/png": "[encoded data removed]",
      "text/plain": [
       "<Figure size 720x504 with 1 Axes>"
      ]
     },
     "metadata": {
      "needs_background": "light"
     },
     "output_type": "display_data"
    }
   ],
   "source": [
    "import matplotlib.pyplot as plt\n",
    "import numpy as np\n",
    "beta = np.sort(lrModel.coefficients)\n",
    "plt.plot(beta)\n",
    "plt.ylabel('Beta Coefficients')\n",
    "plt.show()"
   ]
  },
  {
   "cell_type": "code",
   "execution_count": 9,
   "id": "e7461881-4ba0-452f-b4fa-b2716fae39de",
   "metadata": {},
   "outputs": [
    {
     "data": {
      "image/png": "[encoded data removed]",
      "text/plain": [
       "<Figure size 720x504 with 1 Axes>"
      ]
     },
     "metadata": {
      "needs_background": "light"
     },
     "output_type": "display_data"
    },
    {
     "name": "stdout",
     "output_type": "stream",
     "text": [
      "Training set areaUnderROC: 0.9316478342749516\n"
     ]
    }
   ],
   "source": [
    "trainingSummary = lrModel.summary\n",
    "roc = trainingSummary.roc.toPandas()\n",
    "plt.plot(roc['FPR'],roc['TPR'])\n",
    "plt.ylabel('False Positive Rate')\n",
    "plt.xlabel('True Positive Rate')\n",
    "plt.title('ROC Curve')\n",
    "plt.show()\n",
    "print('Training set areaUnderROC: ' + str(trainingSummary.areaUnderROC))"
   ]
  },
  {
   "cell_type": "code",
   "execution_count": 10,
   "id": "bfa45150-6863-43a3-a2cd-d14c8f660054",
   "metadata": {},
   "outputs": [
    {
     "name": "stdout",
     "output_type": "stream",
     "text": [
      "+---+-------------+-----+--------------------+----------+--------------------+\n",
      "|Age|ChestPainType|label|       rawPrediction|prediction|         probability|\n",
      "+---+-------------+-----+--------------------+----------+--------------------+\n",
      "| 51|          ASY|  0.0|[2.95850178541345...|       0.0|[0.95066377183505...|\n",
      "| 49|          ASY|  0.0|[3.09458202619106...|       0.0|[0.95666870490322...|\n",
      "| 57|          ASY|  0.0|[4.87300039217166...|       0.0|[0.99240770721233...|\n",
      "| 42|          ASY|  0.0|[3.31268040049391...|       0.0|[0.96486127041036...|\n",
      "| 65|          ASY|  0.0|[3.96419729957071...|       0.0|[0.98137038264988...|\n",
      "| 50|          ASY|  0.0|[3.48646129359355...|       0.0|[0.97030008753055...|\n",
      "| 62|          ASY|  0.0|[3.73828996586186...|       0.0|[0.97675827306336...|\n",
      "| 63|          ASY|  0.0|[0.91895795712378...|       0.0|[0.71482973471286...|\n",
      "| 38|          ASY|  0.0|[1.60691611421604...|       0.0|[0.83298278909932...|\n",
      "| 44|          ASY|  0.0|[1.77656435599830...|       0.0|[0.85527211483453...|\n",
      "+---+-------------+-----+--------------------+----------+--------------------+\n",
      "only showing top 10 rows\n",
      "\n"
     ]
    }
   ],
   "source": [
    "#Make predictions on the test set.\n",
    "predictions = lrModel.transform(test)\n",
    "predictions.select('Age', 'ChestPainType', 'label', 'rawPrediction', 'prediction', 'probability').show(10)"
   ]
  },
  {
   "cell_type": "code",
   "execution_count": 11,
   "id": "bef507f0-32c5-403e-a86c-e2d0941c9436",
   "metadata": {},
   "outputs": [
    {
     "name": "stdout",
     "output_type": "stream",
     "text": [
      "Test Area Under ROC 0.9239669421487615\n"
     ]
    }
   ],
   "source": [
    "#Evaluate our Logistic Regression model.\n",
    "from pyspark.ml.evaluation import BinaryClassificationEvaluator\n",
    "evaluator = BinaryClassificationEvaluator()\n",
    "print('Test Area Under ROC', evaluator.evaluate(predictions))"
   ]
  },
  {
   "cell_type": "markdown",
   "id": "f9c7e5da-9f82-4031-8145-73d6b72ddf51",
   "metadata": {},
   "source": [
    "## Decision Tree Classifier"
   ]
  },
  {
   "cell_type": "code",
   "execution_count": 12,
   "id": "3a39c838-f625-47c5-89c8-2c0024e903e4",
   "metadata": {},
   "outputs": [
    {
     "name": "stdout",
     "output_type": "stream",
     "text": [
      "+---+-------------+-----+-------------+----------+--------------------+\n",
      "|Age|ChestPainType|label|rawPrediction|prediction|         probability|\n",
      "+---+-------------+-----+-------------+----------+--------------------+\n",
      "| 51|          ASY|  0.0| [230.0,23.0]|       0.0|[0.90909090909090...|\n",
      "| 49|          ASY|  0.0| [230.0,23.0]|       0.0|[0.90909090909090...|\n",
      "| 57|          ASY|  0.0| [230.0,23.0]|       0.0|[0.90909090909090...|\n",
      "| 42|          ASY|  0.0| [230.0,23.0]|       0.0|[0.90909090909090...|\n",
      "| 65|          ASY|  0.0| [230.0,23.0]|       0.0|[0.90909090909090...|\n",
      "| 50|          ASY|  0.0| [230.0,23.0]|       0.0|[0.90909090909090...|\n",
      "| 62|          ASY|  0.0| [230.0,23.0]|       0.0|[0.90909090909090...|\n",
      "| 63|          ASY|  0.0|  [16.0,45.0]|       1.0|[0.26229508196721...|\n",
      "| 38|          ASY|  0.0| [230.0,23.0]|       0.0|[0.90909090909090...|\n",
      "| 44|          ASY|  0.0| [230.0,23.0]|       0.0|[0.90909090909090...|\n",
      "+---+-------------+-----+-------------+----------+--------------------+\n",
      "only showing top 10 rows\n",
      "\n"
     ]
    }
   ],
   "source": [
    "from pyspark.ml.classification import DecisionTreeClassifier\n",
    "dt = DecisionTreeClassifier(featuresCol = 'features', labelCol = 'label', maxDepth = 3)\n",
    "dtModel = dt.fit(train)\n",
    "predictions = dtModel.transform(test)\n",
    "predictions.select('Age', 'ChestPainType', 'label', 'rawPrediction', 'prediction', 'probability').show(10)"
   ]
  },
  {
   "cell_type": "code",
   "execution_count": 14,
   "id": "196529e4-585e-405b-b210-c4efc5dfae96",
   "metadata": {},
   "outputs": [
    {
     "name": "stdout",
     "output_type": "stream",
     "text": [
      "Test Area Under ROC: 0.8840909090909091\n"
     ]
    }
   ],
   "source": [
    "# Evaluate our Decision Tree model.\n",
    "\n",
    "evaluator = BinaryClassificationEvaluator()\n",
    "print(\"Test Area Under ROC: \" + str(evaluator.evaluate(predictions, {evaluator.metricName: \"areaUnderROC\"})))"
   ]
  },
  {
   "cell_type": "markdown",
   "id": "68efe472-4366-4fde-87b9-16bfda66ab6c",
   "metadata": {},
   "source": [
    "## Random Forest Classifier"
   ]
  },
  {
   "cell_type": "code",
   "execution_count": 15,
   "id": "e4e745e0-ae1b-49b8-8dea-ef33a4480bb5",
   "metadata": {},
   "outputs": [
    {
     "name": "stdout",
     "output_type": "stream",
     "text": [
      "+---+-------------+-----+--------------------+----------+--------------------+\n",
      "|Age|ChestPainType|label|       rawPrediction|prediction|         probability|\n",
      "+---+-------------+-----+--------------------+----------+--------------------+\n",
      "| 51|          ASY|  0.0|[18.5436775645247...|       0.0|[0.92718387822623...|\n",
      "| 49|          ASY|  0.0|[18.3312215256367...|       0.0|[0.91656107628183...|\n",
      "| 57|          ASY|  0.0|[18.8449255881930...|       0.0|[0.94224627940965...|\n",
      "| 42|          ASY|  0.0|[18.6790992576608...|       0.0|[0.93395496288304...|\n",
      "| 65|          ASY|  0.0|[18.7496874929549...|       0.0|[0.93748437464774...|\n",
      "| 50|          ASY|  0.0|[18.6349966715218...|       0.0|[0.93174983357609...|\n",
      "| 62|          ASY|  0.0|[18.6864737957048...|       0.0|[0.93432368978524...|\n",
      "| 63|          ASY|  0.0|[10.9186867158299...|       0.0|[0.54593433579149...|\n",
      "| 38|          ASY|  0.0|[15.4465590607048...|       0.0|[0.77232795303524...|\n",
      "| 44|          ASY|  0.0|[16.1831464570341...|       0.0|[0.80915732285170...|\n",
      "+---+-------------+-----+--------------------+----------+--------------------+\n",
      "only showing top 10 rows\n",
      "\n"
     ]
    }
   ],
   "source": [
    "from pyspark.ml.classification import RandomForestClassifier\n",
    "rf = RandomForestClassifier(featuresCol = 'features', labelCol = 'label')\n",
    "rfModel = rf.fit(train)\n",
    "predictions = rfModel.transform(test)\n",
    "predictions.select('Age', 'ChestPainType', 'label', 'rawPrediction', 'prediction', 'probability').show(10)"
   ]
  },
  {
   "cell_type": "code",
   "execution_count": 16,
   "id": "1250c2c8-11c5-40f1-9f94-e1fad85a86ce",
   "metadata": {},
   "outputs": [
    {
     "name": "stdout",
     "output_type": "stream",
     "text": [
      "Test Area Under ROC: 0.9294273907910277\n"
     ]
    }
   ],
   "source": [
    "# Evaluate our Random Forest Classifier.\n",
    "\n",
    "evaluator = BinaryClassificationEvaluator()\n",
    "print(\"Test Area Under ROC: \" + str(evaluator.evaluate(predictions, {evaluator.metricName: \"areaUnderROC\"})))"
   ]
  },
  {
   "cell_type": "markdown",
   "id": "92008acb-9847-4e31-a8e5-a1a9ead861aa",
   "metadata": {},
   "source": [
    "## Gradient-Boosted Tree Classifier"
   ]
  },
  {
   "cell_type": "code",
   "execution_count": 17,
   "id": "a4260691-63f7-4265-b314-06db5a3382dd",
   "metadata": {},
   "outputs": [
    {
     "name": "stdout",
     "output_type": "stream",
     "text": [
      "+---+-------------+-----+--------------------+----------+--------------------+\n",
      "|Age|ChestPainType|label|       rawPrediction|prediction|         probability|\n",
      "+---+-------------+-----+--------------------+----------+--------------------+\n",
      "| 51|          ASY|  0.0|[1.24118110137440...|       0.0|[0.92289605767779...|\n",
      "| 49|          ASY|  0.0|[1.27964895426881...|       0.0|[0.92819567848613...|\n",
      "| 57|          ASY|  0.0|[1.33972217098094...|       0.0|[0.93580274998555...|\n",
      "| 42|          ASY|  0.0|[1.24118110137440...|       0.0|[0.92289605767779...|\n",
      "| 65|          ASY|  0.0|[1.35626010166904...|       0.0|[0.93776140255263...|\n",
      "| 50|          ASY|  0.0|[0.88955083937921...|       0.0|[0.85558590598894...|\n",
      "| 62|          ASY|  0.0|[0.35385142062789...|       0.0|[0.66989337315568...|\n",
      "| 63|          ASY|  0.0|[0.37163020726561...|       0.0|[0.67770840729701...|\n",
      "| 38|          ASY|  0.0|[1.06931843293001...|       0.0|[0.89460215084602...|\n",
      "| 44|          ASY|  0.0|[1.26071628239237...|       0.0|[0.92563073056799...|\n",
      "+---+-------------+-----+--------------------+----------+--------------------+\n",
      "only showing top 10 rows\n",
      "\n"
     ]
    }
   ],
   "source": [
    "from pyspark.ml.classification import GBTClassifier\n",
    "gbt = GBTClassifier(maxIter=10)\n",
    "gbtModel = gbt.fit(train)\n",
    "predictions = gbtModel.transform(test)\n",
    "predictions.select('Age', 'ChestPainType', 'label', 'rawPrediction', 'prediction', 'probability').show(10)"
   ]
  },
  {
   "cell_type": "code",
   "execution_count": 18,
   "id": "04c51574-222c-464b-80b2-c0981de88bec",
   "metadata": {},
   "outputs": [
    {
     "name": "stdout",
     "output_type": "stream",
     "text": [
      "Test Area Under ROC: 0.9193919716646992\n"
     ]
    }
   ],
   "source": [
    "# Evaluate our Gradient-Boosted Tree Classifier\n",
    "\n",
    "evaluator = BinaryClassificationEvaluator()\n",
    "print(\"Test Area Under ROC: \" + str(evaluator.evaluate(predictions, {evaluator.metricName: \"areaUnderROC\"})))"
   ]
  },
  {
   "cell_type": "code",
   "execution_count": 20,
   "id": "e804ceaa-925b-467c-ac01-39825eee8f39",
   "metadata": {},
   "outputs": [
    {
     "data": {
      "text/plain": [
       "[(0.912951751580724,\n",
       "  {Param(parent='GBTClassifier_096216f604c1', name='maxDepth', doc='Maximum depth of the tree. (>= 0) E.g., depth 0 means 1 leaf node; depth 1 means 1 internal node + 2 leaf nodes. Must be in range [0, 30].'): 2,\n",
       "   Param(parent='GBTClassifier_096216f604c1', name='maxBins', doc='Max number of bins for discretizing continuous features.  Must be >=2 and >= number of categories for any categorical feature.'): 20,\n",
       "   Param(parent='GBTClassifier_096216f604c1', name='maxIter', doc='max number of iterations (>= 0).'): 10}),\n",
       " (0.9173420870175467,\n",
       "  {Param(parent='GBTClassifier_096216f604c1', name='maxDepth', doc='Maximum depth of the tree. (>= 0) E.g., depth 0 means 1 leaf node; depth 1 means 1 internal node + 2 leaf nodes. Must be in range [0, 30].'): 2,\n",
       "   Param(parent='GBTClassifier_096216f604c1', name='maxBins', doc='Max number of bins for discretizing continuous features.  Must be >=2 and >= number of categories for any categorical feature.'): 20,\n",
       "   Param(parent='GBTClassifier_096216f604c1', name='maxIter', doc='max number of iterations (>= 0).'): 20}),\n",
       " (0.9131515022795358,\n",
       "  {Param(parent='GBTClassifier_096216f604c1', name='maxDepth', doc='Maximum depth of the tree. (>= 0) E.g., depth 0 means 1 leaf node; depth 1 means 1 internal node + 2 leaf nodes. Must be in range [0, 30].'): 2,\n",
       "   Param(parent='GBTClassifier_096216f604c1', name='maxBins', doc='Max number of bins for discretizing continuous features.  Must be >=2 and >= number of categories for any categorical feature.'): 60,\n",
       "   Param(parent='GBTClassifier_096216f604c1', name='maxIter', doc='max number of iterations (>= 0).'): 10}),\n",
       " (0.9151995711021843,\n",
       "  {Param(parent='GBTClassifier_096216f604c1', name='maxDepth', doc='Maximum depth of the tree. (>= 0) E.g., depth 0 means 1 leaf node; depth 1 means 1 internal node + 2 leaf nodes. Must be in range [0, 30].'): 2,\n",
       "   Param(parent='GBTClassifier_096216f604c1', name='maxBins', doc='Max number of bins for discretizing continuous features.  Must be >=2 and >= number of categories for any categorical feature.'): 60,\n",
       "   Param(parent='GBTClassifier_096216f604c1', name='maxIter', doc='max number of iterations (>= 0).'): 20}),\n",
       " (0.901958754760252,\n",
       "  {Param(parent='GBTClassifier_096216f604c1', name='maxDepth', doc='Maximum depth of the tree. (>= 0) E.g., depth 0 means 1 leaf node; depth 1 means 1 internal node + 2 leaf nodes. Must be in range [0, 30].'): 4,\n",
       "   Param(parent='GBTClassifier_096216f604c1', name='maxBins', doc='Max number of bins for discretizing continuous features.  Must be >=2 and >= number of categories for any categorical feature.'): 20,\n",
       "   Param(parent='GBTClassifier_096216f604c1', name='maxIter', doc='max number of iterations (>= 0).'): 10}),\n",
       " (0.9087435925174765,\n",
       "  {Param(parent='GBTClassifier_096216f604c1', name='maxDepth', doc='Maximum depth of the tree. (>= 0) E.g., depth 0 means 1 leaf node; depth 1 means 1 internal node + 2 leaf nodes. Must be in range [0, 30].'): 4,\n",
       "   Param(parent='GBTClassifier_096216f604c1', name='maxBins', doc='Max number of bins for discretizing continuous features.  Must be >=2 and >= number of categories for any categorical feature.'): 20,\n",
       "   Param(parent='GBTClassifier_096216f604c1', name='maxIter', doc='max number of iterations (>= 0).'): 20}),\n",
       " (0.9002210016076986,\n",
       "  {Param(parent='GBTClassifier_096216f604c1', name='maxDepth', doc='Maximum depth of the tree. (>= 0) E.g., depth 0 means 1 leaf node; depth 1 means 1 internal node + 2 leaf nodes. Must be in range [0, 30].'): 4,\n",
       "   Param(parent='GBTClassifier_096216f604c1', name='maxBins', doc='Max number of bins for discretizing continuous features.  Must be >=2 and >= number of categories for any categorical feature.'): 60,\n",
       "   Param(parent='GBTClassifier_096216f604c1', name='maxIter', doc='max number of iterations (>= 0).'): 10}),\n",
       " (0.9056891931655715,\n",
       "  {Param(parent='GBTClassifier_096216f604c1', name='maxDepth', doc='Maximum depth of the tree. (>= 0) E.g., depth 0 means 1 leaf node; depth 1 means 1 internal node + 2 leaf nodes. Must be in range [0, 30].'): 4,\n",
       "   Param(parent='GBTClassifier_096216f604c1', name='maxBins', doc='Max number of bins for discretizing continuous features.  Must be >=2 and >= number of categories for any categorical feature.'): 60,\n",
       "   Param(parent='GBTClassifier_096216f604c1', name='maxIter', doc='max number of iterations (>= 0).'): 20}),\n",
       " (0.8835091924509706,\n",
       "  {Param(parent='GBTClassifier_096216f604c1', name='maxDepth', doc='Maximum depth of the tree. (>= 0) E.g., depth 0 means 1 leaf node; depth 1 means 1 internal node + 2 leaf nodes. Must be in range [0, 30].'): 6,\n",
       "   Param(parent='GBTClassifier_096216f604c1', name='maxBins', doc='Max number of bins for discretizing continuous features.  Must be >=2 and >= number of categories for any categorical feature.'): 20,\n",
       "   Param(parent='GBTClassifier_096216f604c1', name='maxIter', doc='max number of iterations (>= 0).'): 10}),\n",
       " (0.889588439499104,\n",
       "  {Param(parent='GBTClassifier_096216f604c1', name='maxDepth', doc='Maximum depth of the tree. (>= 0) E.g., depth 0 means 1 leaf node; depth 1 means 1 internal node + 2 leaf nodes. Must be in range [0, 30].'): 6,\n",
       "   Param(parent='GBTClassifier_096216f604c1', name='maxBins', doc='Max number of bins for discretizing continuous features.  Must be >=2 and >= number of categories for any categorical feature.'): 20,\n",
       "   Param(parent='GBTClassifier_096216f604c1', name='maxIter', doc='max number of iterations (>= 0).'): 20}),\n",
       " (0.8835728809763852,\n",
       "  {Param(parent='GBTClassifier_096216f604c1', name='maxDepth', doc='Maximum depth of the tree. (>= 0) E.g., depth 0 means 1 leaf node; depth 1 means 1 internal node + 2 leaf nodes. Must be in range [0, 30].'): 6,\n",
       "   Param(parent='GBTClassifier_096216f604c1', name='maxBins', doc='Max number of bins for discretizing continuous features.  Must be >=2 and >= number of categories for any categorical feature.'): 60,\n",
       "   Param(parent='GBTClassifier_096216f604c1', name='maxIter', doc='max number of iterations (>= 0).'): 10}),\n",
       " (0.884410728093058,\n",
       "  {Param(parent='GBTClassifier_096216f604c1', name='maxDepth', doc='Maximum depth of the tree. (>= 0) E.g., depth 0 means 1 leaf node; depth 1 means 1 internal node + 2 leaf nodes. Must be in range [0, 30].'): 6,\n",
       "   Param(parent='GBTClassifier_096216f604c1', name='maxBins', doc='Max number of bins for discretizing continuous features.  Must be >=2 and >= number of categories for any categorical feature.'): 60,\n",
       "   Param(parent='GBTClassifier_096216f604c1', name='maxIter', doc='max number of iterations (>= 0).'): 20})]"
      ]
     },
     "execution_count": 20,
     "metadata": {},
     "output_type": "execute_result"
    }
   ],
   "source": [
    "from pyspark.ml.tuning import ParamGridBuilder, CrossValidator\n",
    "paramGrid = (ParamGridBuilder()\n",
    "             .addGrid(gbt.maxDepth, [2, 4, 6])\n",
    "             .addGrid(gbt.maxBins, [20, 60])\n",
    "             .addGrid(gbt.maxIter, [10, 20])\n",
    "             .build())\n",
    "cv = CrossValidator(estimator=gbt, estimatorParamMaps=paramGrid, evaluator=evaluator, numFolds=5)\n",
    "# Run cross validations.  This can take about 6 minutes since it is training over 20 trees!\n",
    "cvModel = cv.fit(train)\n",
    "list(zip(cvModel.avgMetrics, paramGrid))\n"
   ]
  },
  {
   "cell_type": "code",
   "execution_count": 21,
   "id": "42ed7d2d-8a75-4222-9bb4-97ccdc31b401",
   "metadata": {},
   "outputs": [
    {
     "name": "stdout",
     "output_type": "stream",
     "text": [
      "+-----+--------------------+---+---+-------------+---------+-----------+---------+----------+-----+--------------+-------+--------+------------+--------------------+--------------------+----------+\n",
      "|label|            features|Age|Sex|ChestPainType|RestingBP|Cholesterol|FastingBS|RestingECG|MaxHR|ExerciseAngina|Oldpeak|ST_Slope|HeartDisease|       rawPrediction|         probability|prediction|\n",
      "+-----+--------------------+---+---+-------------+---------+-----------+---------+----------+-----+--------------+-------+--------+------------+--------------------+--------------------+----------+\n",
      "|  0.0|(15,[0,1,4,6,7,9,...| 51|  M|          ASY|      140|          0|        0|    Normal|   60|             N|    0.0|    Flat|           1|[1.02411218050519...|[0.88576807728744...|       0.0|\n",
      "|  0.0|(15,[0,1,4,7,9,10...| 49|  M|          ASY|      128|        212|        0|    Normal|   96|             Y|    0.0|    Flat|           1|[1.05453861456845...|[0.89178231193068...|       0.0|\n",
      "|  0.0|(15,[0,1,4,7,9,10...| 57|  M|          ASY|      140|          0|        1|    Normal|  100|             Y|    0.0|    Flat|           1|[1.64148871225069...|[0.96384019706550...|       0.0|\n",
      "|  0.0|(15,[0,1,4,7,9,10...| 42|  M|          ASY|      145|          0|        0|    Normal|   99|             Y|    0.0|    Flat|           1|[1.15400654786232...|[0.90953850934172...|       0.0|\n",
      "|  0.0|(15,[0,1,4,7,9,10...| 65|  M|          ASY|      115|          0|        0|    Normal|   93|             Y|    0.0|    Flat|           1|[1.22369110318926...|[0.92036980575020...|       0.0|\n",
      "+-----+--------------------+---+---+-------------+---------+-----------+---------+----------+-----+--------------+-------+--------+------------+--------------------+--------------------+----------+\n",
      "only showing top 5 rows\n",
      "\n"
     ]
    }
   ],
   "source": [
    "predictions = cvModel.transform(test)\n",
    "predictions.show(5)"
   ]
  },
  {
   "cell_type": "code",
   "execution_count": 22,
   "id": "64140f6d-6dd0-459b-9d9d-39177846cdb1",
   "metadata": {},
   "outputs": [
    {
     "data": {
      "text/plain": [
       "0.9332054309327042"
      ]
     },
     "execution_count": 22,
     "metadata": {},
     "output_type": "execute_result"
    }
   ],
   "source": [
    "evaluator.evaluate(predictions)"
   ]
  },
  {
   "cell_type": "code",
   "execution_count": 13,
   "id": "6399c18f-8e1d-45e5-b24e-1ee52d1b267e",
   "metadata": {},
   "outputs": [
    {
     "name": "stdout",
     "output_type": "stream",
     "text": [
      "+---+---+-------------+------------------+-----------------+---------+----------+-----------------+--------------+-------+--------+------------+\n",
      "|Age|Sex|ChestPainType|     log_RestingBP|  log_Cholesterol|FastingBS|RestingECG|        log_MaxHR|ExerciseAngina|Oldpeak|ST_Slope|HeartDisease|\n",
      "+---+---+-------------+------------------+-----------------+---------+----------+-----------------+--------------+-------+--------+------------+\n",
      "| 40|  M|          ATA| 4.941642422609304|5.666426688112432|        0|    Normal|5.147494476813453|             N|    0.0|      Up|           0|\n",
      "| 49|  F|          NAP| 5.075173815233827| 5.19295685089021|        0|    Normal|5.049856007249537|             N|    1.0|    Flat|           1|\n",
      "| 37|  M|          ATA| 4.867534450455582|5.645446897643238|        0|        ST|4.584967478670572|             N|    0.0|      Up|           0|\n",
      "| 48|  F|          ASY| 4.927253685157205|5.365976015021851|        0|    Normal| 4.68213122712422|             Y|    1.5|    Flat|           1|\n",
      "| 54|  M|          NAP|5.0106352940962555|5.272999558563747|        0|    Normal|4.804021044733257|             N|    0.0|      Up|           0|\n",
      "+---+---+-------------+------------------+-----------------+---------+----------+-----------------+--------------+-------+--------+------------+\n",
      "only showing top 5 rows\n",
      "\n"
     ]
    }
   ],
   "source": [
    "\n",
    "# ******************** Need to implement **************************************\n",
    "# log log(RestingBP) as log_RestingBP,  log(Cholesterol) as log_Cholesterol, log(MaxHR) as log_MaxHR\n",
    "# change metric to neg_log_loss, f1_micro\n",
    "\n",
    "\n",
    "\n",
    "\n",
    "from pyspark.ml.feature import SQLTransformer\n",
    "sqlTrans = SQLTransformer(\n",
    "    statement = \"SELECT Age, Sex, ChestPainType, log(RestingBP) as log_RestingBP,\" + \n",
    "                \"log(Cholesterol) as log_Cholesterol, FastingBS, RestingECG,\" +\n",
    "                \"log(MaxHR) as log_MaxHR, ExerciseAngina, Oldpeak, ST_Slope,\" +\n",
    "                \"HeartDisease FROM __THIS__\"\n",
    ")\n",
    "\n",
    "df = sqlTrans.transform(df)\n",
    "cols = df.columns\n",
    "df.show(5)"
   ]
  }
 ],
 "metadata": {
  "kernelspec": {
   "display_name": "Python 3 (ipykernel)",
   "language": "python",
   "name": "python3"
  },
  "language_info": {
   "codemirror_mode": {
    "name": "ipython",
    "version": 3
   },
   "file_extension": ".py",
   "mimetype": "text/x-python",
   "name": "python",
   "nbconvert_exporter": "python",
   "pygments_lexer": "ipython3",
   "version": "3.8.8"
  }
 },
 "nbformat": 4,
 "nbformat_minor": 5
}
