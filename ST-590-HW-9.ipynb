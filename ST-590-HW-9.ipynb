{
 "cells": [
  {
   "cell_type": "markdown",
   "id": "9789639b-ac83-47e5-9ef5-34bc2d8caa8c",
   "metadata": {},
   "source": [
    "# ST 590 HomeWork 9\n",
    "\n",
    "## Goal : Fit and evaluate models for classification purposes using sklearn.\n",
    "<p  style=\"color:#ff6633;\"> Let's read diamonds data to achieve our goal. </p>"
   ]
  },
  {
   "cell_type": "code",
   "execution_count": 1,
   "id": "a70863b9-9ca1-4b4d-aefd-5b7a1a215b0e",
   "metadata": {},
   "outputs": [],
   "source": [
    "import pandas as pd\n",
    "import numpy as np\n",
    "diamonds = pd.read_csv(\"diamonds.csv\")"
   ]
  },
  {
   "cell_type": "code",
   "execution_count": 2,
   "id": "027db827-f972-4102-baf5-9fc88578a2c1",
   "metadata": {},
   "outputs": [
    {
     "name": "stdout",
     "output_type": "stream",
     "text": [
      "Index(['Unnamed: 0', 'carat', 'cut', 'color', 'clarity', 'depth', 'table',\n",
      "       'price', 'x', 'y', 'z'],\n",
      "      dtype='object')\n"
     ]
    },
    {
     "data": {
      "text/html": [
       "<div>\n",
       "<style scoped>\n",
       "    .dataframe tbody tr th:only-of-type {\n",
       "        vertical-align: middle;\n",
       "    }\n",
       "\n",
       "    .dataframe tbody tr th {\n",
       "        vertical-align: top;\n",
       "    }\n",
       "\n",
       "    .dataframe thead th {\n",
       "        text-align: right;\n",
       "    }\n",
       "</style>\n",
       "<table border=\"1\" class=\"dataframe\">\n",
       "  <thead>\n",
       "    <tr style=\"text-align: right;\">\n",
       "      <th></th>\n",
       "      <th>Unnamed: 0</th>\n",
       "      <th>carat</th>\n",
       "      <th>cut</th>\n",
       "      <th>color</th>\n",
       "      <th>clarity</th>\n",
       "      <th>depth</th>\n",
       "      <th>table</th>\n",
       "      <th>price</th>\n",
       "      <th>x</th>\n",
       "      <th>y</th>\n",
       "      <th>z</th>\n",
       "    </tr>\n",
       "  </thead>\n",
       "  <tbody>\n",
       "    <tr>\n",
       "      <th>0</th>\n",
       "      <td>1</td>\n",
       "      <td>0.23</td>\n",
       "      <td>Ideal</td>\n",
       "      <td>E</td>\n",
       "      <td>SI2</td>\n",
       "      <td>61.5</td>\n",
       "      <td>55.0</td>\n",
       "      <td>326</td>\n",
       "      <td>3.95</td>\n",
       "      <td>3.98</td>\n",
       "      <td>2.43</td>\n",
       "    </tr>\n",
       "    <tr>\n",
       "      <th>1</th>\n",
       "      <td>2</td>\n",
       "      <td>0.21</td>\n",
       "      <td>Premium</td>\n",
       "      <td>E</td>\n",
       "      <td>SI1</td>\n",
       "      <td>59.8</td>\n",
       "      <td>61.0</td>\n",
       "      <td>326</td>\n",
       "      <td>3.89</td>\n",
       "      <td>3.84</td>\n",
       "      <td>2.31</td>\n",
       "    </tr>\n",
       "    <tr>\n",
       "      <th>2</th>\n",
       "      <td>3</td>\n",
       "      <td>0.23</td>\n",
       "      <td>Good</td>\n",
       "      <td>E</td>\n",
       "      <td>VS1</td>\n",
       "      <td>56.9</td>\n",
       "      <td>65.0</td>\n",
       "      <td>327</td>\n",
       "      <td>4.05</td>\n",
       "      <td>4.07</td>\n",
       "      <td>2.31</td>\n",
       "    </tr>\n",
       "    <tr>\n",
       "      <th>3</th>\n",
       "      <td>4</td>\n",
       "      <td>0.29</td>\n",
       "      <td>Premium</td>\n",
       "      <td>I</td>\n",
       "      <td>VS2</td>\n",
       "      <td>62.4</td>\n",
       "      <td>58.0</td>\n",
       "      <td>334</td>\n",
       "      <td>4.20</td>\n",
       "      <td>4.23</td>\n",
       "      <td>2.63</td>\n",
       "    </tr>\n",
       "    <tr>\n",
       "      <th>4</th>\n",
       "      <td>5</td>\n",
       "      <td>0.31</td>\n",
       "      <td>Good</td>\n",
       "      <td>J</td>\n",
       "      <td>SI2</td>\n",
       "      <td>63.3</td>\n",
       "      <td>58.0</td>\n",
       "      <td>335</td>\n",
       "      <td>4.34</td>\n",
       "      <td>4.35</td>\n",
       "      <td>2.75</td>\n",
       "    </tr>\n",
       "  </tbody>\n",
       "</table>\n",
       "</div>"
      ],
      "text/plain": [
       "   Unnamed: 0  carat      cut color clarity  depth  table  price     x     y  \\\n",
       "0           1   0.23    Ideal     E     SI2   61.5   55.0    326  3.95  3.98   \n",
       "1           2   0.21  Premium     E     SI1   59.8   61.0    326  3.89  3.84   \n",
       "2           3   0.23     Good     E     VS1   56.9   65.0    327  4.05  4.07   \n",
       "3           4   0.29  Premium     I     VS2   62.4   58.0    334  4.20  4.23   \n",
       "4           5   0.31     Good     J     SI2   63.3   58.0    335  4.34  4.35   \n",
       "\n",
       "      z  \n",
       "0  2.43  \n",
       "1  2.31  \n",
       "2  2.31  \n",
       "3  2.63  \n",
       "4  2.75  "
      ]
     },
     "execution_count": 2,
     "metadata": {},
     "output_type": "execute_result"
    }
   ],
   "source": [
    "print(diamonds.columns)\n",
    "diamonds.head()"
   ]
  },
  {
   "cell_type": "markdown",
   "id": "6f9b6997-ea38-45a3-bece-387b4012ee71",
   "metadata": {},
   "source": [
    "<p  style=\"color:#ff6633;\">We will get rid of unwanted column `Unnamed:0` and create dummy variable for columns `cut` and `color` </p>"
   ]
  },
  {
   "cell_type": "code",
   "execution_count": 3,
   "id": "1b13a213-cfcc-4fe8-82f2-f221b0695b09",
   "metadata": {},
   "outputs": [],
   "source": [
    "diamonds = diamonds.drop(diamonds.columns[0], axis = 1)\n",
    "cut_dummies = pd.get_dummies(diamonds.cut)\n",
    "color_dummies = pd.get_dummies(diamonds.color)\n"
   ]
  },
  {
   "cell_type": "code",
   "execution_count": 4,
   "id": "27122c18-c35e-4612-881f-08c71c5b288e",
   "metadata": {},
   "outputs": [
    {
     "name": "stdout",
     "output_type": "stream",
     "text": [
      "Index(['carat', 'cut', 'color', 'clarity', 'depth', 'table', 'price', 'x', 'y',\n",
      "       'z'],\n",
      "      dtype='object')\n"
     ]
    },
    {
     "data": {
      "text/html": [
       "<div>\n",
       "<style scoped>\n",
       "    .dataframe tbody tr th:only-of-type {\n",
       "        vertical-align: middle;\n",
       "    }\n",
       "\n",
       "    .dataframe tbody tr th {\n",
       "        vertical-align: top;\n",
       "    }\n",
       "\n",
       "    .dataframe thead th {\n",
       "        text-align: right;\n",
       "    }\n",
       "</style>\n",
       "<table border=\"1\" class=\"dataframe\">\n",
       "  <thead>\n",
       "    <tr style=\"text-align: right;\">\n",
       "      <th></th>\n",
       "      <th>carat</th>\n",
       "      <th>cut</th>\n",
       "      <th>color</th>\n",
       "      <th>clarity</th>\n",
       "      <th>depth</th>\n",
       "      <th>table</th>\n",
       "      <th>price</th>\n",
       "      <th>x</th>\n",
       "      <th>y</th>\n",
       "      <th>z</th>\n",
       "    </tr>\n",
       "  </thead>\n",
       "  <tbody>\n",
       "    <tr>\n",
       "      <th>0</th>\n",
       "      <td>0.23</td>\n",
       "      <td>Ideal</td>\n",
       "      <td>E</td>\n",
       "      <td>SI2</td>\n",
       "      <td>61.5</td>\n",
       "      <td>55.0</td>\n",
       "      <td>326</td>\n",
       "      <td>3.95</td>\n",
       "      <td>3.98</td>\n",
       "      <td>2.43</td>\n",
       "    </tr>\n",
       "    <tr>\n",
       "      <th>1</th>\n",
       "      <td>0.21</td>\n",
       "      <td>Premium</td>\n",
       "      <td>E</td>\n",
       "      <td>SI1</td>\n",
       "      <td>59.8</td>\n",
       "      <td>61.0</td>\n",
       "      <td>326</td>\n",
       "      <td>3.89</td>\n",
       "      <td>3.84</td>\n",
       "      <td>2.31</td>\n",
       "    </tr>\n",
       "    <tr>\n",
       "      <th>2</th>\n",
       "      <td>0.23</td>\n",
       "      <td>Good</td>\n",
       "      <td>E</td>\n",
       "      <td>VS1</td>\n",
       "      <td>56.9</td>\n",
       "      <td>65.0</td>\n",
       "      <td>327</td>\n",
       "      <td>4.05</td>\n",
       "      <td>4.07</td>\n",
       "      <td>2.31</td>\n",
       "    </tr>\n",
       "    <tr>\n",
       "      <th>3</th>\n",
       "      <td>0.29</td>\n",
       "      <td>Premium</td>\n",
       "      <td>I</td>\n",
       "      <td>VS2</td>\n",
       "      <td>62.4</td>\n",
       "      <td>58.0</td>\n",
       "      <td>334</td>\n",
       "      <td>4.20</td>\n",
       "      <td>4.23</td>\n",
       "      <td>2.63</td>\n",
       "    </tr>\n",
       "    <tr>\n",
       "      <th>4</th>\n",
       "      <td>0.31</td>\n",
       "      <td>Good</td>\n",
       "      <td>J</td>\n",
       "      <td>SI2</td>\n",
       "      <td>63.3</td>\n",
       "      <td>58.0</td>\n",
       "      <td>335</td>\n",
       "      <td>4.34</td>\n",
       "      <td>4.35</td>\n",
       "      <td>2.75</td>\n",
       "    </tr>\n",
       "  </tbody>\n",
       "</table>\n",
       "</div>"
      ],
      "text/plain": [
       "   carat      cut color clarity  depth  table  price     x     y     z\n",
       "0   0.23    Ideal     E     SI2   61.5   55.0    326  3.95  3.98  2.43\n",
       "1   0.21  Premium     E     SI1   59.8   61.0    326  3.89  3.84  2.31\n",
       "2   0.23     Good     E     VS1   56.9   65.0    327  4.05  4.07  2.31\n",
       "3   0.29  Premium     I     VS2   62.4   58.0    334  4.20  4.23  2.63\n",
       "4   0.31     Good     J     SI2   63.3   58.0    335  4.34  4.35  2.75"
      ]
     },
     "execution_count": 4,
     "metadata": {},
     "output_type": "execute_result"
    }
   ],
   "source": [
    "print(diamonds.columns)\n",
    "diamonds.head()"
   ]
  },
  {
   "cell_type": "markdown",
   "id": "ad1400b9-9137-4557-9187-5a98807763cb",
   "metadata": {},
   "source": [
    "<p  style=\"color:#ff6633;\"> <br />\n",
    "    1. We will add new binary column __is_expensive__ based on price for each dimond more than value 3000 will be consider as expensive which gives us ~ 23000 records out of 53000 and rest will be non-expensive. <br />\n",
    "    2. Keep a copy of dimonds dataset before we remove any original columns <br />\n",
    "    3. Since we have created dummy variables for cut and color, will get rid of these columns and also the price column. <br />\n",
    "    4. We will add dummy variables and newly created column - is_expensive in the diamonds dataset. <br /><br />\n",
    "</p>"
   ]
  },
  {
   "cell_type": "code",
   "execution_count": 5,
   "id": "0f4d811a-2c55-4c8b-8f62-78e3963dcf86",
   "metadata": {},
   "outputs": [],
   "source": [
    "diamonds['is_expensive'] = pd.Series(np.where(diamonds['price']>=3000, 1, 0))\n",
    "Org_diamonds = diamonds\n",
    "\n",
    "diamonds = diamonds.drop([\"clarity\", \"cut\", \"color\",\"price\"], axis = 1)\n",
    "diamonds = diamonds.join(cut_dummies).join(color_dummies)\n"
   ]
  },
  {
   "cell_type": "markdown",
   "id": "3a0e1c4a-e22e-43d0-8ae1-df6c2eb8f2cb",
   "metadata": {},
   "source": [
    "<p  style=\"color:#ff6633;\"> Let's see our final dataset and summary of the original data. </p>"
   ]
  },
  {
   "cell_type": "code",
   "execution_count": 6,
   "id": "2299ecd6-d847-410b-a143-4700e126fb0a",
   "metadata": {},
   "outputs": [
    {
     "data": {
      "text/html": [
       "<div>\n",
       "<style scoped>\n",
       "    .dataframe tbody tr th:only-of-type {\n",
       "        vertical-align: middle;\n",
       "    }\n",
       "\n",
       "    .dataframe tbody tr th {\n",
       "        vertical-align: top;\n",
       "    }\n",
       "\n",
       "    .dataframe thead th {\n",
       "        text-align: right;\n",
       "    }\n",
       "</style>\n",
       "<table border=\"1\" class=\"dataframe\">\n",
       "  <thead>\n",
       "    <tr style=\"text-align: right;\">\n",
       "      <th></th>\n",
       "      <th>carat</th>\n",
       "      <th>depth</th>\n",
       "      <th>table</th>\n",
       "      <th>x</th>\n",
       "      <th>y</th>\n",
       "      <th>z</th>\n",
       "      <th>is_expensive</th>\n",
       "      <th>Fair</th>\n",
       "      <th>Good</th>\n",
       "      <th>Ideal</th>\n",
       "      <th>Premium</th>\n",
       "      <th>Very Good</th>\n",
       "      <th>D</th>\n",
       "      <th>E</th>\n",
       "      <th>F</th>\n",
       "      <th>G</th>\n",
       "      <th>H</th>\n",
       "      <th>I</th>\n",
       "      <th>J</th>\n",
       "    </tr>\n",
       "  </thead>\n",
       "  <tbody>\n",
       "    <tr>\n",
       "      <th>0</th>\n",
       "      <td>0.23</td>\n",
       "      <td>61.5</td>\n",
       "      <td>55.0</td>\n",
       "      <td>3.95</td>\n",
       "      <td>3.98</td>\n",
       "      <td>2.43</td>\n",
       "      <td>0</td>\n",
       "      <td>0</td>\n",
       "      <td>0</td>\n",
       "      <td>1</td>\n",
       "      <td>0</td>\n",
       "      <td>0</td>\n",
       "      <td>0</td>\n",
       "      <td>1</td>\n",
       "      <td>0</td>\n",
       "      <td>0</td>\n",
       "      <td>0</td>\n",
       "      <td>0</td>\n",
       "      <td>0</td>\n",
       "    </tr>\n",
       "    <tr>\n",
       "      <th>1</th>\n",
       "      <td>0.21</td>\n",
       "      <td>59.8</td>\n",
       "      <td>61.0</td>\n",
       "      <td>3.89</td>\n",
       "      <td>3.84</td>\n",
       "      <td>2.31</td>\n",
       "      <td>0</td>\n",
       "      <td>0</td>\n",
       "      <td>0</td>\n",
       "      <td>0</td>\n",
       "      <td>1</td>\n",
       "      <td>0</td>\n",
       "      <td>0</td>\n",
       "      <td>1</td>\n",
       "      <td>0</td>\n",
       "      <td>0</td>\n",
       "      <td>0</td>\n",
       "      <td>0</td>\n",
       "      <td>0</td>\n",
       "    </tr>\n",
       "    <tr>\n",
       "      <th>2</th>\n",
       "      <td>0.23</td>\n",
       "      <td>56.9</td>\n",
       "      <td>65.0</td>\n",
       "      <td>4.05</td>\n",
       "      <td>4.07</td>\n",
       "      <td>2.31</td>\n",
       "      <td>0</td>\n",
       "      <td>0</td>\n",
       "      <td>1</td>\n",
       "      <td>0</td>\n",
       "      <td>0</td>\n",
       "      <td>0</td>\n",
       "      <td>0</td>\n",
       "      <td>1</td>\n",
       "      <td>0</td>\n",
       "      <td>0</td>\n",
       "      <td>0</td>\n",
       "      <td>0</td>\n",
       "      <td>0</td>\n",
       "    </tr>\n",
       "    <tr>\n",
       "      <th>3</th>\n",
       "      <td>0.29</td>\n",
       "      <td>62.4</td>\n",
       "      <td>58.0</td>\n",
       "      <td>4.20</td>\n",
       "      <td>4.23</td>\n",
       "      <td>2.63</td>\n",
       "      <td>0</td>\n",
       "      <td>0</td>\n",
       "      <td>0</td>\n",
       "      <td>0</td>\n",
       "      <td>1</td>\n",
       "      <td>0</td>\n",
       "      <td>0</td>\n",
       "      <td>0</td>\n",
       "      <td>0</td>\n",
       "      <td>0</td>\n",
       "      <td>0</td>\n",
       "      <td>1</td>\n",
       "      <td>0</td>\n",
       "    </tr>\n",
       "    <tr>\n",
       "      <th>4</th>\n",
       "      <td>0.31</td>\n",
       "      <td>63.3</td>\n",
       "      <td>58.0</td>\n",
       "      <td>4.34</td>\n",
       "      <td>4.35</td>\n",
       "      <td>2.75</td>\n",
       "      <td>0</td>\n",
       "      <td>0</td>\n",
       "      <td>1</td>\n",
       "      <td>0</td>\n",
       "      <td>0</td>\n",
       "      <td>0</td>\n",
       "      <td>0</td>\n",
       "      <td>0</td>\n",
       "      <td>0</td>\n",
       "      <td>0</td>\n",
       "      <td>0</td>\n",
       "      <td>0</td>\n",
       "      <td>1</td>\n",
       "    </tr>\n",
       "  </tbody>\n",
       "</table>\n",
       "</div>"
      ],
      "text/plain": [
       "   carat  depth  table     x     y     z  is_expensive  Fair  Good  Ideal  \\\n",
       "0   0.23   61.5   55.0  3.95  3.98  2.43             0     0     0      1   \n",
       "1   0.21   59.8   61.0  3.89  3.84  2.31             0     0     0      0   \n",
       "2   0.23   56.9   65.0  4.05  4.07  2.31             0     0     1      0   \n",
       "3   0.29   62.4   58.0  4.20  4.23  2.63             0     0     0      0   \n",
       "4   0.31   63.3   58.0  4.34  4.35  2.75             0     0     1      0   \n",
       "\n",
       "   Premium  Very Good  D  E  F  G  H  I  J  \n",
       "0        0          0  0  1  0  0  0  0  0  \n",
       "1        1          0  0  1  0  0  0  0  0  \n",
       "2        0          0  0  1  0  0  0  0  0  \n",
       "3        1          0  0  0  0  0  0  1  0  \n",
       "4        0          0  0  0  0  0  0  0  1  "
      ]
     },
     "execution_count": 6,
     "metadata": {},
     "output_type": "execute_result"
    }
   ],
   "source": [
    "diamonds.head()"
   ]
  },
  {
   "cell_type": "code",
   "execution_count": 7,
   "id": "a2d15870-4b1e-402f-a590-5c5be7db713d",
   "metadata": {},
   "outputs": [
    {
     "data": {
      "text/html": [
       "<div>\n",
       "<style scoped>\n",
       "    .dataframe tbody tr th:only-of-type {\n",
       "        vertical-align: middle;\n",
       "    }\n",
       "\n",
       "    .dataframe tbody tr th {\n",
       "        vertical-align: top;\n",
       "    }\n",
       "\n",
       "    .dataframe thead th {\n",
       "        text-align: right;\n",
       "    }\n",
       "</style>\n",
       "<table border=\"1\" class=\"dataframe\">\n",
       "  <thead>\n",
       "    <tr style=\"text-align: right;\">\n",
       "      <th></th>\n",
       "      <th>carat</th>\n",
       "      <th>depth</th>\n",
       "      <th>table</th>\n",
       "      <th>price</th>\n",
       "      <th>x</th>\n",
       "      <th>y</th>\n",
       "      <th>z</th>\n",
       "      <th>is_expensive</th>\n",
       "    </tr>\n",
       "  </thead>\n",
       "  <tbody>\n",
       "    <tr>\n",
       "      <th>count</th>\n",
       "      <td>53940.000000</td>\n",
       "      <td>53940.000000</td>\n",
       "      <td>53940.000000</td>\n",
       "      <td>53940.000000</td>\n",
       "      <td>53940.000000</td>\n",
       "      <td>53940.000000</td>\n",
       "      <td>53940.000000</td>\n",
       "      <td>53940.000000</td>\n",
       "    </tr>\n",
       "    <tr>\n",
       "      <th>mean</th>\n",
       "      <td>0.797940</td>\n",
       "      <td>61.749405</td>\n",
       "      <td>57.457184</td>\n",
       "      <td>3932.799722</td>\n",
       "      <td>5.731157</td>\n",
       "      <td>5.734526</td>\n",
       "      <td>3.538734</td>\n",
       "      <td>0.437634</td>\n",
       "    </tr>\n",
       "    <tr>\n",
       "      <th>std</th>\n",
       "      <td>0.474011</td>\n",
       "      <td>1.432621</td>\n",
       "      <td>2.234491</td>\n",
       "      <td>3989.439738</td>\n",
       "      <td>1.121761</td>\n",
       "      <td>1.142135</td>\n",
       "      <td>0.705699</td>\n",
       "      <td>0.496100</td>\n",
       "    </tr>\n",
       "    <tr>\n",
       "      <th>min</th>\n",
       "      <td>0.200000</td>\n",
       "      <td>43.000000</td>\n",
       "      <td>43.000000</td>\n",
       "      <td>326.000000</td>\n",
       "      <td>0.000000</td>\n",
       "      <td>0.000000</td>\n",
       "      <td>0.000000</td>\n",
       "      <td>0.000000</td>\n",
       "    </tr>\n",
       "    <tr>\n",
       "      <th>25%</th>\n",
       "      <td>0.400000</td>\n",
       "      <td>61.000000</td>\n",
       "      <td>56.000000</td>\n",
       "      <td>950.000000</td>\n",
       "      <td>4.710000</td>\n",
       "      <td>4.720000</td>\n",
       "      <td>2.910000</td>\n",
       "      <td>0.000000</td>\n",
       "    </tr>\n",
       "    <tr>\n",
       "      <th>50%</th>\n",
       "      <td>0.700000</td>\n",
       "      <td>61.800000</td>\n",
       "      <td>57.000000</td>\n",
       "      <td>2401.000000</td>\n",
       "      <td>5.700000</td>\n",
       "      <td>5.710000</td>\n",
       "      <td>3.530000</td>\n",
       "      <td>0.000000</td>\n",
       "    </tr>\n",
       "    <tr>\n",
       "      <th>75%</th>\n",
       "      <td>1.040000</td>\n",
       "      <td>62.500000</td>\n",
       "      <td>59.000000</td>\n",
       "      <td>5324.250000</td>\n",
       "      <td>6.540000</td>\n",
       "      <td>6.540000</td>\n",
       "      <td>4.040000</td>\n",
       "      <td>1.000000</td>\n",
       "    </tr>\n",
       "    <tr>\n",
       "      <th>max</th>\n",
       "      <td>5.010000</td>\n",
       "      <td>79.000000</td>\n",
       "      <td>95.000000</td>\n",
       "      <td>18823.000000</td>\n",
       "      <td>10.740000</td>\n",
       "      <td>58.900000</td>\n",
       "      <td>31.800000</td>\n",
       "      <td>1.000000</td>\n",
       "    </tr>\n",
       "  </tbody>\n",
       "</table>\n",
       "</div>"
      ],
      "text/plain": [
       "              carat         depth         table         price             x  \\\n",
       "count  53940.000000  53940.000000  53940.000000  53940.000000  53940.000000   \n",
       "mean       0.797940     61.749405     57.457184   3932.799722      5.731157   \n",
       "std        0.474011      1.432621      2.234491   3989.439738      1.121761   \n",
       "min        0.200000     43.000000     43.000000    326.000000      0.000000   \n",
       "25%        0.400000     61.000000     56.000000    950.000000      4.710000   \n",
       "50%        0.700000     61.800000     57.000000   2401.000000      5.700000   \n",
       "75%        1.040000     62.500000     59.000000   5324.250000      6.540000   \n",
       "max        5.010000     79.000000     95.000000  18823.000000     10.740000   \n",
       "\n",
       "                  y             z  is_expensive  \n",
       "count  53940.000000  53940.000000  53940.000000  \n",
       "mean       5.734526      3.538734      0.437634  \n",
       "std        1.142135      0.705699      0.496100  \n",
       "min        0.000000      0.000000      0.000000  \n",
       "25%        4.720000      2.910000      0.000000  \n",
       "50%        5.710000      3.530000      0.000000  \n",
       "75%        6.540000      4.040000      1.000000  \n",
       "max       58.900000     31.800000      1.000000  "
      ]
     },
     "execution_count": 7,
     "metadata": {},
     "output_type": "execute_result"
    }
   ],
   "source": [
    "Org_diamonds.describe()"
   ]
  },
  {
   "cell_type": "markdown",
   "id": "583ca123-d93b-4db5-9731-ed9e82dc0e45",
   "metadata": {},
   "source": [
    "<p  style=\"color:#ff6633;\"> Now we are interested in is_expensive column. so let's see contingency table for is_expensive column. </p>"
   ]
  },
  {
   "cell_type": "code",
   "execution_count": 8,
   "id": "92fc01cd-05c8-40ab-ac05-c6dfe576cba2",
   "metadata": {},
   "outputs": [
    {
     "name": "stderr",
     "output_type": "stream",
     "text": [
      "C:\\Users\\kar_d\\AppData\\Local\\Temp/ipykernel_35196/3194509331.py:1: UserWarning: Pandas doesn't allow columns to be created via a new attribute name - see https://pandas.pydata.org/pandas-docs/stable/indexing.html#attribute-access\n",
      "  diamonds.is_expensive_cat = diamonds.is_expensive.astype(\"category\")\n"
     ]
    },
    {
     "data": {
      "text/plain": [
       "0    No Expensive\n",
       "1    No Expensive\n",
       "Name: is_expensive, dtype: category\n",
       "Categories (2, object): ['No Expensive', 'Expensive']"
      ]
     },
     "execution_count": 8,
     "metadata": {},
     "output_type": "execute_result"
    }
   ],
   "source": [
    "diamonds.is_expensive_cat = diamonds.is_expensive.astype(\"category\")\n",
    "diamonds.is_expensive_cat.cat.categories = [\"No Expensive\", \"Expensive\"]\n",
    "diamonds.is_expensive_cat[0:2]\n"
   ]
  },
  {
   "cell_type": "code",
   "execution_count": 9,
   "id": "70b5decb-a505-4c89-91a5-b3136085aa80",
   "metadata": {},
   "outputs": [
    {
     "data": {
      "text/plain": [
       "No Expensive    30334\n",
       "Expensive       23606\n",
       "Name: is_expensive, dtype: int64"
      ]
     },
     "execution_count": 9,
     "metadata": {},
     "output_type": "execute_result"
    }
   ],
   "source": [
    "diamonds.is_expensive_cat.value_counts()"
   ]
  },
  {
   "cell_type": "code",
   "execution_count": 10,
   "id": "9b1ae87f-40df-4d7d-b85f-148cfed1372f",
   "metadata": {},
   "outputs": [
    {
     "name": "stderr",
     "output_type": "stream",
     "text": [
      "C:\\Users\\kar_d\\AppData\\Local\\Temp/ipykernel_35196/3446160444.py:1: UserWarning: Pandas doesn't allow columns to be created via a new attribute name - see https://pandas.pydata.org/pandas-docs/stable/indexing.html#attribute-access\n",
      "  Org_diamonds.cut_cat = Org_diamonds.cut.astype(\"category\")\n"
     ]
    },
    {
     "data": {
      "text/plain": [
       "0      Ideal\n",
       "1    Premium\n",
       "2       Good\n",
       "3    Premium\n",
       "4       Good\n",
       "Name: cut, dtype: category\n",
       "Categories (5, object): ['Fair', 'Good', 'Ideal', 'Premium', 'Very Good']"
      ]
     },
     "execution_count": 10,
     "metadata": {},
     "output_type": "execute_result"
    }
   ],
   "source": [
    "Org_diamonds.cut_cat = Org_diamonds.cut.astype(\"category\")\n",
    "Org_diamonds.cut_cat.cat.categories = ['Fair', 'Good', 'Ideal', 'Premium', 'Very Good']\n",
    "Org_diamonds.cut_cat[0:5]"
   ]
  },
  {
   "cell_type": "code",
   "execution_count": 69,
   "id": "a4907cb6-ca77-49a0-8a6b-e6ffa8904f65",
   "metadata": {},
   "outputs": [
    {
     "data": {
      "text/html": [
       "<div>\n",
       "<style scoped>\n",
       "    .dataframe tbody tr th:only-of-type {\n",
       "        vertical-align: middle;\n",
       "    }\n",
       "\n",
       "    .dataframe tbody tr th {\n",
       "        vertical-align: top;\n",
       "    }\n",
       "\n",
       "    .dataframe thead th {\n",
       "        text-align: right;\n",
       "    }\n",
       "</style>\n",
       "<table border=\"1\" class=\"dataframe\">\n",
       "  <thead>\n",
       "    <tr style=\"text-align: right;\">\n",
       "      <th>cut</th>\n",
       "      <th>Fair</th>\n",
       "      <th>Good</th>\n",
       "      <th>Ideal</th>\n",
       "      <th>Premium</th>\n",
       "      <th>Very Good</th>\n",
       "      <th>All</th>\n",
       "    </tr>\n",
       "    <tr>\n",
       "      <th>is_expensive</th>\n",
       "      <th></th>\n",
       "      <th></th>\n",
       "      <th></th>\n",
       "      <th></th>\n",
       "      <th></th>\n",
       "      <th></th>\n",
       "    </tr>\n",
       "  </thead>\n",
       "  <tbody>\n",
       "    <tr>\n",
       "      <th>No Expensive</th>\n",
       "      <td>721</td>\n",
       "      <td>2431</td>\n",
       "      <td>13934</td>\n",
       "      <td>6757</td>\n",
       "      <td>6491</td>\n",
       "      <td>30334</td>\n",
       "    </tr>\n",
       "    <tr>\n",
       "      <th>Expensive</th>\n",
       "      <td>889</td>\n",
       "      <td>2475</td>\n",
       "      <td>7617</td>\n",
       "      <td>7034</td>\n",
       "      <td>5591</td>\n",
       "      <td>23606</td>\n",
       "    </tr>\n",
       "    <tr>\n",
       "      <th>All</th>\n",
       "      <td>1610</td>\n",
       "      <td>4906</td>\n",
       "      <td>21551</td>\n",
       "      <td>13791</td>\n",
       "      <td>12082</td>\n",
       "      <td>53940</td>\n",
       "    </tr>\n",
       "  </tbody>\n",
       "</table>\n",
       "</div>"
      ],
      "text/plain": [
       "cut           Fair  Good  Ideal  Premium  Very Good    All\n",
       "is_expensive                                              \n",
       "No Expensive   721  2431  13934     6757       6491  30334\n",
       "Expensive      889  2475   7617     7034       5591  23606\n",
       "All           1610  4906  21551    13791      12082  53940"
      ]
     },
     "execution_count": 69,
     "metadata": {},
     "output_type": "execute_result"
    }
   ],
   "source": [
    "pd.crosstab(\n",
    " diamonds.is_expensive_cat,\n",
    " Org_diamonds.cut_cat,\n",
    " margins = True,\n",
    " rownames = [\"is_expensive\"],\n",
    " colnames = [\"cut\"]\n",
    " )"
   ]
  },
  {
   "cell_type": "markdown",
   "id": "ac99f68c-9e1a-4b5a-a40d-e423f51b819a",
   "metadata": {},
   "source": [
    "<p  style=\"color:#ff6633;\"> Looking at the small summary of is_expensive, there are ~7000 records for no-expensive diamonds more than expensive diamonds. We observe very less diamonds are popular in category Good and most popular category is Ideal. </p>"
   ]
  },
  {
   "cell_type": "markdown",
   "id": "2e78a9d4-f864-4d6d-9b69-e77bd4158bac",
   "metadata": {},
   "source": [
    "## 2. Training and Test Split\n",
    "\n",
    "<p  style=\"color:#ff6633;\"> First, let's just read in all the functions we'll need from sklearn.</p>"
   ]
  },
  {
   "cell_type": "code",
   "execution_count": 70,
   "id": "8f534bba-208d-4149-b2c9-73c9bb839b82",
   "metadata": {},
   "outputs": [],
   "source": [
    "from sklearn.model_selection import train_test_split, GridSearchCV, cross_validate\n",
    "from sklearn.metrics import classification_report, confusion_matrix, accuracy_score\n",
    "from sklearn.linear_model import LogisticRegression\n",
    "from sklearn.tree import DecisionTreeClassifier\n",
    "from sklearn.ensemble import RandomForestClassifier\n",
    "from sklearn.ensemble import GradientBoostingClassifier\n",
    "from sklearn.preprocessing import PolynomialFeatures\n",
    "from sklearn.metrics import f1_score, make_scorer\n",
    "from sklearn.metrics import confusion_matrix\n",
    "from sklearn.model_selection import cross_val_predict\n",
    "import seaborn as sns"
   ]
  },
  {
   "cell_type": "markdown",
   "id": "05cdf7dd-59e9-44d1-9c64-4520d81f68a2",
   "metadata": {},
   "source": [
    "<div style=\"color:#ff6633;\"> Divide the data for cross validation 80 percent for training and 20 percent for testing </p>"
   ]
  },
  {
   "cell_type": "code",
   "execution_count": 13,
   "id": "761e81dc-f234-497f-9405-b74c07312549",
   "metadata": {},
   "outputs": [],
   "source": [
    "X_train, X_test, y_train, y_test = train_test_split(\n",
    "  diamonds.drop(\"is_expensive\", axis = 1),\n",
    "  diamonds[\"is_expensive\"], \n",
    "  test_size=0.20, \n",
    "  random_state=42)"
   ]
  },
  {
   "cell_type": "markdown",
   "id": "95712d29-7564-45e8-933d-80667a7470c9",
   "metadata": {},
   "source": [
    "<p  style=\"color:#ff6633;\"> We will proceed with Classification Model fitting on our diamonds data and compare which is the best model</p>"
   ]
  },
  {
   "cell_type": "markdown",
   "id": "d2698a6b-dddd-45a9-ab48-90626c3cd7d5",
   "metadata": {},
   "source": [
    "## 3. Classification Tree Model"
   ]
  },
  {
   "cell_type": "code",
   "execution_count": 52,
   "id": "d4bc4c71-9375-402b-a6e3-ee94633c2a97",
   "metadata": {},
   "outputs": [],
   "source": [
    "parameters = {'max_depth': range(2,20), 'min_samples_leaf':[10, 50, 100, 250]}\n",
    "tree_model = GridSearchCV(DecisionTreeClassifier(),\n",
    "                            parameters, \n",
    "                            cv = 5, \n",
    "                            scoring='f1_micro') \\\n",
    "                          .fit(X_train, y_train)"
   ]
  },
  {
   "cell_type": "code",
   "execution_count": 53,
   "id": "c7d37742-4fc2-4024-9af8-9ec20757740e",
   "metadata": {},
   "outputs": [
    {
     "name": "stdout",
     "output_type": "stream",
     "text": [
      "DecisionTreeClassifier(max_depth=13, min_samples_leaf=50) 0.9592139520253127\n"
     ]
    }
   ],
   "source": [
    "print(tree_model.best_estimator_, tree_model.best_score_,)"
   ]
  },
  {
   "cell_type": "code",
   "execution_count": 54,
   "id": "01bba258-4670-4c1c-a7d9-1e5fc214bf97",
   "metadata": {},
   "outputs": [],
   "source": [
    "ctree_cv = cross_validate(tree_model.best_estimator_,\n",
    "                          X_train,\n",
    "                          y_train,\n",
    "                          cv = 5,\n",
    "                          scoring='f1_micro')"
   ]
  },
  {
   "cell_type": "code",
   "execution_count": 55,
   "id": "d7dab90a-6273-4a02-a2a5-f72c2f86a0f8",
   "metadata": {},
   "outputs": [
    {
     "name": "stdout",
     "output_type": "stream",
     "text": [
      "[0.95991195 0.95805816 0.95816918 0.96013905 0.95979143]\n"
     ]
    }
   ],
   "source": [
    "print(ctree_cv['test_score'])"
   ]
  },
  {
   "cell_type": "code",
   "execution_count": 56,
   "id": "4b51065f-d3f6-4832-a101-ebd42eca24af",
   "metadata": {},
   "outputs": [
    {
     "name": "stdout",
     "output_type": "stream",
     "text": [
      "---------------classification report-------------------\n",
      "              precision    recall  f1-score   support\n",
      "\n",
      "           0       0.96      0.97      0.96      6067\n",
      "           1       0.96      0.95      0.95      4721\n",
      "\n",
      "    accuracy                           0.96     10788\n",
      "   macro avg       0.96      0.96      0.96     10788\n",
      "weighted avg       0.96      0.96      0.96     10788\n",
      "\n"
     ]
    }
   ],
   "source": [
    "print('---------------classification report-------------------')\n",
    "y_pred = tree_model.best_estimator_.predict(X_test)\n",
    "print(classification_report(y_test, y_pred))"
   ]
  },
  {
   "cell_type": "code",
   "execution_count": 57,
   "id": "771146b9-5c2b-4c6f-91a7-564570304e79",
   "metadata": {},
   "outputs": [],
   "source": [
    "cf_matrix = confusion_matrix(y_test, y_pred)"
   ]
  },
  {
   "cell_type": "code",
   "execution_count": 58,
   "id": "46062360-36fb-48b6-9a36-e6808af81982",
   "metadata": {},
   "outputs": [
    {
     "data": {
      "text/plain": [
       "<AxesSubplot:>"
      ]
     },
     "execution_count": 58,
     "metadata": {},
     "output_type": "execute_result"
    },
    {
     "data": {
      "image/png": "[encoded data removed]",
      "text/plain": [
       "<Figure size 432x288 with 2 Axes>"
      ]
     },
     "metadata": {
      "needs_background": "light"
     },
     "output_type": "display_data"
    }
   ],
   "source": [
    "group_names = ['True Neg','False Pos','False Neg','True Pos']\n",
    "group_counts = [\"{0:0.0f}\".format(value) for value in\n",
    "                cf_matrix.flatten()]\n",
    "group_percentages = [\"{0:.2%}\".format(value) for value in\n",
    "                     cf_matrix.flatten()/np.sum(cf_matrix)]\n",
    "labels = [f\"{v1}\\n{v2}\\n{v3}\" for v1, v2, v3 in\n",
    "          zip(group_names,group_counts,group_percentages)]\n",
    "labels = np.asarray(labels).reshape(2,2)\n",
    "sns.heatmap(cf_matrix, annot=labels, fmt='', cmap='Blues')"
   ]
  },
  {
   "cell_type": "markdown",
   "id": "f656efb7-02db-4ef5-9e92-419fee0930d0",
   "metadata": {},
   "source": [
    "<p  style=\"color:#ff6633;\"> Decision Tree Classifier gave us a good results. We used cross validation folds as 5. We observed best estimator for max depth 13 and min sample leaf as 50. Using Metric f1_micro donotes,  best score as 0.9592139520253127. As per Classification report, f1_score gave probability of non-expensive diamonds is 96% where as for expensive diamonds is 95%.  Prediction results has been displayed on Confusion Matrix as True positive 41.51% and True Negative as 54.35%. Model falsely predicted 1.89% as positive results and 2.25% as negative results.  Overall Decision Tree Classifier is providing pretty good prediction.  </p>"
   ]
  },
  {
   "cell_type": "markdown",
   "id": "1ce48452-d860-4305-acf2-0c299fd07d47",
   "metadata": {},
   "source": [
    "## Random Forest Classifier"
   ]
  },
  {
   "cell_type": "code",
   "execution_count": 21,
   "id": "1b81367b-eec3-47ce-a39c-e4102a0dc60e",
   "metadata": {},
   "outputs": [],
   "source": [
    "parameters = {\"max_features\" : range(1, X_train.shape[1])}\n",
    "rf_tune = GridSearchCV(RandomForestClassifier(n_estimators = 100),\n",
    "                          parameters,\n",
    "                          cv = 5,\n",
    "                          scoring='f1_micro') \\\n",
    "                          .fit(X_train, y_train)"
   ]
  },
  {
   "cell_type": "code",
   "execution_count": 22,
   "id": "45abfbd4-07c8-4296-bdb7-7439d3ea0028",
   "metadata": {},
   "outputs": [
    {
     "name": "stdout",
     "output_type": "stream",
     "text": [
      "RandomForestClassifier(max_features=3) 0.9619484187062911\n"
     ]
    }
   ],
   "source": [
    "print(rf_tune.best_estimator_, rf_tune.best_score_,)"
   ]
  },
  {
   "cell_type": "code",
   "execution_count": 23,
   "id": "f6c42764-2859-4722-a6ef-67fe3547d6b2",
   "metadata": {},
   "outputs": [],
   "source": [
    "rf_cv = cross_validate(rf_tune.best_estimator_,\n",
    "                       X_train,\n",
    "                       y_train,\n",
    "                       cv = 5,\n",
    "                       scoring='f1_micro')"
   ]
  },
  {
   "cell_type": "code",
   "execution_count": 24,
   "id": "082d71e2-9d00-41f7-9797-8baac5c62517",
   "metadata": {},
   "outputs": [
    {
     "name": "stdout",
     "output_type": "stream",
     "text": [
      "[0.96408296 0.96083884 0.96013905 0.96164542 0.96095017]\n"
     ]
    }
   ],
   "source": [
    "print(rf_cv['test_score'])"
   ]
  },
  {
   "cell_type": "code",
   "execution_count": 25,
   "id": "99a8a7fa-9b84-46f3-98b2-ca5694281ea2",
   "metadata": {},
   "outputs": [],
   "source": [
    "rf_best = rf_tune.best_estimator_.fit(X_train, y_train)"
   ]
  },
  {
   "cell_type": "code",
   "execution_count": 26,
   "id": "68a0b05d-c348-4463-9351-99e9365c5e84",
   "metadata": {},
   "outputs": [
    {
     "name": "stdout",
     "output_type": "stream",
     "text": [
      "---------------classification report-------------------\n",
      "              precision    recall  f1-score   support\n",
      "\n",
      "           0       0.96      0.97      0.97      6067\n",
      "           1       0.96      0.95      0.95      4721\n",
      "\n",
      "    accuracy                           0.96     10788\n",
      "   macro avg       0.96      0.96      0.96     10788\n",
      "weighted avg       0.96      0.96      0.96     10788\n",
      "\n"
     ]
    }
   ],
   "source": [
    "print('---------------classification report-------------------')\n",
    "y_pred = rf_tune.best_estimator_.predict(X_test)\n",
    "print(classification_report(y_test, y_pred))"
   ]
  },
  {
   "cell_type": "code",
   "execution_count": 27,
   "id": "8a71c1de-db3e-40fb-9c02-b2142bcd4090",
   "metadata": {},
   "outputs": [],
   "source": [
    "cf_matrix = confusion_matrix(y_test, y_pred)"
   ]
  },
  {
   "cell_type": "code",
   "execution_count": 28,
   "id": "66ae5b3b-402d-4358-90f9-64d73f3655f6",
   "metadata": {},
   "outputs": [
    {
     "data": {
      "text/plain": [
       "<AxesSubplot:>"
      ]
     },
     "execution_count": 28,
     "metadata": {},
     "output_type": "execute_result"
    },
    {
     "data": {
      "image/png": "[encoded data removed]",
      "text/plain": [
       "<Figure size 432x288 with 2 Axes>"
      ]
     },
     "metadata": {
      "needs_background": "light"
     },
     "output_type": "display_data"
    }
   ],
   "source": [
    "group_names = ['True Neg','False Pos','False Neg','True Pos']\n",
    "group_counts = [\"{0:0.0f}\".format(value) for value in\n",
    "                cf_matrix.flatten()]\n",
    "group_percentages = [\"{0:.2%}\".format(value) for value in\n",
    "                     cf_matrix.flatten()/np.sum(cf_matrix)]\n",
    "labels = [f\"{v1}\\n{v2}\\n{v3}\" for v1, v2, v3 in\n",
    "          zip(group_names,group_counts,group_percentages)]\n",
    "labels = np.asarray(labels).reshape(2,2)\n",
    "sns.heatmap(cf_matrix, annot=labels, fmt='', cmap='Blues')"
   ]
  },
  {
   "cell_type": "markdown",
   "id": "2f22a24e-3c64-4af8-877c-284c92693b8a",
   "metadata": {},
   "source": [
    "<p  style=\"color:#ff6633;\"> Random Forest Classifier also gave us a good results. We used cross validation folds as 5 and max features 1 predictor less out of all predictors. We observed best estimator is with max feature as 3. Using Metric f1_micro donotes,  best score as 0.9619484187062911. Prediction results has been displayed on Confusion Matrix as True positive 41.56% and True Negative as 54.49%. Model falsely predicted 1.75% as positive results which is same as Decision Tree classifier and 2.20% as negative results.  Overall Random Forest Classifier is providing pretty good prediction very slightly better than Decision Tree Model but we can take these 2 are as equally good.  </p>"
   ]
  },
  {
   "cell_type": "markdown",
   "id": "d0bce5b6-e71f-4c11-8159-edcd2672a2ae",
   "metadata": {},
   "source": [
    "## Random Forest Classifier with all Predictors (Bagging Tree)"
   ]
  },
  {
   "cell_type": "code",
   "execution_count": 59,
   "id": "3de9b0f8-a165-46f8-bcc7-99f15ae42f6a",
   "metadata": {},
   "outputs": [],
   "source": [
    "parameters = {\"max_features\" : range(X_train.shape[1],19)}\n",
    "bt_tune = GridSearchCV(RandomForestClassifier(n_estimators = 100),\n",
    "                          parameters,\n",
    "                          cv = 5,\n",
    "                          scoring='f1_micro') \\\n",
    "                          .fit(X_train, y_train)"
   ]
  },
  {
   "cell_type": "code",
   "execution_count": 67,
   "id": "84d30a70-0846-4057-91f9-f17082b34353",
   "metadata": {},
   "outputs": [
    {
     "name": "stdout",
     "output_type": "stream",
     "text": [
      "RandomForestClassifier(max_features=18) 0.9605348421364527\n"
     ]
    }
   ],
   "source": [
    "print(bt_tune.best_estimator_, bt_tune.best_score_)"
   ]
  },
  {
   "cell_type": "code",
   "execution_count": 61,
   "id": "d2aa0f82-eae6-4866-85f6-3f17dc3ce84c",
   "metadata": {},
   "outputs": [],
   "source": [
    "bt_cv = cross_validate(bt_tune.best_estimator_,\n",
    "                       X_train,\n",
    "                       y_train,\n",
    "                       cv = 5,\n",
    "                       scoring='f1_micro')"
   ]
  },
  {
   "cell_type": "code",
   "execution_count": 62,
   "id": "edbdc7d9-b484-4376-b603-7c8cf246cc3a",
   "metadata": {},
   "outputs": [
    {
     "name": "stdout",
     "output_type": "stream",
     "text": [
      "[0.96118642 0.96107056 0.96095017 0.96025492 0.95967555]\n"
     ]
    }
   ],
   "source": [
    "print(bt_cv['test_score'])"
   ]
  },
  {
   "cell_type": "code",
   "execution_count": 63,
   "id": "62a4fe33-353d-4c68-90e3-b787c74e8a08",
   "metadata": {},
   "outputs": [],
   "source": [
    "bt_best = bt_tune.best_estimator_.fit(X_train, y_train)"
   ]
  },
  {
   "cell_type": "code",
   "execution_count": 64,
   "id": "e86da7ca-1a15-4cc1-97f2-4af90da57910",
   "metadata": {},
   "outputs": [
    {
     "name": "stdout",
     "output_type": "stream",
     "text": [
      "---------------classification report-------------------\n",
      "              precision    recall  f1-score   support\n",
      "\n",
      "           0       0.96      0.96      0.96      6067\n",
      "           1       0.95      0.95      0.95      4721\n",
      "\n",
      "    accuracy                           0.96     10788\n",
      "   macro avg       0.96      0.96      0.96     10788\n",
      "weighted avg       0.96      0.96      0.96     10788\n",
      "\n"
     ]
    }
   ],
   "source": [
    "print('---------------classification report-------------------')\n",
    "y_pred = bt_tune.best_estimator_.predict(X_test)\n",
    "print(classification_report(y_test, y_pred))"
   ]
  },
  {
   "cell_type": "code",
   "execution_count": 65,
   "id": "f9bb28a0-dff9-4a0e-9467-91fd05dd87c8",
   "metadata": {},
   "outputs": [],
   "source": [
    "cf_matrix = confusion_matrix(y_test, y_pred)"
   ]
  },
  {
   "cell_type": "code",
   "execution_count": 66,
   "id": "c2726f2c-b6a9-4a78-a1f4-6654997b2dbb",
   "metadata": {},
   "outputs": [
    {
     "data": {
      "text/plain": [
       "<AxesSubplot:>"
      ]
     },
     "execution_count": 66,
     "metadata": {},
     "output_type": "execute_result"
    },
    {
     "data": {
      "image/png": "[encoded data removed]",
      "text/plain": [
       "<Figure size 432x288 with 2 Axes>"
      ]
     },
     "metadata": {
      "needs_background": "light"
     },
     "output_type": "display_data"
    }
   ],
   "source": [
    "group_names = ['True Neg','False Pos','False Neg','True Pos']\n",
    "group_counts = [\"{0:0.0f}\".format(value) for value in\n",
    "                cf_matrix.flatten()]\n",
    "group_percentages = [\"{0:.2%}\".format(value) for value in\n",
    "                     cf_matrix.flatten()/np.sum(cf_matrix)]\n",
    "labels = [f\"{v1}\\n{v2}\\n{v3}\" for v1, v2, v3 in\n",
    "          zip(group_names,group_counts,group_percentages)]\n",
    "labels = np.asarray(labels).reshape(2,2)\n",
    "sns.heatmap(cf_matrix, annot=labels, fmt='', cmap='Blues')"
   ]
  },
  {
   "cell_type": "markdown",
   "id": "9aa82697-7bd7-4349-9294-9c8c234214d7",
   "metadata": {},
   "source": [
    "<p  style=\"color:#ff6633;\"> Random Forest Classifier with all the features which is actually Bagging Tree Classifier also gave us a good results. We used cross validation folds as 5 and max features 18 predictors , all predictors. Classificatin report shows probability of non-expensive diamond prediction is 0.96 and for expensive diamonds is 0.95. Using Metric f1_micro donotes using all max features,  best score as 0.9605348421364527. Prediction results has been displayed on Confusion Matrix as True positive 41.61% and True Negative as 54.22%. Model falsely predicted 2.02% as positive results which is same as Decision Tree classifier and 2.15% as negative results. So Overall Random Forest Classifier is providing pretty good prediction very slightly better than Bagging Tree as well as Decision Tree Model.  </p>"
   ]
  },
  {
   "cell_type": "markdown",
   "id": "4f14d88c-b093-4aef-9399-5fc58c9dff13",
   "metadata": {},
   "source": [
    "## Gradient Boosting Model"
   ]
  },
  {
   "cell_type": "code",
   "execution_count": 37,
   "id": "26479661-e66f-4e95-8a0e-ea2a1c7d9f73",
   "metadata": {},
   "outputs": [],
   "source": [
    "parameters = {'learning_rate': [0.05, 0.1, 0.25, 0.5, 0.75, 1], 'max_features':range(X_train.shape[1],19)}\n",
    "\n",
    "gb_tune = GridSearchCV(GradientBoostingClassifier(n_estimators = 100, random_state= 0),\n",
    "                          parameters,\n",
    "                          cv = 5,\n",
    "                          scoring='f1_micro') \\\n",
    "                          .fit(X_train, y_train)"
   ]
  },
  {
   "cell_type": "code",
   "execution_count": 68,
   "id": "372ab8fe-bfcb-4c95-a79c-682f5b525a1d",
   "metadata": {},
   "outputs": [
    {
     "name": "stdout",
     "output_type": "stream",
     "text": [
      "GradientBoostingClassifier(learning_rate=0.25, max_features=18, random_state=0) 0.9617167173275132\n"
     ]
    }
   ],
   "source": [
    "print(gb_tune.best_estimator_, gb_tune.best_score_)"
   ]
  },
  {
   "cell_type": "code",
   "execution_count": 39,
   "id": "70886d4e-f3f3-4ddf-8a12-8872bb8ffda8",
   "metadata": {},
   "outputs": [],
   "source": [
    "gb_cv = cross_validate(rf_tune.best_estimator_,\n",
    "                       X_train,\n",
    "                       y_train,\n",
    "                       cv = 5,\n",
    "                       scoring='f1_micro')"
   ]
  },
  {
   "cell_type": "code",
   "execution_count": 40,
   "id": "3268f74d-60be-481f-94d5-66bcfd6b0c4f",
   "metadata": {},
   "outputs": [
    {
     "name": "stdout",
     "output_type": "stream",
     "text": [
      "[0.96350365 0.96130228 0.96141367 0.9617613  0.96071842]\n"
     ]
    }
   ],
   "source": [
    "print(gb_cv['test_score'])"
   ]
  },
  {
   "cell_type": "code",
   "execution_count": 41,
   "id": "a89336c2-ef71-415c-8415-24adf85213ed",
   "metadata": {},
   "outputs": [],
   "source": [
    "gb_best = gb_tune.best_estimator_.fit(X_train, y_train)"
   ]
  },
  {
   "cell_type": "code",
   "execution_count": 42,
   "id": "e29948d5-25ec-4068-95ac-29fa6812357c",
   "metadata": {},
   "outputs": [
    {
     "name": "stdout",
     "output_type": "stream",
     "text": [
      "---------------classification report-------------------\n",
      "              precision    recall  f1-score   support\n",
      "\n",
      "           0       0.96      0.97      0.97      6067\n",
      "           1       0.96      0.95      0.95      4721\n",
      "\n",
      "    accuracy                           0.96     10788\n",
      "   macro avg       0.96      0.96      0.96     10788\n",
      "weighted avg       0.96      0.96      0.96     10788\n",
      "\n"
     ]
    }
   ],
   "source": [
    "print('---------------classification report-------------------')\n",
    "y_pred = gb_tune.best_estimator_.predict(X_test)\n",
    "print(classification_report(y_test, y_pred))"
   ]
  },
  {
   "cell_type": "code",
   "execution_count": 43,
   "id": "36669c40-1515-4243-93b4-df51a25a4aca",
   "metadata": {},
   "outputs": [],
   "source": [
    "cf_matrix = confusion_matrix(y_test, y_pred)"
   ]
  },
  {
   "cell_type": "code",
   "execution_count": 44,
   "id": "8332843a-032c-4bc0-8cd1-cb8f100bccdf",
   "metadata": {},
   "outputs": [
    {
     "data": {
      "text/plain": [
       "array([[5886,  181],\n",
       "       [ 242, 4479]], dtype=int64)"
      ]
     },
     "execution_count": 44,
     "metadata": {},
     "output_type": "execute_result"
    }
   ],
   "source": [
    "cf_matrix"
   ]
  },
  {
   "cell_type": "code",
   "execution_count": 45,
   "id": "3861da0a-dd36-46ba-98fe-2a8233a5f4ac",
   "metadata": {},
   "outputs": [
    {
     "data": {
      "text/plain": [
       "<AxesSubplot:>"
      ]
     },
     "execution_count": 45,
     "metadata": {},
     "output_type": "execute_result"
    },
    {
     "data": {
      "image/png": "[encoded data removed]",
      "text/plain": [
       "<Figure size 432x288 with 2 Axes>"
      ]
     },
     "metadata": {
      "needs_background": "light"
     },
     "output_type": "display_data"
    }
   ],
   "source": [
    "group_names = ['True Neg','False Pos','False Neg','True Pos']\n",
    "group_counts = [\"{0:0.0f}\".format(value) for value in\n",
    "                cf_matrix.flatten()]\n",
    "group_percentages = [\"{0:.2%}\".format(value) for value in\n",
    "                     cf_matrix.flatten()/np.sum(cf_matrix)]\n",
    "labels = [f\"{v1}\\n{v2}\\n{v3}\" for v1, v2, v3 in\n",
    "          zip(group_names,group_counts,group_percentages)]\n",
    "labels = np.asarray(labels).reshape(2,2)\n",
    "sns.heatmap(cf_matrix, annot=labels, fmt='', cmap='Blues')"
   ]
  },
  {
   "cell_type": "markdown",
   "id": "6eea2bed-617e-439b-8cd0-112635626db3",
   "metadata": {},
   "source": [
    "<p  style=\"color:#ff6633;\"> Gradient Boosting Classifier is little complex algorithm which is slow training model. It fits trees using the residuals as response to get predictions.  We used cross validation folds as 5, bunch of learning rates and max features in range till all the predictors. We observed best estimator for learning rate as 0.25 using all the predictors  as 18. Using Metric f1_micro donotes,  best score as 0.9617167173275132. As per Classification report, f1_score gave probability of non-expensive diamonds is 97% where as for expensive diamonds is 95%.  Prediction results has been displayed on Confusion Matrix as True positive 41.52% and True Negative as 54.56%. Model falsely predicted 1.68% as positive results and 2.24% as negative results. we observe on False Positive, its predicting wrongly less than other all models we saw till now.  Overall Gradient Boosing Tree Classifier is providing pretty good prediction slightly better than Random Forest Model, too  </p>"
   ]
  },
  {
   "cell_type": "markdown",
   "id": "d5f2642c-6b27-4fc5-b6e5-047ff658f1ad",
   "metadata": {},
   "source": [
    "## Logistic Regression"
   ]
  },
  {
   "cell_type": "code",
   "execution_count": 46,
   "id": "1a665c2d-4801-479e-a821-e88b0d84ffcf",
   "metadata": {},
   "outputs": [
    {
     "data": {
      "text/plain": [
       "array([0.96222917, 0.95921678, 0.95538818, 0.96048667, 0.96060255])"
      ]
     },
     "execution_count": 46,
     "metadata": {},
     "output_type": "execute_result"
    }
   ],
   "source": [
    "log_reg1 = LogisticRegression(solver=\"newton-cg\",penalty = \"none\")\n",
    "\n",
    "cv1 = cross_validate(log_reg1,\n",
    "\n",
    "      X_train.values,\n",
    "\n",
    "      y_train.values,\n",
    "\n",
    "      cv = 5)\n",
    "\n",
    "cv1['test_score']"
   ]
  },
  {
   "cell_type": "code",
   "execution_count": 47,
   "id": "a0d350ec-6fa0-4626-8d81-b1fea08e682b",
   "metadata": {},
   "outputs": [
    {
     "data": {
      "text/plain": [
       "LogisticRegression(penalty='none', solver='newton-cg')"
      ]
     },
     "execution_count": 47,
     "metadata": {},
     "output_type": "execute_result"
    }
   ],
   "source": [
    "log_reg1.fit(X = X_train, y = y_train)"
   ]
  },
  {
   "cell_type": "code",
   "execution_count": 48,
   "id": "1793290a-c638-4908-87ea-6d2cb5217668",
   "metadata": {},
   "outputs": [],
   "source": [
    "y_pred = log_reg1.predict(X_test)"
   ]
  },
  {
   "cell_type": "code",
   "execution_count": 49,
   "id": "f029f27e-db92-4ab2-9b4e-c4c1ba65c9e8",
   "metadata": {},
   "outputs": [
    {
     "name": "stdout",
     "output_type": "stream",
     "text": [
      "              precision    recall  f1-score   support\n",
      "\n",
      "           0       0.96      0.97      0.96      6067\n",
      "           1       0.96      0.94      0.95      4721\n",
      "\n",
      "    accuracy                           0.96     10788\n",
      "   macro avg       0.96      0.96      0.96     10788\n",
      "weighted avg       0.96      0.96      0.96     10788\n",
      "\n"
     ]
    }
   ],
   "source": [
    "print(classification_report(y_test, y_pred))"
   ]
  },
  {
   "cell_type": "code",
   "execution_count": 50,
   "id": "11c83759-e2f8-449a-9351-75e1a8c58d89",
   "metadata": {},
   "outputs": [],
   "source": [
    "cf_matrix = confusion_matrix(y_test, y_pred)"
   ]
  },
  {
   "cell_type": "code",
   "execution_count": 51,
   "id": "edb17fe8-a104-401f-ae17-a6f2e7dc88c6",
   "metadata": {},
   "outputs": [
    {
     "data": {
      "text/plain": [
       "<AxesSubplot:>"
      ]
     },
     "execution_count": 51,
     "metadata": {},
     "output_type": "execute_result"
    },
    {
     "data": {
      "image/png": "[encoded data removed]",
      "text/plain": [
       "<Figure size 432x288 with 2 Axes>"
      ]
     },
     "metadata": {
      "needs_background": "light"
     },
     "output_type": "display_data"
    }
   ],
   "source": [
    "group_names = ['True Neg','False Pos','False Neg','True Pos']\n",
    "group_counts = [\"{0:0.0f}\".format(value) for value in\n",
    "                cf_matrix.flatten()]\n",
    "group_percentages = [\"{0:.2%}\".format(value) for value in\n",
    "                     cf_matrix.flatten()/np.sum(cf_matrix)]\n",
    "labels = [f\"{v1}\\n{v2}\\n{v3}\" for v1, v2, v3 in\n",
    "          zip(group_names,group_counts,group_percentages)]\n",
    "labels = np.asarray(labels).reshape(2,2)\n",
    "sns.heatmap(cf_matrix, annot=labels, fmt='', cmap='Blues')"
   ]
  },
  {
   "cell_type": "markdown",
   "id": "1ea7a2e2-23e0-4d04-9976-f7cbc24ebcb6",
   "metadata": {},
   "source": [
    "<p  style=\"color:#ff6633;\"> Yup, Lastly we will compare now results with Logistic Regression Model. This is little complex algorithm. We used cross validation folds as 5 and not any penalty. There is no best estimator for Logistic Regression Algorithm. As per Classification report, f1_score gave probability of non-expensive diamonds is 96% where as for expensive diamonds is 95%.  Prediction results has been displayed on Confusion Matrix as True positive 41.20% and True Negative as 54.61%. Model falsely predicted 1.63% as positive results and 2.56% as negative results. we observe on False Positive, its predicting wrongly less than other all models we saw till now.  Overall Logistic Regression model is providing pretty good prediction almost same as Gradient Boosting but definately better than Dicision Tree, Boosting Tree and Random Forest Classifies. \n",
    "\n",
    "<div style=\"color:#ff6633;\">Since Gradient boosting is a slow training model, and as per all the comparisons, we can come up to the conclusion that  Logistic Regression is the best model. </div></p>"
   ]
  },
  {
   "cell_type": "code",
   "execution_count": null,
   "id": "25e58332-0892-41da-94f5-276096a27a81",
   "metadata": {},
   "outputs": [],
   "source": []
  }
 ],
 "metadata": {
  "kernelspec": {
   "display_name": "Python 3 (ipykernel)",
   "language": "python",
   "name": "python3"
  },
  "language_info": {
   "codemirror_mode": {
    "name": "ipython",
    "version": 3
   },
   "file_extension": ".py",
   "mimetype": "text/x-python",
   "name": "python",
   "nbconvert_exporter": "python",
   "pygments_lexer": "ipython3",
   "version": "3.8.8"
  }
 },
 "nbformat": 4,
 "nbformat_minor": 5
}
