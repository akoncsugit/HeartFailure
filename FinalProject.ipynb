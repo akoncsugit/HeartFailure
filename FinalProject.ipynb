{
 "cells": [
  {
   "cell_type": "markdown",
   "id": "c7109262-a5a7-44ba-bc2f-a8dd9dce2b99",
   "metadata": {},
   "source": [
    "# <center>ST590 Final Project</center>\n",
    "\n",
    "#### <center>Pramodini Karwande and Ashley Ko </center>"
   ]
  },
  {
   "cell_type": "markdown",
   "id": "23cadf0a-3e68-4d97-964b-debb29b2942d",
   "metadata": {},
   "source": [
    "## Introduction"
   ]
  },
  {
   "cell_type": "markdown",
   "id": "1c9a713a-d400-4cdd-b99f-0502f845ad68",
   "metadata": {},
   "source": [
    "**This section is in progress. I have started writing some preliminary things that we can use to form an introductory section**\n"
   ]
  },
  {
   "cell_type": "markdown",
   "id": "4fac2a7c-0a41-457d-82b0-f537cab49d9b",
   "metadata": {},
   "source": [
    "\n",
    "We will be exploring data from `heart.csv`. It was obtained via kaggle.com. https://www.kaggle.com/datasets/fedesoriano/heart-failure-prediction\n",
    "\n",
    "We will be using this data set to classify individuals as either having heart disease or not. This is a binary data set.\n",
    "We will use a classification tree, bagging, and random forest to select and fit models and predict the presence of heart disease."
   ]
  },
  {
   "cell_type": "markdown",
   "id": "6bd3c6af-36c8-44b8-bf3f-990681eb47ea",
   "metadata": {},
   "source": [
    "## Supervised Learning Concepts"
   ]
  },
  {
   "cell_type": "code",
   "execution_count": null,
   "id": "805df1c0-77d0-4c1d-b931-2de70fec57a9",
   "metadata": {},
   "outputs": [],
   "source": [
    "## TO DO: DESCRIBE SUPERVISED LEARNING CONCEPTS"
   ]
  },
  {
   "cell_type": "markdown",
   "id": "0c0a5f08-88f1-444b-b06f-6e1b3c4a90b3",
   "metadata": {},
   "source": [
    "## Data Split"
   ]
  },
  {
   "cell_type": "code",
   "execution_count": null,
   "id": "b57eefe0-ac65-4cee-b3d9-7f374bd379d9",
   "metadata": {},
   "outputs": [],
   "source": [
    "## TO DO: CALL PACKAGES"
   ]
  },
  {
   "cell_type": "code",
   "execution_count": null,
   "id": "03539a13-68fc-4326-812f-ac1d9d060eff",
   "metadata": {},
   "outputs": [],
   "source": [
    "## TO DO: READ IN DATA HERE"
   ]
  },
  {
   "cell_type": "markdown",
   "id": "7c5ea49b-35f7-4b6a-a1f1-06f19db805ea",
   "metadata": {},
   "source": [
    "## Exploratory Data Analysis"
   ]
  },
  {
   "cell_type": "markdown",
   "id": "183d3980-89bc-4492-83ea-29b7db24a63d",
   "metadata": {},
   "source": [
    "### Numerical Summaries"
   ]
  },
  {
   "cell_type": "code",
   "execution_count": null,
   "id": "407f4ea4-9cb8-4f68-8f38-a540d7bb9d05",
   "metadata": {},
   "outputs": [],
   "source": []
  },
  {
   "cell_type": "markdown",
   "id": "66be8e13-35d3-4e06-8937-836f2af46411",
   "metadata": {},
   "source": [
    "### Graphical Summaries"
   ]
  },
  {
   "cell_type": "code",
   "execution_count": null,
   "id": "ad5b9f56-8918-4753-9690-6839e4443a67",
   "metadata": {},
   "outputs": [],
   "source": []
  },
  {
   "cell_type": "markdown",
   "id": "a100701b-a562-4747-b87f-89e3929c6029",
   "metadata": {},
   "source": [
    "## Modeling"
   ]
  },
  {
   "cell_type": "code",
   "execution_count": null,
   "id": "7855a74f-40ff-4fae-9354-09d80ce951ef",
   "metadata": {},
   "outputs": [],
   "source": []
  },
  {
   "cell_type": "code",
   "execution_count": null,
   "id": "c0ed2120-c429-4c88-91e9-8a414147b926",
   "metadata": {},
   "outputs": [],
   "source": [
    "### Classification Tree"
   ]
  },
  {
   "cell_type": "code",
   "execution_count": null,
   "id": "ba950c35-23db-4fa2-ae0a-6f436e6885a5",
   "metadata": {},
   "outputs": [],
   "source": [
    "### Random Forest"
   ]
  },
  {
   "cell_type": "code",
   "execution_count": null,
   "id": "767b6bd6-fe35-452d-a9fc-b53fd2ae3910",
   "metadata": {},
   "outputs": [],
   "source": []
  },
  {
   "cell_type": "markdown",
   "id": "11adbf63-b3ab-4fe4-a309-b26665bf2037",
   "metadata": {},
   "source": [
    "## Conclusion"
   ]
  }
 ],
 "metadata": {
  "kernelspec": {
   "display_name": "Python 3 (ipykernel)",
   "language": "python",
   "name": "python3"
  },
  "language_info": {
   "codemirror_mode": {
    "name": "ipython",
    "version": 3
   },
   "file_extension": ".py",
   "mimetype": "text/x-python",
   "name": "python",
   "nbconvert_exporter": "python",
   "pygments_lexer": "ipython3",
   "version": "3.10.1"
  }
 },
 "nbformat": 4,
 "nbformat_minor": 5
}
