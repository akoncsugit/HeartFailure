{
 "cells": [
  {
   "cell_type": "markdown",
   "id": "c7109262-a5a7-44ba-bc2f-a8dd9dce2b99",
   "metadata": {},
   "source": [
    "# <center>ST590 Final Project</center>\n",
    "\n",
    "#### <center>Pramodini Karwande and Ashley Ko </center>"
   ]
  },
  {
   "cell_type": "markdown",
   "id": "23cadf0a-3e68-4d97-964b-debb29b2942d",
   "metadata": {},
   "source": [
    "## Introduction"
   ]
  },
  {
   "cell_type": "markdown",
   "id": "1c9a713a-d400-4cdd-b99f-0502f845ad68",
   "metadata": {},
   "source": [
    "**This section is in progress. I have started writing some preliminary things that we can use to form an introductory section**\n"
   ]
  },
  {
   "cell_type": "markdown",
   "id": "4fac2a7c-0a41-457d-82b0-f537cab49d9b",
   "metadata": {},
   "source": [
    "\n",
    "We will be exploring data from `heart.csv`. It was obtained via kaggle.com. https://www.kaggle.com/datasets/fedesoriano/heart-failure-prediction\n",
    "\n",
    "We will be using this data set to classify individuals as either having heart disease or not. This is a binary data set.\n",
    "We will use a classification tree, bagging, random forest and logistic regression to select and fit models and predict the presence of heart disease."
   ]
  },
  {
   "cell_type": "markdown",
   "id": "6bd3c6af-36c8-44b8-bf3f-990681eb47ea",
   "metadata": {},
   "source": [
    "## Supervised Learning Concepts"
   ]
  },
  {
   "cell_type": "code",
   "execution_count": null,
   "id": "805df1c0-77d0-4c1d-b931-2de70fec57a9",
   "metadata": {},
   "outputs": [],
   "source": [
    "## TO DO: DESCRIBE SUPERVISED LEARNING CONCEPTS"
   ]
  },
  {
   "cell_type": "markdown",
   "id": "0c0a5f08-88f1-444b-b06f-6e1b3c4a90b3",
   "metadata": {},
   "source": [
    "## Data Split"
   ]
  },
  {
   "cell_type": "code",
   "execution_count": 54,
   "id": "b57eefe0-ac65-4cee-b3d9-7f374bd379d9",
   "metadata": {},
   "outputs": [],
   "source": [
    "## TO DO: CALL PACKAGES\n",
    "\n",
    "import os\n",
    "import sys\n",
    "os.environ['PYSPARK_PYTHON'] = sys.executable\n",
    "os.environ['PYSPARK_DRIVER_PYTHON'] = sys.executable\n",
    "\n",
    "import pandas as pd\n",
    "import numpy as np\n",
    "import pyspark.pandas as ps\n",
    "import matplotlib.pyplot as plt\n",
    "import seaborn as sns\n",
    "from pyspark.sql import SparkSession\n",
    "spark = SparkSession.builder.getOrCreate()"
   ]
  },
  {
   "cell_type": "markdown",
   "id": "0f004412-1a02-47bf-a0ac-49386a0135c7",
   "metadata": {},
   "source": [
    "<p  style=\"color:#ff6633;\"> Now read in a data set using `pandas on spark`</p>"
   ]
  },
  {
   "cell_type": "code",
   "execution_count": 18,
   "id": "03539a13-68fc-4326-812f-ac1d9d060eff",
   "metadata": {},
   "outputs": [
    {
     "data": {
      "text/html": [
       "<div>\n",
       "<style scoped>\n",
       "    .dataframe tbody tr th:only-of-type {\n",
       "        vertical-align: middle;\n",
       "    }\n",
       "\n",
       "    .dataframe tbody tr th {\n",
       "        vertical-align: top;\n",
       "    }\n",
       "\n",
       "    .dataframe thead th {\n",
       "        text-align: right;\n",
       "    }\n",
       "</style>\n",
       "<table border=\"1\" class=\"dataframe\">\n",
       "  <thead>\n",
       "    <tr style=\"text-align: right;\">\n",
       "      <th></th>\n",
       "      <th>Age</th>\n",
       "      <th>Sex</th>\n",
       "      <th>ChestPainType</th>\n",
       "      <th>RestingBP</th>\n",
       "      <th>Cholesterol</th>\n",
       "      <th>FastingBS</th>\n",
       "      <th>RestingECG</th>\n",
       "      <th>MaxHR</th>\n",
       "      <th>ExerciseAngina</th>\n",
       "      <th>Oldpeak</th>\n",
       "      <th>ST_Slope</th>\n",
       "      <th>HeartDisease</th>\n",
       "    </tr>\n",
       "  </thead>\n",
       "  <tbody>\n",
       "    <tr>\n",
       "      <th>0</th>\n",
       "      <td>40</td>\n",
       "      <td>M</td>\n",
       "      <td>ATA</td>\n",
       "      <td>140</td>\n",
       "      <td>289</td>\n",
       "      <td>0</td>\n",
       "      <td>Normal</td>\n",
       "      <td>172</td>\n",
       "      <td>N</td>\n",
       "      <td>0.0</td>\n",
       "      <td>Up</td>\n",
       "      <td>0</td>\n",
       "    </tr>\n",
       "    <tr>\n",
       "      <th>1</th>\n",
       "      <td>49</td>\n",
       "      <td>F</td>\n",
       "      <td>NAP</td>\n",
       "      <td>160</td>\n",
       "      <td>180</td>\n",
       "      <td>0</td>\n",
       "      <td>Normal</td>\n",
       "      <td>156</td>\n",
       "      <td>N</td>\n",
       "      <td>1.0</td>\n",
       "      <td>Flat</td>\n",
       "      <td>1</td>\n",
       "    </tr>\n",
       "    <tr>\n",
       "      <th>2</th>\n",
       "      <td>37</td>\n",
       "      <td>M</td>\n",
       "      <td>ATA</td>\n",
       "      <td>130</td>\n",
       "      <td>283</td>\n",
       "      <td>0</td>\n",
       "      <td>ST</td>\n",
       "      <td>98</td>\n",
       "      <td>N</td>\n",
       "      <td>0.0</td>\n",
       "      <td>Up</td>\n",
       "      <td>0</td>\n",
       "    </tr>\n",
       "    <tr>\n",
       "      <th>3</th>\n",
       "      <td>48</td>\n",
       "      <td>F</td>\n",
       "      <td>ASY</td>\n",
       "      <td>138</td>\n",
       "      <td>214</td>\n",
       "      <td>0</td>\n",
       "      <td>Normal</td>\n",
       "      <td>108</td>\n",
       "      <td>Y</td>\n",
       "      <td>1.5</td>\n",
       "      <td>Flat</td>\n",
       "      <td>1</td>\n",
       "    </tr>\n",
       "    <tr>\n",
       "      <th>4</th>\n",
       "      <td>54</td>\n",
       "      <td>M</td>\n",
       "      <td>NAP</td>\n",
       "      <td>150</td>\n",
       "      <td>195</td>\n",
       "      <td>0</td>\n",
       "      <td>Normal</td>\n",
       "      <td>122</td>\n",
       "      <td>N</td>\n",
       "      <td>0.0</td>\n",
       "      <td>Up</td>\n",
       "      <td>0</td>\n",
       "    </tr>\n",
       "  </tbody>\n",
       "</table>\n",
       "</div>"
      ],
      "text/plain": [
       "   Age Sex ChestPainType  RestingBP  Cholesterol  FastingBS RestingECG  MaxHR ExerciseAngina  Oldpeak ST_Slope  HeartDisease\n",
       "0   40   M           ATA        140          289          0     Normal    172              N      0.0       Up             0\n",
       "1   49   F           NAP        160          180          0     Normal    156              N      1.0     Flat             1\n",
       "2   37   M           ATA        130          283          0         ST     98              N      0.0       Up             0\n",
       "3   48   F           ASY        138          214          0     Normal    108              Y      1.5     Flat             1\n",
       "4   54   M           NAP        150          195          0     Normal    122              N      0.0       Up             0"
      ]
     },
     "execution_count": 18,
     "metadata": {},
     "output_type": "execute_result"
    }
   ],
   "source": [
    "## TO DO: READ IN DATA HERE\n",
    "psdf_heart = ps.read_csv(\"heart.csv\")\n",
    "psdf_heart.head()"
   ]
  },
  {
   "cell_type": "code",
   "execution_count": 19,
   "id": "0dd1d3c4-85f5-452a-9dc2-dcb5cd242d33",
   "metadata": {},
   "outputs": [
    {
     "name": "stdout",
     "output_type": "stream",
     "text": [
      "<class 'pyspark.pandas.frame.DataFrame'>\n",
      "Int64Index: 918 entries, 0 to 917\n",
      "Data columns (total 12 columns):\n",
      " #   Column          Non-Null Count  Dtype   \n",
      "---  ------          --------------  -----   \n",
      " 0   Age             918 non-null    int32   \n",
      " 1   Sex             918 non-null    category\n",
      " 2   ChestPainType   918 non-null    category\n",
      " 3   RestingBP       918 non-null    int32   \n",
      " 4   Cholesterol     918 non-null    int32   \n",
      " 5   FastingBS       918 non-null    int32   \n",
      " 6   RestingECG      918 non-null    category\n",
      " 7   MaxHR           918 non-null    int32   \n",
      " 8   ExerciseAngina  918 non-null    category\n",
      " 9   Oldpeak         918 non-null    float64 \n",
      " 10  ST_Slope        918 non-null    category\n",
      " 11  HeartDisease    918 non-null    category\n",
      "dtypes: category(6), float64(1), int32(5)"
     ]
    }
   ],
   "source": [
    "# convert categorical variables into `category` type variable\n",
    "psdf_heart.Sex = psdf_heart.Sex.astype(\"category\")\n",
    "psdf_heart.ChestPainType = psdf_heart.ChestPainType.astype(\"category\")\n",
    "psdf_heart.RestingECG = psdf_heart.RestingECG.astype(\"category\")\n",
    "psdf_heart.ExerciseAngina = psdf_heart.ExerciseAngina.astype(\"category\")\n",
    "psdf_heart.ST_Slope = psdf_heart.ST_Slope.astype(\"category\")\n",
    "psdf_heart.HeartDisease = psdf_heart.HeartDisease.astype(\"category\")\n",
    "\n",
    "psdf_heart.info()\n"
   ]
  },
  {
   "cell_type": "markdown",
   "id": "74200772-e709-4f68-9a9e-3b3b2c8e53c5",
   "metadata": {},
   "source": [
    "## Exploratory Data Analysis"
   ]
  },
  {
   "cell_type": "markdown",
   "id": "722d2d76-0c6a-4dc4-be4b-d106a32db76a",
   "metadata": {},
   "source": [
    "### Numerical Summaries"
   ]
  },
  {
   "cell_type": "markdown",
   "id": "cfe557d6-572a-4d47-b834-dd7618f91073",
   "metadata": {},
   "source": [
    "<p  style=\"color:#ff6633;\"> Let's first see any missing values to handle the data properly. </p>"
   ]
  },
  {
   "cell_type": "code",
   "execution_count": 33,
   "id": "ac0bb346-2942-4dd3-8e45-014d43b8ee0c",
   "metadata": {},
   "outputs": [
    {
     "name": "stdout",
     "output_type": "stream",
     "text": [
      "Age               0\n",
      "Sex               0\n",
      "ChestPainType     0\n",
      "RestingBP         0\n",
      "Cholesterol       0\n",
      "FastingBS         0\n",
      "RestingECG        0\n",
      "MaxHR             0\n",
      "ExerciseAngina    0\n",
      "Oldpeak           0\n",
      "ST_Slope          0\n",
      "HeartDisease      0\n",
      "dtype: int64\n"
     ]
    }
   ],
   "source": [
    "# check for null values\n",
    "print(psdf_heart.isnull().sum())"
   ]
  },
  {
   "cell_type": "markdown",
   "id": "be9bbdf9-2f41-4df2-8f07-11e21500db00",
   "metadata": {},
   "source": [
    "<p  style=\"color:#ff6633;\"> Using pandas-on-Spark, below is the summary for the variables : `Age`, `RestingBP`, `Cholesterol`, `MaxHR`, `Oldpeak` variables </p>"
   ]
  },
  {
   "cell_type": "code",
   "execution_count": 51,
   "id": "58188e48-6cb7-4629-8e59-bdc5b7267c72",
   "metadata": {},
   "outputs": [
    {
     "data": {
      "text/html": [
       "<div>\n",
       "<style scoped>\n",
       "    .dataframe tbody tr th:only-of-type {\n",
       "        vertical-align: middle;\n",
       "    }\n",
       "\n",
       "    .dataframe tbody tr th {\n",
       "        vertical-align: top;\n",
       "    }\n",
       "\n",
       "    .dataframe thead th {\n",
       "        text-align: right;\n",
       "    }\n",
       "</style>\n",
       "<table border=\"1\" class=\"dataframe\">\n",
       "  <thead>\n",
       "    <tr style=\"text-align: right;\">\n",
       "      <th></th>\n",
       "      <th>Age</th>\n",
       "      <th>RestingBP</th>\n",
       "      <th>Cholesterol</th>\n",
       "      <th>MaxHR</th>\n",
       "      <th>Oldpeak</th>\n",
       "    </tr>\n",
       "  </thead>\n",
       "  <tbody>\n",
       "    <tr>\n",
       "      <th>count</th>\n",
       "      <td>918.000000</td>\n",
       "      <td>918.000000</td>\n",
       "      <td>918.000000</td>\n",
       "      <td>918.000000</td>\n",
       "      <td>918.000000</td>\n",
       "    </tr>\n",
       "    <tr>\n",
       "      <th>mean</th>\n",
       "      <td>53.510893</td>\n",
       "      <td>132.396514</td>\n",
       "      <td>198.799564</td>\n",
       "      <td>136.809368</td>\n",
       "      <td>0.887364</td>\n",
       "    </tr>\n",
       "    <tr>\n",
       "      <th>std</th>\n",
       "      <td>9.432617</td>\n",
       "      <td>18.514154</td>\n",
       "      <td>109.384145</td>\n",
       "      <td>25.460334</td>\n",
       "      <td>1.066570</td>\n",
       "    </tr>\n",
       "    <tr>\n",
       "      <th>min</th>\n",
       "      <td>28.000000</td>\n",
       "      <td>0.000000</td>\n",
       "      <td>0.000000</td>\n",
       "      <td>60.000000</td>\n",
       "      <td>-2.600000</td>\n",
       "    </tr>\n",
       "    <tr>\n",
       "      <th>25%</th>\n",
       "      <td>47.000000</td>\n",
       "      <td>120.000000</td>\n",
       "      <td>173.000000</td>\n",
       "      <td>120.000000</td>\n",
       "      <td>0.000000</td>\n",
       "    </tr>\n",
       "    <tr>\n",
       "      <th>50%</th>\n",
       "      <td>54.000000</td>\n",
       "      <td>130.000000</td>\n",
       "      <td>223.000000</td>\n",
       "      <td>138.000000</td>\n",
       "      <td>0.600000</td>\n",
       "    </tr>\n",
       "    <tr>\n",
       "      <th>75%</th>\n",
       "      <td>60.000000</td>\n",
       "      <td>140.000000</td>\n",
       "      <td>267.000000</td>\n",
       "      <td>156.000000</td>\n",
       "      <td>1.500000</td>\n",
       "    </tr>\n",
       "    <tr>\n",
       "      <th>max</th>\n",
       "      <td>77.000000</td>\n",
       "      <td>200.000000</td>\n",
       "      <td>603.000000</td>\n",
       "      <td>202.000000</td>\n",
       "      <td>6.200000</td>\n",
       "    </tr>\n",
       "  </tbody>\n",
       "</table>\n",
       "</div>"
      ],
      "text/plain": [
       "              Age   RestingBP  Cholesterol       MaxHR     Oldpeak\n",
       "count  918.000000  918.000000   918.000000  918.000000  918.000000\n",
       "mean    53.510893  132.396514   198.799564  136.809368    0.887364\n",
       "std      9.432617   18.514154   109.384145   25.460334    1.066570\n",
       "min     28.000000    0.000000     0.000000   60.000000   -2.600000\n",
       "25%     47.000000  120.000000   173.000000  120.000000    0.000000\n",
       "50%     54.000000  130.000000   223.000000  138.000000    0.600000\n",
       "75%     60.000000  140.000000   267.000000  156.000000    1.500000\n",
       "max     77.000000  200.000000   603.000000  202.000000    6.200000"
      ]
     },
     "execution_count": 51,
     "metadata": {},
     "output_type": "execute_result"
    }
   ],
   "source": [
    "psdf_heart[['Age','RestingBP','Cholesterol','MaxHR','Oldpeak']].describe()"
   ]
  },
  {
   "cell_type": "markdown",
   "id": "fcfd9170-e821-4dc8-aa79-685dbc892978",
   "metadata": {},
   "source": [
    "<p  style=\"color:#ff6633;\"> Let's repeat above task to get mean and std for the given variables for HeartDisease based on sex. </p>"
   ]
  },
  {
   "cell_type": "code",
   "execution_count": 35,
   "id": "5caca6f2-cf19-4795-b6b7-d6f8437c085d",
   "metadata": {},
   "outputs": [
    {
     "data": {
      "text/html": [
       "<div>\n",
       "<style scoped>\n",
       "    .dataframe tbody tr th:only-of-type {\n",
       "        vertical-align: middle;\n",
       "    }\n",
       "\n",
       "    .dataframe tbody tr th {\n",
       "        vertical-align: top;\n",
       "    }\n",
       "\n",
       "    .dataframe thead tr th {\n",
       "        text-align: left;\n",
       "    }\n",
       "\n",
       "    .dataframe thead tr:last-of-type th {\n",
       "        text-align: right;\n",
       "    }\n",
       "</style>\n",
       "<table border=\"1\" class=\"dataframe\">\n",
       "  <thead>\n",
       "    <tr>\n",
       "      <th></th>\n",
       "      <th colspan=\"2\" halign=\"left\">Age</th>\n",
       "      <th colspan=\"2\" halign=\"left\">RestingBP</th>\n",
       "      <th colspan=\"2\" halign=\"left\">Cholesterol</th>\n",
       "      <th colspan=\"2\" halign=\"left\">MaxHR</th>\n",
       "      <th colspan=\"2\" halign=\"left\">Oldpeak</th>\n",
       "    </tr>\n",
       "    <tr>\n",
       "      <th></th>\n",
       "      <th>mean</th>\n",
       "      <th>std</th>\n",
       "      <th>mean</th>\n",
       "      <th>std</th>\n",
       "      <th>mean</th>\n",
       "      <th>std</th>\n",
       "      <th>mean</th>\n",
       "      <th>std</th>\n",
       "      <th>mean</th>\n",
       "      <th>std</th>\n",
       "    </tr>\n",
       "    <tr>\n",
       "      <th>HeartDisease</th>\n",
       "      <th></th>\n",
       "      <th></th>\n",
       "      <th></th>\n",
       "      <th></th>\n",
       "      <th></th>\n",
       "      <th></th>\n",
       "      <th></th>\n",
       "      <th></th>\n",
       "      <th></th>\n",
       "      <th></th>\n",
       "    </tr>\n",
       "  </thead>\n",
       "  <tbody>\n",
       "    <tr>\n",
       "      <th>1</th>\n",
       "      <td>55.899606</td>\n",
       "      <td>8.727056</td>\n",
       "      <td>134.185039</td>\n",
       "      <td>19.828685</td>\n",
       "      <td>175.940945</td>\n",
       "      <td>126.391398</td>\n",
       "      <td>127.655512</td>\n",
       "      <td>23.386923</td>\n",
       "      <td>1.274213</td>\n",
       "      <td>1.151872</td>\n",
       "    </tr>\n",
       "    <tr>\n",
       "      <th>0</th>\n",
       "      <td>50.551220</td>\n",
       "      <td>9.444915</td>\n",
       "      <td>130.180488</td>\n",
       "      <td>16.499585</td>\n",
       "      <td>227.121951</td>\n",
       "      <td>74.634659</td>\n",
       "      <td>148.151220</td>\n",
       "      <td>23.288067</td>\n",
       "      <td>0.408049</td>\n",
       "      <td>0.699709</td>\n",
       "    </tr>\n",
       "  </tbody>\n",
       "</table>\n",
       "</div>"
      ],
      "text/plain": [
       "                    Age             RestingBP            Cholesterol                   MaxHR              Oldpeak          \n",
       "                   mean       std        mean        std        mean         std        mean        std      mean       std\n",
       "HeartDisease                                                                                                               \n",
       "1             55.899606  8.727056  134.185039  19.828685  175.940945  126.391398  127.655512  23.386923  1.274213  1.151872\n",
       "0             50.551220  9.444915  130.180488  16.499585  227.121951   74.634659  148.151220  23.288067  0.408049  0.699709"
      ]
     },
     "execution_count": 35,
     "metadata": {},
     "output_type": "execute_result"
    }
   ],
   "source": [
    "psdf_heart_summ_group = psdf_heart.groupby('HeartDisease').agg({'Age': ['mean', 'std'], 'RestingBP': ['mean', 'std'], \\\n",
    "                                  'Cholesterol': ['mean', 'std'], 'MaxHR': ['mean', 'std'], \\\n",
    "                                  'Oldpeak': ['mean', 'std'] \\\n",
    "                          })\n",
    "psdf_heart_summ_group"
   ]
  },
  {
   "cell_type": "code",
   "execution_count": 36,
   "id": "d56755ef-57d7-47d0-9ab1-c6e49f6d7a95",
   "metadata": {},
   "outputs": [
    {
     "data": {
      "text/html": [
       "<div>\n",
       "<style scoped>\n",
       "    .dataframe tbody tr th:only-of-type {\n",
       "        vertical-align: middle;\n",
       "    }\n",
       "\n",
       "    .dataframe tbody tr th {\n",
       "        vertical-align: top;\n",
       "    }\n",
       "\n",
       "    .dataframe thead tr th {\n",
       "        text-align: left;\n",
       "    }\n",
       "\n",
       "    .dataframe thead tr:last-of-type th {\n",
       "        text-align: right;\n",
       "    }\n",
       "</style>\n",
       "<table border=\"1\" class=\"dataframe\">\n",
       "  <thead>\n",
       "    <tr>\n",
       "      <th></th>\n",
       "      <th colspan=\"2\" halign=\"left\">Age</th>\n",
       "      <th colspan=\"2\" halign=\"left\">RestingBP</th>\n",
       "      <th colspan=\"2\" halign=\"left\">Cholesterol</th>\n",
       "      <th colspan=\"2\" halign=\"left\">MaxHR</th>\n",
       "      <th colspan=\"2\" halign=\"left\">Oldpeak</th>\n",
       "    </tr>\n",
       "    <tr>\n",
       "      <th></th>\n",
       "      <th>mean</th>\n",
       "      <th>std</th>\n",
       "      <th>mean</th>\n",
       "      <th>std</th>\n",
       "      <th>mean</th>\n",
       "      <th>std</th>\n",
       "      <th>mean</th>\n",
       "      <th>std</th>\n",
       "      <th>mean</th>\n",
       "      <th>std</th>\n",
       "    </tr>\n",
       "    <tr>\n",
       "      <th>Sex</th>\n",
       "      <th></th>\n",
       "      <th></th>\n",
       "      <th></th>\n",
       "      <th></th>\n",
       "      <th></th>\n",
       "      <th></th>\n",
       "      <th></th>\n",
       "      <th></th>\n",
       "      <th></th>\n",
       "      <th></th>\n",
       "    </tr>\n",
       "  </thead>\n",
       "  <tbody>\n",
       "    <tr>\n",
       "      <th>M</th>\n",
       "      <td>53.782069</td>\n",
       "      <td>9.397864</td>\n",
       "      <td>132.445517</td>\n",
       "      <td>18.286739</td>\n",
       "      <td>187.513103</td>\n",
       "      <td>112.351444</td>\n",
       "      <td>134.325517</td>\n",
       "      <td>25.719191</td>\n",
       "      <td>0.945517</td>\n",
       "      <td>1.087154</td>\n",
       "    </tr>\n",
       "    <tr>\n",
       "      <th>F</th>\n",
       "      <td>52.492228</td>\n",
       "      <td>9.517593</td>\n",
       "      <td>132.212435</td>\n",
       "      <td>19.392638</td>\n",
       "      <td>241.196891</td>\n",
       "      <td>85.195441</td>\n",
       "      <td>146.139896</td>\n",
       "      <td>22.154902</td>\n",
       "      <td>0.668912</td>\n",
       "      <td>0.956865</td>\n",
       "    </tr>\n",
       "  </tbody>\n",
       "</table>\n",
       "</div>"
      ],
      "text/plain": [
       "           Age             RestingBP            Cholesterol                   MaxHR              Oldpeak          \n",
       "          mean       std        mean        std        mean         std        mean        std      mean       std\n",
       "Sex                                                                                                               \n",
       "M    53.782069  9.397864  132.445517  18.286739  187.513103  112.351444  134.325517  25.719191  0.945517  1.087154\n",
       "F    52.492228  9.517593  132.212435  19.392638  241.196891   85.195441  146.139896  22.154902  0.668912  0.956865"
      ]
     },
     "execution_count": 36,
     "metadata": {},
     "output_type": "execute_result"
    }
   ],
   "source": [
    "psdf_heart_summ_sex = psdf_heart.groupby('Sex').agg({'Age': ['mean', 'std'], 'RestingBP': ['mean', 'std'], \\\n",
    "                                  'Cholesterol': ['mean', 'std'], 'MaxHR': ['mean', 'std'], \\\n",
    "                                  'Oldpeak': ['mean', 'std'] \\\n",
    "                          })\n",
    "psdf_heart_summ_sex"
   ]
  },
  {
   "cell_type": "code",
   "execution_count": 67,
   "id": "7b665225-3e80-469b-a166-76be6d0ddde7",
   "metadata": {},
   "outputs": [
    {
     "name": "stderr",
     "output_type": "stream",
     "text": [
      "C:\\Users\\kar_d\\anaconda3\\lib\\site-packages\\pyspark\\pandas\\indexes\\base.py:589: UserWarning:\n",
      "\n",
      "We recommend using `CategoricalIndex.to_numpy()` instead.\n",
      "\n",
      "C:\\Users\\kar_d\\anaconda3\\lib\\site-packages\\pyspark\\pandas\\generic.py:638: UserWarning:\n",
      "\n",
      "We recommend using `Series.to_numpy()` instead.\n",
      "\n"
     ]
    },
    {
     "data": {
      "text/plain": [
       "<matplotlib.legend.Legend at 0x28bdd4a7f10>"
      ]
     },
     "execution_count": 67,
     "metadata": {},
     "output_type": "execute_result"
    },
    {
     "data": {
      "image/png": "[encoded data removed]",
      "text/plain": [
       "<Figure size 1080x576 with 2 Axes>"
      ]
     },
     "metadata": {
      "needs_background": "light"
     },
     "output_type": "display_data"
    }
   ],
   "source": [
    "# Using plots, we will observe the trend of means and std across the age\n",
    "\n",
    "figure, axis = plt.subplots(1, 2,figsize=(15, 8))\n",
    "\n",
    "axis[0].plot(psdf_heart_summ_group[('Age', 'mean')], label = \"Age\")\n",
    "axis[0].plot(psdf_heart_summ_group[('RestingBP', 'mean')], label = \"RestingBP\")\n",
    "axis[0].plot(psdf_heart_summ_group[('Cholesterol', 'mean')], label = \"Cholesterol\")\n",
    "axis[0].plot(psdf_heart_summ_group[('MaxHR', 'mean')], label = \"MaxHR\")\n",
    "axis[0].plot(psdf_heart_summ_group[('Oldpeak', 'mean')], label = \"Oldpeak\")\n",
    "\n",
    "axis[0].set_title(\"Means Across Heart Disease\")\n",
    "\n",
    "axis[1].plot(psdf_heart_summ_group[('Age', 'std')], label = \"Age\")\n",
    "axis[1].plot(psdf_heart_summ_group[('RestingBP', 'std')], label = \"RestingBP\")\n",
    "axis[1].plot(psdf_heart_summ_group[('Cholesterol', 'std')], label = \"Cholesterol\")\n",
    "axis[1].plot(psdf_heart_summ_group[('MaxHR', 'std')], label = \"MaxHR\")\n",
    "axis[1].plot(psdf_heart_summ_group[('Oldpeak', 'std')], label = \"Oldpeak\")\n",
    "\n",
    "axis[1].set_title(\"Standard Deviations Across Heart Disease\")\n",
    "\n",
    "plt.legend()"
   ]
  },
  {
   "cell_type": "code",
   "execution_count": 73,
   "id": "55336b82-0051-4acf-b023-98c33e1cab3a",
   "metadata": {},
   "outputs": [
    {
     "data": {
      "application/vnd.plotly.v1+json": {
       "config": {
        "plotlyServerURL": "https://plot.ly"
       },
       "data": [
        {
         "hovertemplate": "variable=Age<br>value=%{text}<br>count=%{y}",
         "name": "Age",
         "text": [
          "[-2.6, 199.266666667)",
          "[199.266666667, 401.133333333)",
          "[401.133333333, 603.0]"
         ],
         "type": "bar",
         "x": [
          98.33333333333334,
          300.2,
          502.06666666666666
         ],
         "y": [
          918,
          0,
          0
         ]
        },
        {
         "hovertemplate": "variable=Sex<br>value=%{text}<br>count=%{y}",
         "name": "Sex",
         "text": [
          "[-2.6, 199.266666667)",
          "[199.266666667, 401.133333333)",
          "[401.133333333, 603.0]"
         ],
         "type": "bar",
         "x": [
          98.33333333333334,
          300.2,
          502.06666666666666
         ],
         "y": [
          918,
          0,
          0
         ]
        },
        {
         "hovertemplate": "variable=ChestPainType<br>value=%{text}<br>count=%{y}",
         "name": "ChestPainType",
         "text": [
          "[-2.6, 199.266666667)",
          "[199.266666667, 401.133333333)",
          "[401.133333333, 603.0]"
         ],
         "type": "bar",
         "x": [
          98.33333333333334,
          300.2,
          502.06666666666666
         ],
         "y": [
          918,
          0,
          0
         ]
        },
        {
         "hovertemplate": "variable=RestingBP<br>value=%{text}<br>count=%{y}",
         "name": "RestingBP",
         "text": [
          "[-2.6, 199.266666667)",
          "[199.266666667, 401.133333333)",
          "[401.133333333, 603.0]"
         ],
         "type": "bar",
         "x": [
          98.33333333333334,
          300.2,
          502.06666666666666
         ],
         "y": [
          914,
          4,
          0
         ]
        },
        {
         "hovertemplate": "variable=Cholesterol<br>value=%{text}<br>count=%{y}",
         "name": "Cholesterol",
         "text": [
          "[-2.6, 199.266666667)",
          "[199.266666667, 401.133333333)",
          "[401.133333333, 603.0]"
         ],
         "type": "bar",
         "x": [
          98.33333333333334,
          300.2,
          502.06666666666666
         ],
         "y": [
          318,
          587,
          13
         ]
        },
        {
         "hovertemplate": "variable=FastingBS<br>value=%{text}<br>count=%{y}",
         "name": "FastingBS",
         "text": [
          "[-2.6, 199.266666667)",
          "[199.266666667, 401.133333333)",
          "[401.133333333, 603.0]"
         ],
         "type": "bar",
         "x": [
          98.33333333333334,
          300.2,
          502.06666666666666
         ],
         "y": [
          918,
          0,
          0
         ]
        },
        {
         "hovertemplate": "variable=RestingECG<br>value=%{text}<br>count=%{y}",
         "name": "RestingECG",
         "text": [
          "[-2.6, 199.266666667)",
          "[199.266666667, 401.133333333)",
          "[401.133333333, 603.0]"
         ],
         "type": "bar",
         "x": [
          98.33333333333334,
          300.2,
          502.06666666666666
         ],
         "y": [
          918,
          0,
          0
         ]
        },
        {
         "hovertemplate": "variable=MaxHR<br>value=%{text}<br>count=%{y}",
         "name": "MaxHR",
         "text": [
          "[-2.6, 199.266666667)",
          "[199.266666667, 401.133333333)",
          "[401.133333333, 603.0]"
         ],
         "type": "bar",
         "x": [
          98.33333333333334,
          300.2,
          502.06666666666666
         ],
         "y": [
          917,
          1,
          0
         ]
        },
        {
         "hovertemplate": "variable=ExerciseAngina<br>value=%{text}<br>count=%{y}",
         "name": "ExerciseAngina",
         "text": [
          "[-2.6, 199.266666667)",
          "[199.266666667, 401.133333333)",
          "[401.133333333, 603.0]"
         ],
         "type": "bar",
         "x": [
          98.33333333333334,
          300.2,
          502.06666666666666
         ],
         "y": [
          918,
          0,
          0
         ]
        },
        {
         "hovertemplate": "variable=Oldpeak<br>value=%{text}<br>count=%{y}",
         "name": "Oldpeak",
         "text": [
          "[-2.6, 199.266666667)",
          "[199.266666667, 401.133333333)",
          "[401.133333333, 603.0]"
         ],
         "type": "bar",
         "x": [
          98.33333333333334,
          300.2,
          502.06666666666666
         ],
         "y": [
          918,
          0,
          0
         ]
        },
        {
         "hovertemplate": "variable=ST_Slope<br>value=%{text}<br>count=%{y}",
         "name": "ST_Slope",
         "text": [
          "[-2.6, 199.266666667)",
          "[199.266666667, 401.133333333)",
          "[401.133333333, 603.0]"
         ],
         "type": "bar",
         "x": [
          98.33333333333334,
          300.2,
          502.06666666666666
         ],
         "y": [
          918,
          0,
          0
         ]
        },
        {
         "hovertemplate": "variable=HeartDisease<br>value=%{text}<br>count=%{y}",
         "name": "HeartDisease",
         "text": [
          "[-2.6, 199.266666667)",
          "[199.266666667, 401.133333333)",
          "[401.133333333, 603.0]"
         ],
         "type": "bar",
         "x": [
          98.33333333333334,
          300.2,
          502.06666666666666
         ],
         "y": [
          918,
          0,
          0
         ]
        }
       ],
       "layout": {
        "autosize": true,
        "barmode": "stack",
        "template": {
         "data": {
          "bar": [
           {
            "error_x": {
             "color": "#2a3f5f"
            },
            "error_y": {
             "color": "#2a3f5f"
            },
            "marker": {
             "line": {
              "color": "#E5ECF6",
              "width": 0.5
             },
             "pattern": {
              "fillmode": "overlay",
              "size": 10,
              "solidity": 0.2
             }
            },
            "type": "bar"
           }
          ],
          "barpolar": [
           {
            "marker": {
             "line": {
              "color": "#E5ECF6",
              "width": 0.5
             },
             "pattern": {
              "fillmode": "overlay",
              "size": 10,
              "solidity": 0.2
             }
            },
            "type": "barpolar"
           }
          ],
          "carpet": [
           {
            "aaxis": {
             "endlinecolor": "#2a3f5f",
             "gridcolor": "white",
             "linecolor": "white",
             "minorgridcolor": "white",
             "startlinecolor": "#2a3f5f"
            },
            "baxis": {
             "endlinecolor": "#2a3f5f",
             "gridcolor": "white",
             "linecolor": "white",
             "minorgridcolor": "white",
             "startlinecolor": "#2a3f5f"
            },
            "type": "carpet"
           }
          ],
          "choropleth": [
           {
            "colorbar": {
             "outlinewidth": 0,
             "ticks": ""
            },
            "type": "choropleth"
           }
          ],
          "contour": [
           {
            "colorbar": {
             "outlinewidth": 0,
             "ticks": ""
            },
            "colorscale": [
             [
              0,
              "#0d0887"
             ],
             [
              0.1111111111111111,
              "#46039f"
             ],
             [
              0.2222222222222222,
              "#7201a8"
             ],
             [
              0.3333333333333333,
              "#9c179e"
             ],
             [
              0.4444444444444444,
              "#bd3786"
             ],
             [
              0.5555555555555556,
              "#d8576b"
             ],
             [
              0.6666666666666666,
              "#ed7953"
             ],
             [
              0.7777777777777778,
              "#fb9f3a"
             ],
             [
              0.8888888888888888,
              "#fdca26"
             ],
             [
              1,
              "#f0f921"
             ]
            ],
            "type": "contour"
           }
          ],
          "contourcarpet": [
           {
            "colorbar": {
             "outlinewidth": 0,
             "ticks": ""
            },
            "type": "contourcarpet"
           }
          ],
          "heatmap": [
           {
            "colorbar": {
             "outlinewidth": 0,
             "ticks": ""
            },
            "colorscale": [
             [
              0,
              "#0d0887"
             ],
             [
              0.1111111111111111,
              "#46039f"
             ],
             [
              0.2222222222222222,
              "#7201a8"
             ],
             [
              0.3333333333333333,
              "#9c179e"
             ],
             [
              0.4444444444444444,
              "#bd3786"
             ],
             [
              0.5555555555555556,
              "#d8576b"
             ],
             [
              0.6666666666666666,
              "#ed7953"
             ],
             [
              0.7777777777777778,
              "#fb9f3a"
             ],
             [
              0.8888888888888888,
              "#fdca26"
             ],
             [
              1,
              "#f0f921"
             ]
            ],
            "type": "heatmap"
           }
          ],
          "heatmapgl": [
           {
            "colorbar": {
             "outlinewidth": 0,
             "ticks": ""
            },
            "colorscale": [
             [
              0,
              "#0d0887"
             ],
             [
              0.1111111111111111,
              "#46039f"
             ],
             [
              0.2222222222222222,
              "#7201a8"
             ],
             [
              0.3333333333333333,
              "#9c179e"
             ],
             [
              0.4444444444444444,
              "#bd3786"
             ],
             [
              0.5555555555555556,
              "#d8576b"
             ],
             [
              0.6666666666666666,
              "#ed7953"
             ],
             [
              0.7777777777777778,
              "#fb9f3a"
             ],
             [
              0.8888888888888888,
              "#fdca26"
             ],
             [
              1,
              "#f0f921"
             ]
            ],
            "type": "heatmapgl"
           }
          ],
          "histogram": [
           {
            "marker": {
             "pattern": {
              "fillmode": "overlay",
              "size": 10,
              "solidity": 0.2
             }
            },
            "type": "histogram"
           }
          ],
          "histogram2d": [
           {
            "colorbar": {
             "outlinewidth": 0,
             "ticks": ""
            },
            "colorscale": [
             [
              0,
              "#0d0887"
             ],
             [
              0.1111111111111111,
              "#46039f"
             ],
             [
              0.2222222222222222,
              "#7201a8"
             ],
             [
              0.3333333333333333,
              "#9c179e"
             ],
             [
              0.4444444444444444,
              "#bd3786"
             ],
             [
              0.5555555555555556,
              "#d8576b"
             ],
             [
              0.6666666666666666,
              "#ed7953"
             ],
             [
              0.7777777777777778,
              "#fb9f3a"
             ],
             [
              0.8888888888888888,
              "#fdca26"
             ],
             [
              1,
              "#f0f921"
             ]
            ],
            "type": "histogram2d"
           }
          ],
          "histogram2dcontour": [
           {
            "colorbar": {
             "outlinewidth": 0,
             "ticks": ""
            },
            "colorscale": [
             [
              0,
              "#0d0887"
             ],
             [
              0.1111111111111111,
              "#46039f"
             ],
             [
              0.2222222222222222,
              "#7201a8"
             ],
             [
              0.3333333333333333,
              "#9c179e"
             ],
             [
              0.4444444444444444,
              "#bd3786"
             ],
             [
              0.5555555555555556,
              "#d8576b"
             ],
             [
              0.6666666666666666,
              "#ed7953"
             ],
             [
              0.7777777777777778,
              "#fb9f3a"
             ],
             [
              0.8888888888888888,
              "#fdca26"
             ],
             [
              1,
              "#f0f921"
             ]
            ],
            "type": "histogram2dcontour"
           }
          ],
          "mesh3d": [
           {
            "colorbar": {
             "outlinewidth": 0,
             "ticks": ""
            },
            "type": "mesh3d"
           }
          ],
          "parcoords": [
           {
            "line": {
             "colorbar": {
              "outlinewidth": 0,
              "ticks": ""
             }
            },
            "type": "parcoords"
           }
          ],
          "pie": [
           {
            "automargin": true,
            "type": "pie"
           }
          ],
          "scatter": [
           {
            "marker": {
             "colorbar": {
              "outlinewidth": 0,
              "ticks": ""
             }
            },
            "type": "scatter"
           }
          ],
          "scatter3d": [
           {
            "line": {
             "colorbar": {
              "outlinewidth": 0,
              "ticks": ""
             }
            },
            "marker": {
             "colorbar": {
              "outlinewidth": 0,
              "ticks": ""
             }
            },
            "type": "scatter3d"
           }
          ],
          "scattercarpet": [
           {
            "marker": {
             "colorbar": {
              "outlinewidth": 0,
              "ticks": ""
             }
            },
            "type": "scattercarpet"
           }
          ],
          "scattergeo": [
           {
            "marker": {
             "colorbar": {
              "outlinewidth": 0,
              "ticks": ""
             }
            },
            "type": "scattergeo"
           }
          ],
          "scattergl": [
           {
            "marker": {
             "colorbar": {
              "outlinewidth": 0,
              "ticks": ""
             }
            },
            "type": "scattergl"
           }
          ],
          "scattermapbox": [
           {
            "marker": {
             "colorbar": {
              "outlinewidth": 0,
              "ticks": ""
             }
            },
            "type": "scattermapbox"
           }
          ],
          "scatterpolar": [
           {
            "marker": {
             "colorbar": {
              "outlinewidth": 0,
              "ticks": ""
             }
            },
            "type": "scatterpolar"
           }
          ],
          "scatterpolargl": [
           {
            "marker": {
             "colorbar": {
              "outlinewidth": 0,
              "ticks": ""
             }
            },
            "type": "scatterpolargl"
           }
          ],
          "scatterternary": [
           {
            "marker": {
             "colorbar": {
              "outlinewidth": 0,
              "ticks": ""
             }
            },
            "type": "scatterternary"
           }
          ],
          "surface": [
           {
            "colorbar": {
             "outlinewidth": 0,
             "ticks": ""
            },
            "colorscale": [
             [
              0,
              "#0d0887"
             ],
             [
              0.1111111111111111,
              "#46039f"
             ],
             [
              0.2222222222222222,
              "#7201a8"
             ],
             [
              0.3333333333333333,
              "#9c179e"
             ],
             [
              0.4444444444444444,
              "#bd3786"
             ],
             [
              0.5555555555555556,
              "#d8576b"
             ],
             [
              0.6666666666666666,
              "#ed7953"
             ],
             [
              0.7777777777777778,
              "#fb9f3a"
             ],
             [
              0.8888888888888888,
              "#fdca26"
             ],
             [
              1,
              "#f0f921"
             ]
            ],
            "type": "surface"
           }
          ],
          "table": [
           {
            "cells": {
             "fill": {
              "color": "#EBF0F8"
             },
             "line": {
              "color": "white"
             }
            },
            "header": {
             "fill": {
              "color": "#C8D4E3"
             },
             "line": {
              "color": "white"
             }
            },
            "type": "table"
           }
          ]
         },
         "layout": {
          "annotationdefaults": {
           "arrowcolor": "#2a3f5f",
           "arrowhead": 0,
           "arrowwidth": 1
          },
          "autotypenumbers": "strict",
          "coloraxis": {
           "colorbar": {
            "outlinewidth": 0,
            "ticks": ""
           }
          },
          "colorscale": {
           "diverging": [
            [
             0,
             "#8e0152"
            ],
            [
             0.1,
             "#c51b7d"
            ],
            [
             0.2,
             "#de77ae"
            ],
            [
             0.3,
             "#f1b6da"
            ],
            [
             0.4,
             "#fde0ef"
            ],
            [
             0.5,
             "#f7f7f7"
            ],
            [
             0.6,
             "#e6f5d0"
            ],
            [
             0.7,
             "#b8e186"
            ],
            [
             0.8,
             "#7fbc41"
            ],
            [
             0.9,
             "#4d9221"
            ],
            [
             1,
             "#276419"
            ]
           ],
           "sequential": [
            [
             0,
             "#0d0887"
            ],
            [
             0.1111111111111111,
             "#46039f"
            ],
            [
             0.2222222222222222,
             "#7201a8"
            ],
            [
             0.3333333333333333,
             "#9c179e"
            ],
            [
             0.4444444444444444,
             "#bd3786"
            ],
            [
             0.5555555555555556,
             "#d8576b"
            ],
            [
             0.6666666666666666,
             "#ed7953"
            ],
            [
             0.7777777777777778,
             "#fb9f3a"
            ],
            [
             0.8888888888888888,
             "#fdca26"
            ],
            [
             1,
             "#f0f921"
            ]
           ],
           "sequentialminus": [
            [
             0,
             "#0d0887"
            ],
            [
             0.1111111111111111,
             "#46039f"
            ],
            [
             0.2222222222222222,
             "#7201a8"
            ],
            [
             0.3333333333333333,
             "#9c179e"
            ],
            [
             0.4444444444444444,
             "#bd3786"
            ],
            [
             0.5555555555555556,
             "#d8576b"
            ],
            [
             0.6666666666666666,
             "#ed7953"
            ],
            [
             0.7777777777777778,
             "#fb9f3a"
            ],
            [
             0.8888888888888888,
             "#fdca26"
            ],
            [
             1,
             "#f0f921"
            ]
           ]
          },
          "colorway": [
           "#636efa",
           "#EF553B",
           "#00cc96",
           "#ab63fa",
           "#FFA15A",
           "#19d3f3",
           "#FF6692",
           "#B6E880",
           "#FF97FF",
           "#FECB52"
          ],
          "font": {
           "color": "#2a3f5f"
          },
          "geo": {
           "bgcolor": "white",
           "lakecolor": "white",
           "landcolor": "#E5ECF6",
           "showlakes": true,
           "showland": true,
           "subunitcolor": "white"
          },
          "hoverlabel": {
           "align": "left"
          },
          "hovermode": "closest",
          "mapbox": {
           "style": "light"
          },
          "paper_bgcolor": "white",
          "plot_bgcolor": "#E5ECF6",
          "polar": {
           "angularaxis": {
            "gridcolor": "white",
            "linecolor": "white",
            "ticks": ""
           },
           "bgcolor": "#E5ECF6",
           "radialaxis": {
            "gridcolor": "white",
            "linecolor": "white",
            "ticks": ""
           }
          },
          "scene": {
           "xaxis": {
            "backgroundcolor": "#E5ECF6",
            "gridcolor": "white",
            "gridwidth": 2,
            "linecolor": "white",
            "showbackground": true,
            "ticks": "",
            "zerolinecolor": "white"
           },
           "yaxis": {
            "backgroundcolor": "#E5ECF6",
            "gridcolor": "white",
            "gridwidth": 2,
            "linecolor": "white",
            "showbackground": true,
            "ticks": "",
            "zerolinecolor": "white"
           },
           "zaxis": {
            "backgroundcolor": "#E5ECF6",
            "gridcolor": "white",
            "gridwidth": 2,
            "linecolor": "white",
            "showbackground": true,
            "ticks": "",
            "zerolinecolor": "white"
           }
          },
          "shapedefaults": {
           "line": {
            "color": "#2a3f5f"
           }
          },
          "ternary": {
           "aaxis": {
            "gridcolor": "white",
            "linecolor": "white",
            "ticks": ""
           },
           "baxis": {
            "gridcolor": "white",
            "linecolor": "white",
            "ticks": ""
           },
           "bgcolor": "#E5ECF6",
           "caxis": {
            "gridcolor": "white",
            "linecolor": "white",
            "ticks": ""
           }
          },
          "title": {
           "x": 0.05
          },
          "xaxis": {
           "automargin": true,
           "gridcolor": "white",
           "linecolor": "white",
           "ticks": "",
           "title": {
            "standoff": 15
           },
           "zerolinecolor": "white",
           "zerolinewidth": 2
          },
          "yaxis": {
           "automargin": true,
           "gridcolor": "white",
           "linecolor": "white",
           "ticks": "",
           "title": {
            "standoff": 15
           },
           "zerolinecolor": "white",
           "zerolinewidth": 2
          }
         }
        },
        "xaxis": {
         "autorange": true,
         "range": [
          -2.59999999999998,
          603
         ],
         "title": {
          "text": "value"
         },
         "type": "linear"
        },
        "yaxis": {
         "autorange": true,
         "range": [
          0,
          10958.947368421053
         ],
         "title": {
          "text": "count"
         },
         "type": "linear"
        }
       }
      },
      "image/png": "[encoded data removed]",
      "text/html": [
       "<div>                            <div id=\"aa3399d9-382d-4f44-a476-c0b0a6c09c54\" class=\"plotly-graph-div\" style=\"height:525px; width:100%;\"></div>            <script type=\"text/javascript\">                require([\"plotly\"], function(Plotly) {                    window.PLOTLYENV=window.PLOTLYENV || {};                                    if (document.getElementById(\"aa3399d9-382d-4f44-a476-c0b0a6c09c54\")) {                    Plotly.newPlot(                        \"aa3399d9-382d-4f44-a476-c0b0a6c09c54\",                        [{\"hovertemplate\":\"variable=Age<br>value=%{text}<br>count=%{y}\",\"name\":\"Age\",\"text\":[\"[-2.6, 199.266666667)\",\"[199.266666667, 401.133333333)\",\"[401.133333333, 603.0]\"],\"x\":[98.33333333333334,300.2,502.06666666666666],\"y\":[918.0,0.0,0.0],\"type\":\"bar\"},{\"hovertemplate\":\"variable=Sex<br>value=%{text}<br>count=%{y}\",\"name\":\"Sex\",\"text\":[\"[-2.6, 199.266666667)\",\"[199.266666667, 401.133333333)\",\"[401.133333333, 603.0]\"],\"x\":[98.33333333333334,300.2,502.06666666666666],\"y\":[918.0,0.0,0.0],\"type\":\"bar\"},{\"hovertemplate\":\"variable=ChestPainType<br>value=%{text}<br>count=%{y}\",\"name\":\"ChestPainType\",\"text\":[\"[-2.6, 199.266666667)\",\"[199.266666667, 401.133333333)\",\"[401.133333333, 603.0]\"],\"x\":[98.33333333333334,300.2,502.06666666666666],\"y\":[918.0,0.0,0.0],\"type\":\"bar\"},{\"hovertemplate\":\"variable=RestingBP<br>value=%{text}<br>count=%{y}\",\"name\":\"RestingBP\",\"text\":[\"[-2.6, 199.266666667)\",\"[199.266666667, 401.133333333)\",\"[401.133333333, 603.0]\"],\"x\":[98.33333333333334,300.2,502.06666666666666],\"y\":[914.0,4.0,0.0],\"type\":\"bar\"},{\"hovertemplate\":\"variable=Cholesterol<br>value=%{text}<br>count=%{y}\",\"name\":\"Cholesterol\",\"text\":[\"[-2.6, 199.266666667)\",\"[199.266666667, 401.133333333)\",\"[401.133333333, 603.0]\"],\"x\":[98.33333333333334,300.2,502.06666666666666],\"y\":[318,587,13],\"type\":\"bar\"},{\"hovertemplate\":\"variable=FastingBS<br>value=%{text}<br>count=%{y}\",\"name\":\"FastingBS\",\"text\":[\"[-2.6, 199.266666667)\",\"[199.266666667, 401.133333333)\",\"[401.133333333, 603.0]\"],\"x\":[98.33333333333334,300.2,502.06666666666666],\"y\":[918.0,0.0,0.0],\"type\":\"bar\"},{\"hovertemplate\":\"variable=RestingECG<br>value=%{text}<br>count=%{y}\",\"name\":\"RestingECG\",\"text\":[\"[-2.6, 199.266666667)\",\"[199.266666667, 401.133333333)\",\"[401.133333333, 603.0]\"],\"x\":[98.33333333333334,300.2,502.06666666666666],\"y\":[918.0,0.0,0.0],\"type\":\"bar\"},{\"hovertemplate\":\"variable=MaxHR<br>value=%{text}<br>count=%{y}\",\"name\":\"MaxHR\",\"text\":[\"[-2.6, 199.266666667)\",\"[199.266666667, 401.133333333)\",\"[401.133333333, 603.0]\"],\"x\":[98.33333333333334,300.2,502.06666666666666],\"y\":[917.0,1.0,0.0],\"type\":\"bar\"},{\"hovertemplate\":\"variable=ExerciseAngina<br>value=%{text}<br>count=%{y}\",\"name\":\"ExerciseAngina\",\"text\":[\"[-2.6, 199.266666667)\",\"[199.266666667, 401.133333333)\",\"[401.133333333, 603.0]\"],\"x\":[98.33333333333334,300.2,502.06666666666666],\"y\":[918.0,0.0,0.0],\"type\":\"bar\"},{\"hovertemplate\":\"variable=Oldpeak<br>value=%{text}<br>count=%{y}\",\"name\":\"Oldpeak\",\"text\":[\"[-2.6, 199.266666667)\",\"[199.266666667, 401.133333333)\",\"[401.133333333, 603.0]\"],\"x\":[98.33333333333334,300.2,502.06666666666666],\"y\":[918.0,0.0,0.0],\"type\":\"bar\"},{\"hovertemplate\":\"variable=ST_Slope<br>value=%{text}<br>count=%{y}\",\"name\":\"ST_Slope\",\"text\":[\"[-2.6, 199.266666667)\",\"[199.266666667, 401.133333333)\",\"[401.133333333, 603.0]\"],\"x\":[98.33333333333334,300.2,502.06666666666666],\"y\":[918.0,0.0,0.0],\"type\":\"bar\"},{\"hovertemplate\":\"variable=HeartDisease<br>value=%{text}<br>count=%{y}\",\"name\":\"HeartDisease\",\"text\":[\"[-2.6, 199.266666667)\",\"[199.266666667, 401.133333333)\",\"[401.133333333, 603.0]\"],\"x\":[98.33333333333334,300.2,502.06666666666666],\"y\":[918.0,0.0,0.0],\"type\":\"bar\"}],                        {\"barmode\":\"stack\",\"template\":{\"data\":{\"bar\":[{\"error_x\":{\"color\":\"#2a3f5f\"},\"error_y\":{\"color\":\"#2a3f5f\"},\"marker\":{\"line\":{\"color\":\"#E5ECF6\",\"width\":0.5},\"pattern\":{\"fillmode\":\"overlay\",\"size\":10,\"solidity\":0.2}},\"type\":\"bar\"}],\"barpolar\":[{\"marker\":{\"line\":{\"color\":\"#E5ECF6\",\"width\":0.5},\"pattern\":{\"fillmode\":\"overlay\",\"size\":10,\"solidity\":0.2}},\"type\":\"barpolar\"}],\"carpet\":[{\"aaxis\":{\"endlinecolor\":\"#2a3f5f\",\"gridcolor\":\"white\",\"linecolor\":\"white\",\"minorgridcolor\":\"white\",\"startlinecolor\":\"#2a3f5f\"},\"baxis\":{\"endlinecolor\":\"#2a3f5f\",\"gridcolor\":\"white\",\"linecolor\":\"white\",\"minorgridcolor\":\"white\",\"startlinecolor\":\"#2a3f5f\"},\"type\":\"carpet\"}],\"choropleth\":[{\"colorbar\":{\"outlinewidth\":0,\"ticks\":\"\"},\"type\":\"choropleth\"}],\"contour\":[{\"colorbar\":{\"outlinewidth\":0,\"ticks\":\"\"},\"colorscale\":[[0.0,\"#0d0887\"],[0.1111111111111111,\"#46039f\"],[0.2222222222222222,\"#7201a8\"],[0.3333333333333333,\"#9c179e\"],[0.4444444444444444,\"#bd3786\"],[0.5555555555555556,\"#d8576b\"],[0.6666666666666666,\"#ed7953\"],[0.7777777777777778,\"#fb9f3a\"],[0.8888888888888888,\"#fdca26\"],[1.0,\"#f0f921\"]],\"type\":\"contour\"}],\"contourcarpet\":[{\"colorbar\":{\"outlinewidth\":0,\"ticks\":\"\"},\"type\":\"contourcarpet\"}],\"heatmap\":[{\"colorbar\":{\"outlinewidth\":0,\"ticks\":\"\"},\"colorscale\":[[0.0,\"#0d0887\"],[0.1111111111111111,\"#46039f\"],[0.2222222222222222,\"#7201a8\"],[0.3333333333333333,\"#9c179e\"],[0.4444444444444444,\"#bd3786\"],[0.5555555555555556,\"#d8576b\"],[0.6666666666666666,\"#ed7953\"],[0.7777777777777778,\"#fb9f3a\"],[0.8888888888888888,\"#fdca26\"],[1.0,\"#f0f921\"]],\"type\":\"heatmap\"}],\"heatmapgl\":[{\"colorbar\":{\"outlinewidth\":0,\"ticks\":\"\"},\"colorscale\":[[0.0,\"#0d0887\"],[0.1111111111111111,\"#46039f\"],[0.2222222222222222,\"#7201a8\"],[0.3333333333333333,\"#9c179e\"],[0.4444444444444444,\"#bd3786\"],[0.5555555555555556,\"#d8576b\"],[0.6666666666666666,\"#ed7953\"],[0.7777777777777778,\"#fb9f3a\"],[0.8888888888888888,\"#fdca26\"],[1.0,\"#f0f921\"]],\"type\":\"heatmapgl\"}],\"histogram\":[{\"marker\":{\"pattern\":{\"fillmode\":\"overlay\",\"size\":10,\"solidity\":0.2}},\"type\":\"histogram\"}],\"histogram2d\":[{\"colorbar\":{\"outlinewidth\":0,\"ticks\":\"\"},\"colorscale\":[[0.0,\"#0d0887\"],[0.1111111111111111,\"#46039f\"],[0.2222222222222222,\"#7201a8\"],[0.3333333333333333,\"#9c179e\"],[0.4444444444444444,\"#bd3786\"],[0.5555555555555556,\"#d8576b\"],[0.6666666666666666,\"#ed7953\"],[0.7777777777777778,\"#fb9f3a\"],[0.8888888888888888,\"#fdca26\"],[1.0,\"#f0f921\"]],\"type\":\"histogram2d\"}],\"histogram2dcontour\":[{\"colorbar\":{\"outlinewidth\":0,\"ticks\":\"\"},\"colorscale\":[[0.0,\"#0d0887\"],[0.1111111111111111,\"#46039f\"],[0.2222222222222222,\"#7201a8\"],[0.3333333333333333,\"#9c179e\"],[0.4444444444444444,\"#bd3786\"],[0.5555555555555556,\"#d8576b\"],[0.6666666666666666,\"#ed7953\"],[0.7777777777777778,\"#fb9f3a\"],[0.8888888888888888,\"#fdca26\"],[1.0,\"#f0f921\"]],\"type\":\"histogram2dcontour\"}],\"mesh3d\":[{\"colorbar\":{\"outlinewidth\":0,\"ticks\":\"\"},\"type\":\"mesh3d\"}],\"parcoords\":[{\"line\":{\"colorbar\":{\"outlinewidth\":0,\"ticks\":\"\"}},\"type\":\"parcoords\"}],\"pie\":[{\"automargin\":true,\"type\":\"pie\"}],\"scatter\":[{\"marker\":{\"colorbar\":{\"outlinewidth\":0,\"ticks\":\"\"}},\"type\":\"scatter\"}],\"scatter3d\":[{\"line\":{\"colorbar\":{\"outlinewidth\":0,\"ticks\":\"\"}},\"marker\":{\"colorbar\":{\"outlinewidth\":0,\"ticks\":\"\"}},\"type\":\"scatter3d\"}],\"scattercarpet\":[{\"marker\":{\"colorbar\":{\"outlinewidth\":0,\"ticks\":\"\"}},\"type\":\"scattercarpet\"}],\"scattergeo\":[{\"marker\":{\"colorbar\":{\"outlinewidth\":0,\"ticks\":\"\"}},\"type\":\"scattergeo\"}],\"scattergl\":[{\"marker\":{\"colorbar\":{\"outlinewidth\":0,\"ticks\":\"\"}},\"type\":\"scattergl\"}],\"scattermapbox\":[{\"marker\":{\"colorbar\":{\"outlinewidth\":0,\"ticks\":\"\"}},\"type\":\"scattermapbox\"}],\"scatterpolar\":[{\"marker\":{\"colorbar\":{\"outlinewidth\":0,\"ticks\":\"\"}},\"type\":\"scatterpolar\"}],\"scatterpolargl\":[{\"marker\":{\"colorbar\":{\"outlinewidth\":0,\"ticks\":\"\"}},\"type\":\"scatterpolargl\"}],\"scatterternary\":[{\"marker\":{\"colorbar\":{\"outlinewidth\":0,\"ticks\":\"\"}},\"type\":\"scatterternary\"}],\"surface\":[{\"colorbar\":{\"outlinewidth\":0,\"ticks\":\"\"},\"colorscale\":[[0.0,\"#0d0887\"],[0.1111111111111111,\"#46039f\"],[0.2222222222222222,\"#7201a8\"],[0.3333333333333333,\"#9c179e\"],[0.4444444444444444,\"#bd3786\"],[0.5555555555555556,\"#d8576b\"],[0.6666666666666666,\"#ed7953\"],[0.7777777777777778,\"#fb9f3a\"],[0.8888888888888888,\"#fdca26\"],[1.0,\"#f0f921\"]],\"type\":\"surface\"}],\"table\":[{\"cells\":{\"fill\":{\"color\":\"#EBF0F8\"},\"line\":{\"color\":\"white\"}},\"header\":{\"fill\":{\"color\":\"#C8D4E3\"},\"line\":{\"color\":\"white\"}},\"type\":\"table\"}]},\"layout\":{\"annotationdefaults\":{\"arrowcolor\":\"#2a3f5f\",\"arrowhead\":0,\"arrowwidth\":1},\"autotypenumbers\":\"strict\",\"coloraxis\":{\"colorbar\":{\"outlinewidth\":0,\"ticks\":\"\"}},\"colorscale\":{\"diverging\":[[0,\"#8e0152\"],[0.1,\"#c51b7d\"],[0.2,\"#de77ae\"],[0.3,\"#f1b6da\"],[0.4,\"#fde0ef\"],[0.5,\"#f7f7f7\"],[0.6,\"#e6f5d0\"],[0.7,\"#b8e186\"],[0.8,\"#7fbc41\"],[0.9,\"#4d9221\"],[1,\"#276419\"]],\"sequential\":[[0.0,\"#0d0887\"],[0.1111111111111111,\"#46039f\"],[0.2222222222222222,\"#7201a8\"],[0.3333333333333333,\"#9c179e\"],[0.4444444444444444,\"#bd3786\"],[0.5555555555555556,\"#d8576b\"],[0.6666666666666666,\"#ed7953\"],[0.7777777777777778,\"#fb9f3a\"],[0.8888888888888888,\"#fdca26\"],[1.0,\"#f0f921\"]],\"sequentialminus\":[[0.0,\"#0d0887\"],[0.1111111111111111,\"#46039f\"],[0.2222222222222222,\"#7201a8\"],[0.3333333333333333,\"#9c179e\"],[0.4444444444444444,\"#bd3786\"],[0.5555555555555556,\"#d8576b\"],[0.6666666666666666,\"#ed7953\"],[0.7777777777777778,\"#fb9f3a\"],[0.8888888888888888,\"#fdca26\"],[1.0,\"#f0f921\"]]},\"colorway\":[\"#636efa\",\"#EF553B\",\"#00cc96\",\"#ab63fa\",\"#FFA15A\",\"#19d3f3\",\"#FF6692\",\"#B6E880\",\"#FF97FF\",\"#FECB52\"],\"font\":{\"color\":\"#2a3f5f\"},\"geo\":{\"bgcolor\":\"white\",\"lakecolor\":\"white\",\"landcolor\":\"#E5ECF6\",\"showlakes\":true,\"showland\":true,\"subunitcolor\":\"white\"},\"hoverlabel\":{\"align\":\"left\"},\"hovermode\":\"closest\",\"mapbox\":{\"style\":\"light\"},\"paper_bgcolor\":\"white\",\"plot_bgcolor\":\"#E5ECF6\",\"polar\":{\"angularaxis\":{\"gridcolor\":\"white\",\"linecolor\":\"white\",\"ticks\":\"\"},\"bgcolor\":\"#E5ECF6\",\"radialaxis\":{\"gridcolor\":\"white\",\"linecolor\":\"white\",\"ticks\":\"\"}},\"scene\":{\"xaxis\":{\"backgroundcolor\":\"#E5ECF6\",\"gridcolor\":\"white\",\"gridwidth\":2,\"linecolor\":\"white\",\"showbackground\":true,\"ticks\":\"\",\"zerolinecolor\":\"white\"},\"yaxis\":{\"backgroundcolor\":\"#E5ECF6\",\"gridcolor\":\"white\",\"gridwidth\":2,\"linecolor\":\"white\",\"showbackground\":true,\"ticks\":\"\",\"zerolinecolor\":\"white\"},\"zaxis\":{\"backgroundcolor\":\"#E5ECF6\",\"gridcolor\":\"white\",\"gridwidth\":2,\"linecolor\":\"white\",\"showbackground\":true,\"ticks\":\"\",\"zerolinecolor\":\"white\"}},\"shapedefaults\":{\"line\":{\"color\":\"#2a3f5f\"}},\"ternary\":{\"aaxis\":{\"gridcolor\":\"white\",\"linecolor\":\"white\",\"ticks\":\"\"},\"baxis\":{\"gridcolor\":\"white\",\"linecolor\":\"white\",\"ticks\":\"\"},\"bgcolor\":\"#E5ECF6\",\"caxis\":{\"gridcolor\":\"white\",\"linecolor\":\"white\",\"ticks\":\"\"}},\"title\":{\"x\":0.05},\"xaxis\":{\"automargin\":true,\"gridcolor\":\"white\",\"linecolor\":\"white\",\"ticks\":\"\",\"title\":{\"standoff\":15},\"zerolinecolor\":\"white\",\"zerolinewidth\":2},\"yaxis\":{\"automargin\":true,\"gridcolor\":\"white\",\"linecolor\":\"white\",\"ticks\":\"\",\"title\":{\"standoff\":15},\"zerolinecolor\":\"white\",\"zerolinewidth\":2}}},\"xaxis\":{\"title\":{\"text\":\"value\"}},\"yaxis\":{\"title\":{\"text\":\"count\"}}},                        {\"responsive\": true}                    ).then(function(){\n",
       "                            \n",
       "var gd = document.getElementById('aa3399d9-382d-4f44-a476-c0b0a6c09c54');\n",
       "var x = new MutationObserver(function (mutations, observer) {{\n",
       "        var display = window.getComputedStyle(gd).display;\n",
       "        if (!display || display === 'none') {{\n",
       "            console.log([gd, 'removed!']);\n",
       "            Plotly.purge(gd);\n",
       "            observer.disconnect();\n",
       "        }}\n",
       "}});\n",
       "\n",
       "// Listen for the removal of the full notebook cells\n",
       "var notebookContainer = gd.closest('#notebook-container');\n",
       "if (notebookContainer) {{\n",
       "    x.observe(notebookContainer, {childList: true});\n",
       "}}\n",
       "\n",
       "// Listen for the clearing of the current output cell\n",
       "var outputEl = gd.closest('.output');\n",
       "if (outputEl) {{\n",
       "    x.observe(outputEl, {childList: true});\n",
       "}}\n",
       "\n",
       "                        })                };                });            </script>        </div>"
      ]
     },
     "metadata": {},
     "output_type": "display_data"
    }
   ],
   "source": [
    "psdf_heart.plot.hist(bins=3, alpha=0.5)\n"
   ]
  },
  {
   "cell_type": "code",
   "execution_count": 52,
   "id": "8d197e07-a453-4907-b7c9-69363d508cd9",
   "metadata": {},
   "outputs": [
    {
     "name": "stderr",
     "output_type": "stream",
     "text": [
      "C:\\Users\\kar_d\\anaconda3\\lib\\site-packages\\pyspark\\sql\\context.py:125: FutureWarning:\n",
      "\n",
      "Deprecated in 3.0.0. Use SparkSession.builder.getOrCreate() instead.\n",
      "\n"
     ]
    },
    {
     "data": {
      "text/html": [
       "<div>\n",
       "<style scoped>\n",
       "    .dataframe tbody tr th:only-of-type {\n",
       "        vertical-align: middle;\n",
       "    }\n",
       "\n",
       "    .dataframe tbody tr th {\n",
       "        vertical-align: top;\n",
       "    }\n",
       "\n",
       "    .dataframe thead th {\n",
       "        text-align: right;\n",
       "    }\n",
       "</style>\n",
       "<table border=\"1\" class=\"dataframe\">\n",
       "  <thead>\n",
       "    <tr style=\"text-align: right;\">\n",
       "      <th></th>\n",
       "      <th>Age</th>\n",
       "      <th>RestingBP</th>\n",
       "      <th>Cholesterol</th>\n",
       "      <th>FastingBS</th>\n",
       "      <th>MaxHR</th>\n",
       "      <th>Oldpeak</th>\n",
       "    </tr>\n",
       "  </thead>\n",
       "  <tbody>\n",
       "    <tr>\n",
       "      <th>Age</th>\n",
       "      <td>1.000000</td>\n",
       "      <td>0.254399</td>\n",
       "      <td>-0.095282</td>\n",
       "      <td>0.198039</td>\n",
       "      <td>-0.382045</td>\n",
       "      <td>0.258612</td>\n",
       "    </tr>\n",
       "    <tr>\n",
       "      <th>RestingBP</th>\n",
       "      <td>0.254399</td>\n",
       "      <td>1.000000</td>\n",
       "      <td>0.100893</td>\n",
       "      <td>0.070193</td>\n",
       "      <td>-0.112135</td>\n",
       "      <td>0.164803</td>\n",
       "    </tr>\n",
       "    <tr>\n",
       "      <th>Cholesterol</th>\n",
       "      <td>-0.095282</td>\n",
       "      <td>0.100893</td>\n",
       "      <td>1.000000</td>\n",
       "      <td>-0.260974</td>\n",
       "      <td>0.235792</td>\n",
       "      <td>0.050148</td>\n",
       "    </tr>\n",
       "    <tr>\n",
       "      <th>FastingBS</th>\n",
       "      <td>0.198039</td>\n",
       "      <td>0.070193</td>\n",
       "      <td>-0.260974</td>\n",
       "      <td>1.000000</td>\n",
       "      <td>-0.131438</td>\n",
       "      <td>0.052698</td>\n",
       "    </tr>\n",
       "    <tr>\n",
       "      <th>MaxHR</th>\n",
       "      <td>-0.382045</td>\n",
       "      <td>-0.112135</td>\n",
       "      <td>0.235792</td>\n",
       "      <td>-0.131438</td>\n",
       "      <td>1.000000</td>\n",
       "      <td>-0.160691</td>\n",
       "    </tr>\n",
       "    <tr>\n",
       "      <th>Oldpeak</th>\n",
       "      <td>0.258612</td>\n",
       "      <td>0.164803</td>\n",
       "      <td>0.050148</td>\n",
       "      <td>0.052698</td>\n",
       "      <td>-0.160691</td>\n",
       "      <td>1.000000</td>\n",
       "    </tr>\n",
       "  </tbody>\n",
       "</table>\n",
       "</div>"
      ],
      "text/plain": [
       "                  Age  RestingBP  Cholesterol  FastingBS     MaxHR   Oldpeak\n",
       "Age          1.000000   0.254399    -0.095282   0.198039 -0.382045  0.258612\n",
       "RestingBP    0.254399   1.000000     0.100893   0.070193 -0.112135  0.164803\n",
       "Cholesterol -0.095282   0.100893     1.000000  -0.260974  0.235792  0.050148\n",
       "FastingBS    0.198039   0.070193    -0.260974   1.000000 -0.131438  0.052698\n",
       "MaxHR       -0.382045  -0.112135     0.235792  -0.131438  1.000000 -0.160691\n",
       "Oldpeak      0.258612   0.164803     0.050148   0.052698 -0.160691  1.000000"
      ]
     },
     "execution_count": 52,
     "metadata": {},
     "output_type": "execute_result"
    }
   ],
   "source": [
    "psdf_heart.corr()"
   ]
  },
  {
   "cell_type": "markdown",
   "id": "66be8e13-35d3-4e06-8937-836f2af46411",
   "metadata": {},
   "source": [
    "### Graphical Summaries"
   ]
  },
  {
   "cell_type": "code",
   "execution_count": null,
   "id": "ad5b9f56-8918-4753-9690-6839e4443a67",
   "metadata": {},
   "outputs": [],
   "source": []
  },
  {
   "cell_type": "markdown",
   "id": "a100701b-a562-4747-b87f-89e3929c6029",
   "metadata": {},
   "source": [
    "## Modeling"
   ]
  },
  {
   "cell_type": "code",
   "execution_count": null,
   "id": "7855a74f-40ff-4fae-9354-09d80ce951ef",
   "metadata": {},
   "outputs": [],
   "source": []
  },
  {
   "cell_type": "code",
   "execution_count": null,
   "id": "c0ed2120-c429-4c88-91e9-8a414147b926",
   "metadata": {},
   "outputs": [],
   "source": [
    "### Classification Tree"
   ]
  },
  {
   "cell_type": "code",
   "execution_count": null,
   "id": "ba950c35-23db-4fa2-ae0a-6f436e6885a5",
   "metadata": {},
   "outputs": [],
   "source": [
    "### Random Forest"
   ]
  },
  {
   "cell_type": "code",
   "execution_count": null,
   "id": "767b6bd6-fe35-452d-a9fc-b53fd2ae3910",
   "metadata": {},
   "outputs": [],
   "source": []
  },
  {
   "cell_type": "markdown",
   "id": "11adbf63-b3ab-4fe4-a309-b26665bf2037",
   "metadata": {},
   "source": [
    "## Conclusion"
   ]
  }
 ],
 "metadata": {
  "kernelspec": {
   "display_name": "Python 3 (ipykernel)",
   "language": "python",
   "name": "python3"
  },
  "language_info": {
   "codemirror_mode": {
    "name": "ipython",
    "version": 3
   },
   "file_extension": ".py",
   "mimetype": "text/x-python",
   "name": "python",
   "nbconvert_exporter": "python",
   "pygments_lexer": "ipython3",
   "version": "3.10.1"
  }
 },
 "nbformat": 4,
 "nbformat_minor": 5
}
