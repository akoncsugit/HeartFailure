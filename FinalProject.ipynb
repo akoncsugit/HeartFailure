{
 "cells": [
  {
   "cell_type": "markdown",
   "id": "c7109262-a5a7-44ba-bc2f-a8dd9dce2b99",
   "metadata": {},
   "source": [
    "# <center>ST590 Final Project</center>\n",
    "\n",
    "#### <center>Pramodini Karwande and Ashley Ko </center>"
   ]
  },
  {
   "cell_type": "markdown",
   "id": "23cadf0a-3e68-4d97-964b-debb29b2942d",
   "metadata": {},
   "source": [
    "## Introduction"
   ]
  },
  {
   "cell_type": "markdown",
   "id": "4fac2a7c-0a41-457d-82b0-f537cab49d9b",
   "metadata": {},
   "source": [
    "This notebook uses supervised learning to fit models and make predictions from the [*Heart Failure Prediction Dataset*](https://www.kaggle.com/datasets/fedesoriano/heart-failure-prediction). As heart disease is the leading cause of death globally, we believed it would interest to examine this dataset with supervised learning methods.\n",
    "\n",
    "The data was obtained via Kaggle and sourced from five different clinical data sets. It consists of 11 clinical features for predicting heart disease. These clinical features are:\n",
    "\n",
    "\n",
    "* Age: age of the patient [years]\n",
    "* Sex: sex of the patient [M: Male, F: Female]\n",
    "* hestPainType: chest pain type [TA: Typical Angina, ATA: Atypical Angina, NAP: Non-Anginal Pain, ASY: Asymptomatic]\n",
    "* RestingBP: resting blood pressure [mm Hg]\n",
    "* Cholesterol: serum cholesterol [mm/dl]\n",
    "* FastingBS: fasting blood sugar [1: if FastingBS > 120 mg/dl, 0: otherwise]\n",
    "* RestingECG: resting electrocardiogram results [Normal: Normal, ST: having ST-T wave abnormality (T wave inversions and/or ST elevation or depression of > 0.05 mV), LVH: showing probable or definite left ventricular hypertrophy by Estes' criteria]\n",
    "* MaxHR: maximum heart rate achieved [Numeric value between 60 and 202]\n",
    "* ExerciseAngina: exercise-induced angina [Y: Yes, N: No]\n",
    "* Oldpeak: oldpeak = ST [Numeric value measured in depression]\n",
    "* ST_Slope: the slope of the peak exercise ST segment [Up: upsloping, Flat: flat, Down: downsloping]\n",
    "* HeartDisease: output class [1: heart disease, 0: Normal]\n",
    "\n",
    "This notebook seeks to fit models that predict for `HeartDisease`. As this attribute is categorical, we proceeded with classification methods."
   ]
  },
  {
   "cell_type": "markdown",
   "id": "6bd3c6af-36c8-44b8-bf3f-990681eb47ea",
   "metadata": {
    "tags": []
   },
   "source": [
    "## Supervised Learning Idea and Data Split"
   ]
  },
  {
   "cell_type": "markdown",
   "id": "2eeabaa2-445b-49b7-8dba-fcca51e42d7c",
   "metadata": {},
   "source": [
    "Supervised learning a type of machine learning model were a variable or variables is to represent a response. The goal of supervised learning is to make inference or make predictions . Algorithms are used to fit and select models for classification or prediction. In our case, we are using classification. \n",
    "\n",
    "One well known method of supervised learning is the generalized linear model. As our response data is binary, we specifically used logistic regression. Other methods include Tree based methods such as classification trees, random forest, or boosting. Tree models use recursive splitting of the predictor region. Classification trees are used for predicting group membership. This works well with our binary data. Random forest and boosting are tree based methods which averaged overall trees using bootstrap aggregation.\n",
    "\n",
    "As we seek to predict the class of an observation as either 0 - Normal or 1 - Heart Disease, it is best practice to not predict on data that was used to fit the model. The reason for this is that novel data is necessary to accurately test your predictions. If a model was fit using the full data set, there aren't any novel observations. This leads to overfitting and inflated model accuracy.\n",
    "\n",
    "The solution to the problem of overfitting is to split the full data set into training and testing data sets. Models will be fit and selected based on training data. Fitted models will be tested and predictions drawn from the test data set. Typically, a 80% train 20% test data split is used. We selected a 75% train and 25% test split to allow for adequate sample size."
   ]
  },
  {
   "cell_type": "markdown",
   "id": "0c0a5f08-88f1-444b-b06f-6e1b3c4a90b3",
   "metadata": {
    "tags": []
   },
   "source": [
    "### Data Splitting"
   ]
  },
  {
   "cell_type": "markdown",
   "id": "0f004412-1a02-47bf-a0ac-49386a0135c7",
   "metadata": {},
   "source": [
    "We begin by reading in the `heart.csv` file into a pandas-on-Spark DataFrame. We chose to start with pandas-on-spark as it allows for easier manipulations for exploratory data analysis."
   ]
  },
  {
   "cell_type": "markdown",
   "id": "d211553e-1052-46a8-a459-dd2dff30b6f6",
   "metadata": {},
   "source": [
    "But first let's import the required libraries and set the notebook environment."
   ]
  },
  {
   "cell_type": "code",
   "execution_count": 4,
   "id": "7df27f30-84a6-400a-94d5-1c7d9a26c2e4",
   "metadata": {},
   "outputs": [],
   "source": [
    "# Import packages\n",
    "import os\n",
    "import sys\n",
    "import warnings\n",
    "import pandas as pd\n",
    "import numpy as np\n",
    "import pyspark.pandas as ps\n",
    "import matplotlib.pyplot as plt\n",
    "import seaborn as sns\n",
    "\n",
    "# Set environment\n",
    "os.environ['PYSPARK_PYTHON'] = sys.executable\n",
    "os.environ['PYSPARK_DRIVER_PYTHON'] = sys.executable\n",
    "os.environ[\"PYARROW_IGNORE_TIMEZONE\"] = \"1\"\n",
    "\n",
    "# Remove warnings from rendered output\n",
    "warnings.filterwarnings(\"ignore\")\n",
    "\n",
    "\n",
    "# Set figure size\n",
    "plt.rcParams[\"figure.figsize\"] = (10,7)\n",
    "\n",
    "# Spark Session builder\n",
    "from pyspark.sql import SparkSession\n",
    "spark = SparkSession.builder.config(\"spark.debug.maxToStringFields\", \"100\").getOrCreate()"
   ]
  },
  {
   "cell_type": "markdown",
   "id": "ac24f532-d32c-490a-9630-8b001495b0fd",
   "metadata": {},
   "source": [
    "Here we are reading in the data as a pandas-on-Spark DataFrame."
   ]
  },
  {
   "cell_type": "code",
   "execution_count": 5,
   "id": "03539a13-68fc-4326-812f-ac1d9d060eff",
   "metadata": {},
   "outputs": [
    {
     "name": "stderr",
     "output_type": "stream",
     "text": [
      "22/04/30 23:46:30 WARN WindowExec: No Partition Defined for Window operation! Moving all data to a single partition, this can cause serious performance degradation.\n",
      "22/04/30 23:46:30 WARN WindowExec: No Partition Defined for Window operation! Moving all data to a single partition, this can cause serious performance degradation.\n"
     ]
    },
    {
     "data": {
      "text/html": [
       "<div>\n",
       "<style scoped>\n",
       "    .dataframe tbody tr th:only-of-type {\n",
       "        vertical-align: middle;\n",
       "    }\n",
       "\n",
       "    .dataframe tbody tr th {\n",
       "        vertical-align: top;\n",
       "    }\n",
       "\n",
       "    .dataframe thead th {\n",
       "        text-align: right;\n",
       "    }\n",
       "</style>\n",
       "<table border=\"1\" class=\"dataframe\">\n",
       "  <thead>\n",
       "    <tr style=\"text-align: right;\">\n",
       "      <th></th>\n",
       "      <th>Age</th>\n",
       "      <th>Sex</th>\n",
       "      <th>ChestPainType</th>\n",
       "      <th>RestingBP</th>\n",
       "      <th>Cholesterol</th>\n",
       "      <th>FastingBS</th>\n",
       "      <th>RestingECG</th>\n",
       "      <th>MaxHR</th>\n",
       "      <th>ExerciseAngina</th>\n",
       "      <th>Oldpeak</th>\n",
       "      <th>ST_Slope</th>\n",
       "      <th>HeartDisease</th>\n",
       "    </tr>\n",
       "  </thead>\n",
       "  <tbody>\n",
       "    <tr>\n",
       "      <th>0</th>\n",
       "      <td>40</td>\n",
       "      <td>M</td>\n",
       "      <td>ATA</td>\n",
       "      <td>140</td>\n",
       "      <td>289</td>\n",
       "      <td>0</td>\n",
       "      <td>Normal</td>\n",
       "      <td>172</td>\n",
       "      <td>N</td>\n",
       "      <td>0.0</td>\n",
       "      <td>Up</td>\n",
       "      <td>0</td>\n",
       "    </tr>\n",
       "    <tr>\n",
       "      <th>1</th>\n",
       "      <td>49</td>\n",
       "      <td>F</td>\n",
       "      <td>NAP</td>\n",
       "      <td>160</td>\n",
       "      <td>180</td>\n",
       "      <td>0</td>\n",
       "      <td>Normal</td>\n",
       "      <td>156</td>\n",
       "      <td>N</td>\n",
       "      <td>1.0</td>\n",
       "      <td>Flat</td>\n",
       "      <td>1</td>\n",
       "    </tr>\n",
       "    <tr>\n",
       "      <th>2</th>\n",
       "      <td>37</td>\n",
       "      <td>M</td>\n",
       "      <td>ATA</td>\n",
       "      <td>130</td>\n",
       "      <td>283</td>\n",
       "      <td>0</td>\n",
       "      <td>ST</td>\n",
       "      <td>98</td>\n",
       "      <td>N</td>\n",
       "      <td>0.0</td>\n",
       "      <td>Up</td>\n",
       "      <td>0</td>\n",
       "    </tr>\n",
       "    <tr>\n",
       "      <th>3</th>\n",
       "      <td>48</td>\n",
       "      <td>F</td>\n",
       "      <td>ASY</td>\n",
       "      <td>138</td>\n",
       "      <td>214</td>\n",
       "      <td>0</td>\n",
       "      <td>Normal</td>\n",
       "      <td>108</td>\n",
       "      <td>Y</td>\n",
       "      <td>1.5</td>\n",
       "      <td>Flat</td>\n",
       "      <td>1</td>\n",
       "    </tr>\n",
       "    <tr>\n",
       "      <th>4</th>\n",
       "      <td>54</td>\n",
       "      <td>M</td>\n",
       "      <td>NAP</td>\n",
       "      <td>150</td>\n",
       "      <td>195</td>\n",
       "      <td>0</td>\n",
       "      <td>Normal</td>\n",
       "      <td>122</td>\n",
       "      <td>N</td>\n",
       "      <td>0.0</td>\n",
       "      <td>Up</td>\n",
       "      <td>0</td>\n",
       "    </tr>\n",
       "  </tbody>\n",
       "</table>\n",
       "</div>"
      ],
      "text/plain": [
       "   Age Sex ChestPainType  RestingBP  Cholesterol  FastingBS RestingECG  MaxHR ExerciseAngina  Oldpeak ST_Slope  HeartDisease\n",
       "0   40   M           ATA        140          289          0     Normal    172              N      0.0       Up             0\n",
       "1   49   F           NAP        160          180          0     Normal    156              N      1.0     Flat             1\n",
       "2   37   M           ATA        130          283          0         ST     98              N      0.0       Up             0\n",
       "3   48   F           ASY        138          214          0     Normal    108              Y      1.5     Flat             1\n",
       "4   54   M           NAP        150          195          0     Normal    122              N      0.0       Up             0"
      ]
     },
     "execution_count": 5,
     "metadata": {},
     "output_type": "execute_result"
    }
   ],
   "source": [
    "# Read in data as pandas-on-Spark data frame\n",
    "psdf_heart = ps.read_csv(\"heart.csv\")\n",
    "# Checking if import was successful\n",
    "psdf_heart.head()"
   ]
  },
  {
   "cell_type": "markdown",
   "id": "995bfd61-2d39-4a0b-88a5-86128c254edb",
   "metadata": {},
   "source": [
    "Using `psdf_heart.info()` we determined learned the data type of the pandas-on-Spark variables. This allows us to determine if we need to transform variables to match their true data type. For example categorical data should be classified as such."
   ]
  },
  {
   "cell_type": "code",
   "execution_count": 6,
   "id": "3ea19bb9-e868-4a94-9505-89f9e0241f8b",
   "metadata": {},
   "outputs": [
    {
     "name": "stderr",
     "output_type": "stream",
     "text": [
      "22/04/30 23:46:34 WARN WindowExec: No Partition Defined for Window operation! Moving all data to a single partition, this can cause serious performance degradation.\n",
      "22/04/30 23:46:35 WARN WindowExec: No Partition Defined for Window operation! Moving all data to a single partition, this can cause serious performance degradation.\n"
     ]
    },
    {
     "name": "stdout",
     "output_type": "stream",
     "text": [
      "<class 'pyspark.pandas.frame.DataFrame'>\n",
      "Int64Index: 918 entries, 0 to 917\n",
      "Data columns (total 12 columns):\n",
      " #   Column          Non-Null Count  Dtype  \n",
      "---  ------          --------------  -----  \n",
      " 0   Age             918 non-null    int32  \n",
      " 1   Sex             918 non-null    object \n",
      " 2   ChestPainType   918 non-null    object \n",
      " 3   RestingBP       918 non-null    int32  \n",
      " 4   Cholesterol     918 non-null    int32  \n",
      " 5   FastingBS       918 non-null    int32  \n",
      " 6   RestingECG      918 non-null    object \n",
      " 7   MaxHR           918 non-null    int32  \n",
      " 8   ExerciseAngina  918 non-null    object \n",
      " 9   Oldpeak         918 non-null    float64\n",
      " 10  ST_Slope        918 non-null    object \n",
      " 11  HeartDisease    918 non-null    int32  \n",
      "dtypes: float64(1), int32(6), object(5)"
     ]
    }
   ],
   "source": [
    "psdf_heart.info()"
   ]
  },
  {
   "cell_type": "markdown",
   "id": "f300a4f3-c66f-4f62-8035-b0525db7ab93",
   "metadata": {},
   "source": [
    "It looks like the categorical variables have all been stored as objects. Later, we will use transformations get these variables in our desired format."
   ]
  },
  {
   "cell_type": "markdown",
   "id": "cfe557d6-572a-4d47-b834-dd7618f91073",
   "metadata": {},
   "source": [
    "Another potential issue would be the presence of null variables. Any null values should be processed to prevent errors."
   ]
  },
  {
   "cell_type": "code",
   "execution_count": 7,
   "id": "ac0bb346-2942-4dd3-8e45-014d43b8ee0c",
   "metadata": {},
   "outputs": [
    {
     "name": "stdout",
     "output_type": "stream",
     "text": [
      "Age               0\n",
      "Sex               0\n",
      "ChestPainType     0\n",
      "RestingBP         0\n",
      "Cholesterol       0\n",
      "FastingBS         0\n",
      "RestingECG        0\n",
      "MaxHR             0\n",
      "ExerciseAngina    0\n",
      "Oldpeak           0\n",
      "ST_Slope          0\n",
      "HeartDisease      0\n",
      "dtype: int64\n"
     ]
    }
   ],
   "source": [
    "# Check for null values\n",
    "print(psdf_heart.isnull().sum())"
   ]
  },
  {
   "cell_type": "markdown",
   "id": "e0a20117-8c3d-4bc6-9bd7-f6ba097bcd79",
   "metadata": {},
   "source": [
    "As there are no null values, we elected to proceed with data splitting. We begin by converting our pandas-on-Spark DataFrame to a Pyspark SQL DataFrame."
   ]
  },
  {
   "cell_type": "code",
   "execution_count": 8,
   "id": "b6ff7016-f0bb-4f6f-aa69-575d37e86c71",
   "metadata": {},
   "outputs": [],
   "source": [
    "# Make a Pyspark SQL dataframe from pandas-on-Spark df\n",
    "sql_heart = psdf_heart.to_spark()"
   ]
  },
  {
   "cell_type": "markdown",
   "id": "aa51781e-d727-4320-bd1d-6e885b41600c",
   "metadata": {},
   "source": [
    "To the split the data into train and test data sets we used `randomSplit` with a split of 75/25 training to test. This was selected as a safe ratio allow for enough samples in both the training data and the test data."
   ]
  },
  {
   "cell_type": "code",
   "execution_count": 9,
   "id": "812a6ea1-9a77-47f4-876f-605fd949026f",
   "metadata": {},
   "outputs": [
    {
     "name": "stdout",
     "output_type": "stream",
     "text": [
      "686 232\n"
     ]
    }
   ],
   "source": [
    "train, test = sql_heart.randomSplit([0.75, 0.25], seed = 1234)\n",
    "print(train.count(), test.count())"
   ]
  },
  {
   "cell_type": "markdown",
   "id": "0f6c8efd-0d69-4699-9ea5-4fb16bd01812",
   "metadata": {
    "tags": []
   },
   "source": [
    "For some of the plotting, we need matplotlib. This requires a pandas DataFrame."
   ]
  },
  {
   "cell_type": "code",
   "execution_count": 10,
   "id": "977ce3ef-105d-4328-b1b9-6aec37184f42",
   "metadata": {},
   "outputs": [],
   "source": [
    "# Make a pandas DF from PySpark SQL df\n",
    "pd_train = train.toPandas()"
   ]
  },
  {
   "cell_type": "markdown",
   "id": "e4a28518-f0a9-43c8-be3f-744a3e737b9d",
   "metadata": {},
   "source": [
    "Other graphs and numeric summaries lent themselves better to using a pandas-on-Spark data set best fit our needs."
   ]
  },
  {
   "cell_type": "code",
   "execution_count": 11,
   "id": "5700853c-f4bb-4046-80d8-1bf1d6fc7069",
   "metadata": {},
   "outputs": [],
   "source": [
    "# Make a pandas-on-Spark DF from PySpark SQL df\n",
    "psdf_train = train.to_pandas_on_spark()"
   ]
  },
  {
   "cell_type": "markdown",
   "id": "74200772-e709-4f68-9a9e-3b3b2c8e53c5",
   "metadata": {},
   "source": [
    "## Exploratory Data Analysis"
   ]
  },
  {
   "cell_type": "markdown",
   "id": "07c7c773-06b2-4a8f-be9a-dff604a7408f",
   "metadata": {},
   "source": [
    "Exploring the training data allows us to better understand the relationship of the predictor and the response variables. It also alerts us to any unusual values."
   ]
  },
  {
   "cell_type": "markdown",
   "id": "be9bbdf9-2f41-4df2-8f07-11e21500db00",
   "metadata": {},
   "source": [
    "We generated 8 number summaries for the `Age`, `RestingBP`, `Cholesterol`, `MaxHR`, `Oldpeak`."
   ]
  },
  {
   "cell_type": "code",
   "execution_count": 12,
   "id": "58188e48-6cb7-4629-8e59-bdc5b7267c72",
   "metadata": {},
   "outputs": [
    {
     "name": "stderr",
     "output_type": "stream",
     "text": [
      "                                                                                \r"
     ]
    },
    {
     "data": {
      "text/html": [
       "<div>\n",
       "<style scoped>\n",
       "    .dataframe tbody tr th:only-of-type {\n",
       "        vertical-align: middle;\n",
       "    }\n",
       "\n",
       "    .dataframe tbody tr th {\n",
       "        vertical-align: top;\n",
       "    }\n",
       "\n",
       "    .dataframe thead th {\n",
       "        text-align: right;\n",
       "    }\n",
       "</style>\n",
       "<table border=\"1\" class=\"dataframe\">\n",
       "  <thead>\n",
       "    <tr style=\"text-align: right;\">\n",
       "      <th></th>\n",
       "      <th>Age</th>\n",
       "      <th>RestingBP</th>\n",
       "      <th>Cholesterol</th>\n",
       "      <th>MaxHR</th>\n",
       "      <th>Oldpeak</th>\n",
       "    </tr>\n",
       "  </thead>\n",
       "  <tbody>\n",
       "    <tr>\n",
       "      <th>count</th>\n",
       "      <td>686.000000</td>\n",
       "      <td>686.000000</td>\n",
       "      <td>686.000000</td>\n",
       "      <td>686.000000</td>\n",
       "      <td>686.000000</td>\n",
       "    </tr>\n",
       "    <tr>\n",
       "      <th>mean</th>\n",
       "      <td>53.690962</td>\n",
       "      <td>132.091837</td>\n",
       "      <td>196.749271</td>\n",
       "      <td>136.677843</td>\n",
       "      <td>0.907289</td>\n",
       "    </tr>\n",
       "    <tr>\n",
       "      <th>std</th>\n",
       "      <td>9.282468</td>\n",
       "      <td>18.546025</td>\n",
       "      <td>111.301411</td>\n",
       "      <td>25.526051</td>\n",
       "      <td>1.074837</td>\n",
       "    </tr>\n",
       "    <tr>\n",
       "      <th>min</th>\n",
       "      <td>28.000000</td>\n",
       "      <td>0.000000</td>\n",
       "      <td>0.000000</td>\n",
       "      <td>60.000000</td>\n",
       "      <td>-2.000000</td>\n",
       "    </tr>\n",
       "    <tr>\n",
       "      <th>25%</th>\n",
       "      <td>48.000000</td>\n",
       "      <td>120.000000</td>\n",
       "      <td>170.000000</td>\n",
       "      <td>120.000000</td>\n",
       "      <td>0.000000</td>\n",
       "    </tr>\n",
       "    <tr>\n",
       "      <th>50%</th>\n",
       "      <td>54.000000</td>\n",
       "      <td>130.000000</td>\n",
       "      <td>222.000000</td>\n",
       "      <td>138.000000</td>\n",
       "      <td>0.600000</td>\n",
       "    </tr>\n",
       "    <tr>\n",
       "      <th>75%</th>\n",
       "      <td>60.000000</td>\n",
       "      <td>140.000000</td>\n",
       "      <td>265.000000</td>\n",
       "      <td>156.000000</td>\n",
       "      <td>1.500000</td>\n",
       "    </tr>\n",
       "    <tr>\n",
       "      <th>max</th>\n",
       "      <td>76.000000</td>\n",
       "      <td>200.000000</td>\n",
       "      <td>603.000000</td>\n",
       "      <td>202.000000</td>\n",
       "      <td>6.200000</td>\n",
       "    </tr>\n",
       "  </tbody>\n",
       "</table>\n",
       "</div>"
      ],
      "text/plain": [
       "              Age   RestingBP  Cholesterol       MaxHR     Oldpeak\n",
       "count  686.000000  686.000000   686.000000  686.000000  686.000000\n",
       "mean    53.690962  132.091837   196.749271  136.677843    0.907289\n",
       "std      9.282468   18.546025   111.301411   25.526051    1.074837\n",
       "min     28.000000    0.000000     0.000000   60.000000   -2.000000\n",
       "25%     48.000000  120.000000   170.000000  120.000000    0.000000\n",
       "50%     54.000000  130.000000   222.000000  138.000000    0.600000\n",
       "75%     60.000000  140.000000   265.000000  156.000000    1.500000\n",
       "max     76.000000  200.000000   603.000000  202.000000    6.200000"
      ]
     },
     "execution_count": 12,
     "metadata": {},
     "output_type": "execute_result"
    }
   ],
   "source": [
    "psdf_train[['Age','RestingBP','Cholesterol','MaxHR','Oldpeak']].describe()"
   ]
  },
  {
   "cell_type": "markdown",
   "id": "fd9c9118-a8d8-4d82-9558-8b91ddd9a16f",
   "metadata": {},
   "source": [
    "From the summary table above, it is evident that there are potential outliers for `Cholesterol` and `RestingBP`. `Cholesterol`has a maximum of 603 which is more than two standard deviations above the mean. This observation is suspect, but more information of that particular observation would be needed before removing it. The minimum resting blood pressure and cholesterol are 0. `Cholesterol` and `RestingBP` of 0 is cause for concern. It could be that these values were not recorded or that these values are true measurements. We do not know for certain. Our concerns is that these observations might be over represented in either the test or training data and lead inaccurate model predictions or erroneously be selected as a good predictor for heart disease.\n",
    "\n",
    "To assess the proportion of observations with either `Cholesterol` of 0 or `RestingBP` we obtained counts by filtering the `SPARK SQL` dataset accordingly."
   ]
  },
  {
   "cell_type": "markdown",
   "id": "d66842fb-f01e-45e3-aedd-d6a6306d8c7c",
   "metadata": {},
   "source": [
    "First, let us look at the occurrences of a `RestingBP` of 0. The value below is the count from the training data set."
   ]
  },
  {
   "cell_type": "code",
   "execution_count": 13,
   "id": "8453ba7f-b6a1-457c-813a-4dd3fdb3c40b",
   "metadata": {},
   "outputs": [
    {
     "name": "stdout",
     "output_type": "stream",
     "text": [
      "1\n"
     ]
    }
   ],
   "source": [
    "# Display counts for RestingBP of 0\n",
    "print(train.filter(train.RestingBP == 0).count())"
   ]
  },
  {
   "cell_type": "markdown",
   "id": "ff5d89de-6d8f-4540-978d-29c6efd011e7",
   "metadata": {},
   "source": [
    "There is only a single observation with a `RestingBP` of 0. Because we cannot determine the reason for this value, we will continue to use this observation.\n",
    "\n",
    "Now, let's examine counts for observations where `Cholesterol` is zero. The first value printed is the number of observations in the training and the second number is ratio of observations with heart disease and `Cholesterol` of 0 out of the total number of observations with heart disease in the training data."
   ]
  },
  {
   "cell_type": "code",
   "execution_count": 14,
   "id": "2f5e696a-94ab-4ff6-87e2-0a2e25cbac2f",
   "metadata": {},
   "outputs": [
    {
     "name": "stdout",
     "output_type": "stream",
     "text": [
      "135 0.3151041666666667\n"
     ]
    }
   ],
   "source": [
    "# Display counts for Cholesterol of 0 and respective ratios for training and test data\n",
    "print(train.filter(train.Cholesterol == 0).count(),\n",
    "      train.filter(train.Cholesterol == 0)\n",
    "      .filter(train.HeartDisease == 1).count()/\n",
    "      train.filter(train.HeartDisease == 1).count())"
   ]
  },
  {
   "cell_type": "markdown",
   "id": "876f027d-b16f-4e48-b68e-d4c3e1f9eac5",
   "metadata": {},
   "source": [
    "We calculated the proportion of observations with heart disease and cholesterol measurement of 0. This proportion is approximately 0.315."
   ]
  },
  {
   "cell_type": "markdown",
   "id": "ba9a1b7d-e066-463a-924b-5145718f2506",
   "metadata": {},
   "source": [
    "There is a relatively weak correlation -0.246 between heart disease and cholesterol. However, given the general understanding of the relationship between heart disease, we decided to proceed with outlier observations and make note of this for further work."
   ]
  },
  {
   "cell_type": "code",
   "execution_count": 15,
   "id": "8d197e07-a453-4907-b7c9-69363d508cd9",
   "metadata": {},
   "outputs": [
    {
     "name": "stderr",
     "output_type": "stream",
     "text": [
      "22/04/30 23:47:01 WARN InstanceBuilder$NativeBLAS: Failed to load implementation from:dev.ludovic.netlib.blas.JNIBLAS\n",
      "22/04/30 23:47:01 WARN InstanceBuilder$NativeBLAS: Failed to load implementation from:dev.ludovic.netlib.blas.ForeignLinkerBLAS\n",
      "                                                                                \r"
     ]
    },
    {
     "data": {
      "text/html": [
       "<style type=\"text/css\">\n",
       "#T_39b1b_row0_col0, #T_39b1b_row1_col1, #T_39b1b_row2_col2, #T_39b1b_row3_col3, #T_39b1b_row4_col4, #T_39b1b_row5_col5, #T_39b1b_row6_col6 {\n",
       "  background-color: #b40426;\n",
       "  color: #f1f1f1;\n",
       "}\n",
       "#T_39b1b_row0_col1 {\n",
       "  background-color: #abc8fd;\n",
       "  color: #000000;\n",
       "}\n",
       "#T_39b1b_row0_col2, #T_39b1b_row2_col6 {\n",
       "  background-color: #6282ea;\n",
       "  color: #f1f1f1;\n",
       "}\n",
       "#T_39b1b_row0_col3 {\n",
       "  background-color: #bbd1f8;\n",
       "  color: #000000;\n",
       "}\n",
       "#T_39b1b_row0_col4 {\n",
       "  background-color: #3d50c3;\n",
       "  color: #f1f1f1;\n",
       "}\n",
       "#T_39b1b_row0_col5 {\n",
       "  background-color: #b2ccfb;\n",
       "  color: #000000;\n",
       "}\n",
       "#T_39b1b_row0_col6 {\n",
       "  background-color: #dfdbd9;\n",
       "  color: #000000;\n",
       "}\n",
       "#T_39b1b_row1_col0 {\n",
       "  background-color: #d7dce3;\n",
       "  color: #000000;\n",
       "}\n",
       "#T_39b1b_row1_col2 {\n",
       "  background-color: #9abbff;\n",
       "  color: #000000;\n",
       "}\n",
       "#T_39b1b_row1_col3, #T_39b1b_row5_col3 {\n",
       "  background-color: #8db0fe;\n",
       "  color: #000000;\n",
       "}\n",
       "#T_39b1b_row1_col4 {\n",
       "  background-color: #82a6fb;\n",
       "  color: #f1f1f1;\n",
       "}\n",
       "#T_39b1b_row1_col5 {\n",
       "  background-color: #98b9ff;\n",
       "  color: #000000;\n",
       "}\n",
       "#T_39b1b_row1_col6 {\n",
       "  background-color: #b7cff9;\n",
       "  color: #000000;\n",
       "}\n",
       "#T_39b1b_row2_col0 {\n",
       "  background-color: #80a3fa;\n",
       "  color: #f1f1f1;\n",
       "}\n",
       "#T_39b1b_row2_col1 {\n",
       "  background-color: #7699f6;\n",
       "  color: #f1f1f1;\n",
       "}\n",
       "#T_39b1b_row2_col3, #T_39b1b_row3_col2, #T_39b1b_row4_col0, #T_39b1b_row4_col1, #T_39b1b_row4_col5, #T_39b1b_row4_col6, #T_39b1b_row6_col4 {\n",
       "  background-color: #3b4cc0;\n",
       "  color: #f1f1f1;\n",
       "}\n",
       "#T_39b1b_row2_col4 {\n",
       "  background-color: #d6dce4;\n",
       "  color: #000000;\n",
       "}\n",
       "#T_39b1b_row2_col5 {\n",
       "  background-color: #7da0f9;\n",
       "  color: #f1f1f1;\n",
       "}\n",
       "#T_39b1b_row3_col0 {\n",
       "  background-color: #cedaeb;\n",
       "  color: #000000;\n",
       "}\n",
       "#T_39b1b_row3_col1 {\n",
       "  background-color: #6788ee;\n",
       "  color: #f1f1f1;\n",
       "}\n",
       "#T_39b1b_row3_col4 {\n",
       "  background-color: #7597f6;\n",
       "  color: #f1f1f1;\n",
       "}\n",
       "#T_39b1b_row3_col5 {\n",
       "  background-color: #7a9df8;\n",
       "  color: #f1f1f1;\n",
       "}\n",
       "#T_39b1b_row3_col6 {\n",
       "  background-color: #dbdcde;\n",
       "  color: #000000;\n",
       "}\n",
       "#T_39b1b_row4_col2 {\n",
       "  background-color: #c4d5f3;\n",
       "  color: #000000;\n",
       "}\n",
       "#T_39b1b_row4_col3 {\n",
       "  background-color: #5470de;\n",
       "  color: #f1f1f1;\n",
       "}\n",
       "#T_39b1b_row5_col0 {\n",
       "  background-color: #d3dbe7;\n",
       "  color: #000000;\n",
       "}\n",
       "#T_39b1b_row5_col1 {\n",
       "  background-color: #88abfd;\n",
       "  color: #000000;\n",
       "}\n",
       "#T_39b1b_row5_col2 {\n",
       "  background-color: #90b2fe;\n",
       "  color: #000000;\n",
       "}\n",
       "#T_39b1b_row5_col4 {\n",
       "  background-color: #7093f3;\n",
       "  color: #f1f1f1;\n",
       "}\n",
       "#T_39b1b_row5_col6 {\n",
       "  background-color: #efcebd;\n",
       "  color: #000000;\n",
       "}\n",
       "#T_39b1b_row6_col0 {\n",
       "  background-color: #dedcdb;\n",
       "  color: #000000;\n",
       "}\n",
       "#T_39b1b_row6_col1 {\n",
       "  background-color: #799cf8;\n",
       "  color: #f1f1f1;\n",
       "}\n",
       "#T_39b1b_row6_col2 {\n",
       "  background-color: #4055c8;\n",
       "  color: #f1f1f1;\n",
       "}\n",
       "#T_39b1b_row6_col3 {\n",
       "  background-color: #cad8ef;\n",
       "  color: #000000;\n",
       "}\n",
       "#T_39b1b_row6_col5 {\n",
       "  background-color: #dcdddd;\n",
       "  color: #000000;\n",
       "}\n",
       "</style>\n",
       "<table id=\"T_39b1b\">\n",
       "  <thead>\n",
       "    <tr>\n",
       "      <th class=\"blank level0\" >&nbsp;</th>\n",
       "      <th id=\"T_39b1b_level0_col0\" class=\"col_heading level0 col0\" >Age</th>\n",
       "      <th id=\"T_39b1b_level0_col1\" class=\"col_heading level0 col1\" >RestingBP</th>\n",
       "      <th id=\"T_39b1b_level0_col2\" class=\"col_heading level0 col2\" >Cholesterol</th>\n",
       "      <th id=\"T_39b1b_level0_col3\" class=\"col_heading level0 col3\" >FastingBS</th>\n",
       "      <th id=\"T_39b1b_level0_col4\" class=\"col_heading level0 col4\" >MaxHR</th>\n",
       "      <th id=\"T_39b1b_level0_col5\" class=\"col_heading level0 col5\" >Oldpeak</th>\n",
       "      <th id=\"T_39b1b_level0_col6\" class=\"col_heading level0 col6\" >HeartDisease</th>\n",
       "    </tr>\n",
       "  </thead>\n",
       "  <tbody>\n",
       "    <tr>\n",
       "      <th id=\"T_39b1b_level0_row0\" class=\"row_heading level0 row0\" >Age</th>\n",
       "      <td id=\"T_39b1b_row0_col0\" class=\"data row0 col0\" >1.000</td>\n",
       "      <td id=\"T_39b1b_row0_col1\" class=\"data row0 col1\" >0.263</td>\n",
       "      <td id=\"T_39b1b_row0_col2\" class=\"data row0 col2\" >-0.114</td>\n",
       "      <td id=\"T_39b1b_row0_col3\" class=\"data row0 col3\" >0.217</td>\n",
       "      <td id=\"T_39b1b_row0_col4\" class=\"data row0 col4\" >-0.418</td>\n",
       "      <td id=\"T_39b1b_row0_col5\" class=\"data row0 col5\" >0.240</td>\n",
       "      <td id=\"T_39b1b_row0_col6\" class=\"data row0 col6\" >0.298</td>\n",
       "    </tr>\n",
       "    <tr>\n",
       "      <th id=\"T_39b1b_level0_row1\" class=\"row_heading level0 row1\" >RestingBP</th>\n",
       "      <td id=\"T_39b1b_row1_col0\" class=\"data row1 col0\" >0.263</td>\n",
       "      <td id=\"T_39b1b_row1_col1\" class=\"data row1 col1\" >1.000</td>\n",
       "      <td id=\"T_39b1b_row1_col2\" class=\"data row1 col2\" >0.093</td>\n",
       "      <td id=\"T_39b1b_row1_col3\" class=\"data row1 col3\" >0.044</td>\n",
       "      <td id=\"T_39b1b_row1_col4\" class=\"data row1 col4\" >-0.113</td>\n",
       "      <td id=\"T_39b1b_row1_col5\" class=\"data row1 col5\" >0.151</td>\n",
       "      <td id=\"T_39b1b_row1_col6\" class=\"data row1 col6\" >0.103</td>\n",
       "    </tr>\n",
       "    <tr>\n",
       "      <th id=\"T_39b1b_level0_row2\" class=\"row_heading level0 row2\" >Cholesterol</th>\n",
       "      <td id=\"T_39b1b_row2_col0\" class=\"data row2 col0\" >-0.114</td>\n",
       "      <td id=\"T_39b1b_row2_col1\" class=\"data row2 col1\" >0.093</td>\n",
       "      <td id=\"T_39b1b_row2_col2\" class=\"data row2 col2\" >1.000</td>\n",
       "      <td id=\"T_39b1b_row2_col3\" class=\"data row2 col3\" >-0.275</td>\n",
       "      <td id=\"T_39b1b_row2_col4\" class=\"data row2 col4\" >0.250</td>\n",
       "      <td id=\"T_39b1b_row2_col5\" class=\"data row2 col5\" >0.057</td>\n",
       "      <td id=\"T_39b1b_row2_col6\" class=\"data row2 col6\" >-0.246</td>\n",
       "    </tr>\n",
       "    <tr>\n",
       "      <th id=\"T_39b1b_level0_row3\" class=\"row_heading level0 row3\" >FastingBS</th>\n",
       "      <td id=\"T_39b1b_row3_col0\" class=\"data row3 col0\" >0.217</td>\n",
       "      <td id=\"T_39b1b_row3_col1\" class=\"data row3 col1\" >0.044</td>\n",
       "      <td id=\"T_39b1b_row3_col2\" class=\"data row3 col2\" >-0.275</td>\n",
       "      <td id=\"T_39b1b_row3_col3\" class=\"data row3 col3\" >1.000</td>\n",
       "      <td id=\"T_39b1b_row3_col4\" class=\"data row3 col4\" >-0.169</td>\n",
       "      <td id=\"T_39b1b_row3_col5\" class=\"data row3 col5\" >0.049</td>\n",
       "      <td id=\"T_39b1b_row3_col6\" class=\"data row3 col6\" >0.277</td>\n",
       "    </tr>\n",
       "    <tr>\n",
       "      <th id=\"T_39b1b_level0_row4\" class=\"row_heading level0 row4\" >MaxHR</th>\n",
       "      <td id=\"T_39b1b_row4_col0\" class=\"data row4 col0\" >-0.418</td>\n",
       "      <td id=\"T_39b1b_row4_col1\" class=\"data row4 col1\" >-0.113</td>\n",
       "      <td id=\"T_39b1b_row4_col2\" class=\"data row4 col2\" >0.250</td>\n",
       "      <td id=\"T_39b1b_row4_col3\" class=\"data row4 col3\" >-0.169</td>\n",
       "      <td id=\"T_39b1b_row4_col4\" class=\"data row4 col4\" >1.000</td>\n",
       "      <td id=\"T_39b1b_row4_col5\" class=\"data row4 col5\" >-0.185</td>\n",
       "      <td id=\"T_39b1b_row4_col6\" class=\"data row4 col6\" >-0.430</td>\n",
       "    </tr>\n",
       "    <tr>\n",
       "      <th id=\"T_39b1b_level0_row5\" class=\"row_heading level0 row5\" >Oldpeak</th>\n",
       "      <td id=\"T_39b1b_row5_col0\" class=\"data row5 col0\" >0.240</td>\n",
       "      <td id=\"T_39b1b_row5_col1\" class=\"data row5 col1\" >0.151</td>\n",
       "      <td id=\"T_39b1b_row5_col2\" class=\"data row5 col2\" >0.057</td>\n",
       "      <td id=\"T_39b1b_row5_col3\" class=\"data row5 col3\" >0.049</td>\n",
       "      <td id=\"T_39b1b_row5_col4\" class=\"data row5 col4\" >-0.185</td>\n",
       "      <td id=\"T_39b1b_row5_col5\" class=\"data row5 col5\" >1.000</td>\n",
       "      <td id=\"T_39b1b_row5_col6\" class=\"data row5 col6\" >0.406</td>\n",
       "    </tr>\n",
       "    <tr>\n",
       "      <th id=\"T_39b1b_level0_row6\" class=\"row_heading level0 row6\" >HeartDisease</th>\n",
       "      <td id=\"T_39b1b_row6_col0\" class=\"data row6 col0\" >0.298</td>\n",
       "      <td id=\"T_39b1b_row6_col1\" class=\"data row6 col1\" >0.103</td>\n",
       "      <td id=\"T_39b1b_row6_col2\" class=\"data row6 col2\" >-0.246</td>\n",
       "      <td id=\"T_39b1b_row6_col3\" class=\"data row6 col3\" >0.277</td>\n",
       "      <td id=\"T_39b1b_row6_col4\" class=\"data row6 col4\" >-0.430</td>\n",
       "      <td id=\"T_39b1b_row6_col5\" class=\"data row6 col5\" >0.406</td>\n",
       "      <td id=\"T_39b1b_row6_col6\" class=\"data row6 col6\" >1.000</td>\n",
       "    </tr>\n",
       "  </tbody>\n",
       "</table>\n"
      ],
      "text/plain": [
       "<pandas.io.formats.style.Styler at 0x12692e0b0>"
      ]
     },
     "execution_count": 15,
     "metadata": {},
     "output_type": "execute_result"
    }
   ],
   "source": [
    "psdf_train.corr().style.background_gradient(cmap='coolwarm').set_precision(3)"
   ]
  },
  {
   "cell_type": "markdown",
   "id": "5910df64-7bc2-46bd-b60d-f985902ecea8",
   "metadata": {},
   "source": [
    "The above table shows that no numeric variable has a correlation more extreme than -0.430 which is the correlation between heart disease and max heart rate. Oldpeak has a correlation of 0.406. These finding suggest that while there is some weak correlations to no correlation among the predictors. This is a good thing. However, the predictors are also only just weakly correlated with heart disease."
   ]
  },
  {
   "cell_type": "markdown",
   "id": "6193cdf4-e97d-419f-8064-8497997f9957",
   "metadata": {},
   "source": [
    "Now we will find aggregate means for each of the numeric variables based on Heart Disease."
   ]
  },
  {
   "cell_type": "code",
   "execution_count": 16,
   "id": "5caca6f2-cf19-4795-b6b7-d6f8437c085d",
   "metadata": {},
   "outputs": [
    {
     "name": "stderr",
     "output_type": "stream",
     "text": [
      "22/04/30 23:47:06 WARN package: Truncated the string representation of a plan since it was too large. This behavior can be adjusted by setting 'spark.sql.debug.maxToStringFields'.\n"
     ]
    },
    {
     "data": {
      "text/html": [
       "<div>\n",
       "<style scoped>\n",
       "    .dataframe tbody tr th:only-of-type {\n",
       "        vertical-align: middle;\n",
       "    }\n",
       "\n",
       "    .dataframe tbody tr th {\n",
       "        vertical-align: top;\n",
       "    }\n",
       "\n",
       "    .dataframe thead tr th {\n",
       "        text-align: left;\n",
       "    }\n",
       "\n",
       "    .dataframe thead tr:last-of-type th {\n",
       "        text-align: right;\n",
       "    }\n",
       "</style>\n",
       "<table border=\"1\" class=\"dataframe\">\n",
       "  <thead>\n",
       "    <tr>\n",
       "      <th></th>\n",
       "      <th colspan=\"2\" halign=\"left\">Age</th>\n",
       "      <th colspan=\"2\" halign=\"left\">RestingBP</th>\n",
       "      <th colspan=\"2\" halign=\"left\">Cholesterol</th>\n",
       "      <th colspan=\"2\" halign=\"left\">MaxHR</th>\n",
       "      <th colspan=\"2\" halign=\"left\">Oldpeak</th>\n",
       "    </tr>\n",
       "    <tr>\n",
       "      <th></th>\n",
       "      <th>mean</th>\n",
       "      <th>std</th>\n",
       "      <th>mean</th>\n",
       "      <th>std</th>\n",
       "      <th>mean</th>\n",
       "      <th>std</th>\n",
       "      <th>mean</th>\n",
       "      <th>std</th>\n",
       "      <th>mean</th>\n",
       "      <th>std</th>\n",
       "    </tr>\n",
       "    <tr>\n",
       "      <th>HeartDisease</th>\n",
       "      <th></th>\n",
       "      <th></th>\n",
       "      <th></th>\n",
       "      <th></th>\n",
       "      <th></th>\n",
       "      <th></th>\n",
       "      <th></th>\n",
       "      <th></th>\n",
       "      <th></th>\n",
       "      <th></th>\n",
       "    </tr>\n",
       "  </thead>\n",
       "  <tbody>\n",
       "    <tr>\n",
       "      <th>1</th>\n",
       "      <td>56.140625</td>\n",
       "      <td>8.400299</td>\n",
       "      <td>133.783854</td>\n",
       "      <td>20.245559</td>\n",
       "      <td>172.460938</td>\n",
       "      <td>128.289952</td>\n",
       "      <td>126.945312</td>\n",
       "      <td>23.208998</td>\n",
       "      <td>1.294271</td>\n",
       "      <td>1.161353</td>\n",
       "    </tr>\n",
       "    <tr>\n",
       "      <th>0</th>\n",
       "      <td>50.576159</td>\n",
       "      <td>9.429181</td>\n",
       "      <td>129.940397</td>\n",
       "      <td>15.903251</td>\n",
       "      <td>227.632450</td>\n",
       "      <td>74.434305</td>\n",
       "      <td>149.052980</td>\n",
       "      <td>22.867752</td>\n",
       "      <td>0.415232</td>\n",
       "      <td>0.692076</td>\n",
       "    </tr>\n",
       "  </tbody>\n",
       "</table>\n",
       "</div>"
      ],
      "text/plain": [
       "                    Age             RestingBP            Cholesterol                   MaxHR              Oldpeak          \n",
       "                   mean       std        mean        std        mean         std        mean        std      mean       std\n",
       "HeartDisease                                                                                                               \n",
       "1             56.140625  8.400299  133.783854  20.245559  172.460938  128.289952  126.945312  23.208998  1.294271  1.161353\n",
       "0             50.576159  9.429181  129.940397  15.903251  227.632450   74.434305  149.052980  22.867752  0.415232  0.692076"
      ]
     },
     "execution_count": 16,
     "metadata": {},
     "output_type": "execute_result"
    }
   ],
   "source": [
    "psdf_summ_group = psdf_train.groupby('HeartDisease').agg(\n",
    "    {'Age': ['mean', 'std'], 'RestingBP': ['mean', 'std'], 'Cholesterol': ['mean', 'std'],\n",
    "     'MaxHR': ['mean', 'std'], 'Oldpeak': ['mean', 'std']})\n",
    "psdf_summ_group"
   ]
  },
  {
   "cell_type": "markdown",
   "id": "f7114af1-1261-4bb1-9139-ff6d78008871",
   "metadata": {},
   "source": [
    "There are visible difference in the mean and standard deviations over `HeartDisease`. With the exception o `Cholesterol` and `MaxHR` all means and standard deviations are greater in observations flagged as having heart disease. With respect to Cholesterol, the difference in mean might be linked to previously mentioned the extreme maximum and minimum values."
   ]
  },
  {
   "cell_type": "markdown",
   "id": "fcfd9170-e821-4dc8-aa79-685dbc892978",
   "metadata": {},
   "source": [
    "Let's repeat above task to get mean and std for the given numeric variables based on sex. "
   ]
  },
  {
   "cell_type": "code",
   "execution_count": 17,
   "id": "d56755ef-57d7-47d0-9ab1-c6e49f6d7a95",
   "metadata": {},
   "outputs": [
    {
     "data": {
      "text/html": [
       "<div>\n",
       "<style scoped>\n",
       "    .dataframe tbody tr th:only-of-type {\n",
       "        vertical-align: middle;\n",
       "    }\n",
       "\n",
       "    .dataframe tbody tr th {\n",
       "        vertical-align: top;\n",
       "    }\n",
       "\n",
       "    .dataframe thead tr th {\n",
       "        text-align: left;\n",
       "    }\n",
       "\n",
       "    .dataframe thead tr:last-of-type th {\n",
       "        text-align: right;\n",
       "    }\n",
       "</style>\n",
       "<table border=\"1\" class=\"dataframe\">\n",
       "  <thead>\n",
       "    <tr>\n",
       "      <th></th>\n",
       "      <th colspan=\"2\" halign=\"left\">Age</th>\n",
       "      <th colspan=\"2\" halign=\"left\">RestingBP</th>\n",
       "      <th colspan=\"2\" halign=\"left\">Cholesterol</th>\n",
       "      <th colspan=\"2\" halign=\"left\">MaxHR</th>\n",
       "      <th colspan=\"2\" halign=\"left\">Oldpeak</th>\n",
       "    </tr>\n",
       "    <tr>\n",
       "      <th></th>\n",
       "      <th>mean</th>\n",
       "      <th>std</th>\n",
       "      <th>mean</th>\n",
       "      <th>std</th>\n",
       "      <th>mean</th>\n",
       "      <th>std</th>\n",
       "      <th>mean</th>\n",
       "      <th>std</th>\n",
       "      <th>mean</th>\n",
       "      <th>std</th>\n",
       "    </tr>\n",
       "    <tr>\n",
       "      <th>Sex</th>\n",
       "      <th></th>\n",
       "      <th></th>\n",
       "      <th></th>\n",
       "      <th></th>\n",
       "      <th></th>\n",
       "      <th></th>\n",
       "      <th></th>\n",
       "      <th></th>\n",
       "      <th></th>\n",
       "      <th></th>\n",
       "    </tr>\n",
       "  </thead>\n",
       "  <tbody>\n",
       "    <tr>\n",
       "      <th>F</th>\n",
       "      <td>52.514085</td>\n",
       "      <td>9.956455</td>\n",
       "      <td>131.873239</td>\n",
       "      <td>19.182904</td>\n",
       "      <td>238.049296</td>\n",
       "      <td>92.569570</td>\n",
       "      <td>145.556338</td>\n",
       "      <td>22.463374</td>\n",
       "      <td>0.687324</td>\n",
       "      <td>0.978119</td>\n",
       "    </tr>\n",
       "    <tr>\n",
       "      <th>M</th>\n",
       "      <td>53.998162</td>\n",
       "      <td>9.082900</td>\n",
       "      <td>132.148897</td>\n",
       "      <td>18.393837</td>\n",
       "      <td>185.968750</td>\n",
       "      <td>113.313598</td>\n",
       "      <td>134.360294</td>\n",
       "      <td>25.786608</td>\n",
       "      <td>0.964706</td>\n",
       "      <td>1.092248</td>\n",
       "    </tr>\n",
       "  </tbody>\n",
       "</table>\n",
       "</div>"
      ],
      "text/plain": [
       "           Age             RestingBP            Cholesterol                   MaxHR              Oldpeak          \n",
       "          mean       std        mean        std        mean         std        mean        std      mean       std\n",
       "Sex                                                                                                               \n",
       "F    52.514085  9.956455  131.873239  19.182904  238.049296   92.569570  145.556338  22.463374  0.687324  0.978119\n",
       "M    53.998162  9.082900  132.148897  18.393837  185.968750  113.313598  134.360294  25.786608  0.964706  1.092248"
      ]
     },
     "execution_count": 17,
     "metadata": {},
     "output_type": "execute_result"
    }
   ],
   "source": [
    "psdf_summ_sex = psdf_train.groupby('Sex').agg(\n",
    "    {'Age': ['mean', 'std'], 'RestingBP': ['mean', 'std'], 'Cholesterol': ['mean', 'std'],\n",
    "     'MaxHR': ['mean', 'std'], 'Oldpeak': ['mean', 'std']})\n",
    "psdf_summ_sex"
   ]
  },
  {
   "cell_type": "markdown",
   "id": "cb609a2c-50f2-4337-9b53-90f146644743",
   "metadata": {},
   "source": [
    "When comparing means between male and female observations, we noted that there are not strong differences between sexes. However, the female `Cholesterol` mean is approximately 238 and the male mean is ~186. It is possible that this difference is due to the fact that women tend to have higher levels of HDL cholesterol than men."
   ]
  },
  {
   "cell_type": "markdown",
   "id": "231d4a3c-edfd-4737-80be-1847675cdb91",
   "metadata": {},
   "source": [
    "Examining the center and spread of our numeric variables allowed us to identify unique points in `RestingBP` and `Cholesterol`. To visualize the shape and spread of these variables' distributions, when created histograms for each of the numeric variables."
   ]
  },
  {
   "cell_type": "markdown",
   "id": "b805e009-e06e-45e4-8450-1901d17342e3",
   "metadata": {},
   "source": [
    "First, let us look at the distribution of `Age`."
   ]
  },
  {
   "cell_type": "code",
   "execution_count": 18,
   "id": "39533586-e553-46cd-9972-9479638cd250",
   "metadata": {},
   "outputs": [
    {
     "data": {
      "image/png": "[encoded data removed]",
      "text/plain": [
       "<Figure size 720x504 with 1 Axes>"
      ]
     },
     "metadata": {
      "needs_background": "light"
     },
     "output_type": "display_data"
    }
   ],
   "source": [
    "pd_train.Age.hist(bins = 10)\n",
    "plt.xlabel(\"Age\")\n",
    "plt.title(\"Histogram of Age of Participants\")\n",
    "plt.show()"
   ]
  },
  {
   "cell_type": "markdown",
   "id": "7faa121e-8f45-4318-bdc0-b23639a28a8d",
   "metadata": {},
   "source": [
    "The histogram for `Age` shows a bell shaped left-skewed distribution. This is likely due to the fact that older individuals the ones most commonly assessed for heart disease. "
   ]
  },
  {
   "cell_type": "markdown",
   "id": "be084251-0c60-4809-97f1-34269d78a401",
   "metadata": {},
   "source": [
    "Next, we have a histogram of `RestingBP`."
   ]
  },
  {
   "cell_type": "code",
   "execution_count": 20,
   "id": "27328ee4-f2ad-4abe-9a7e-3d54af7ecf48",
   "metadata": {},
   "outputs": [
    {
     "data": {
      "image/png": "[encoded data removed]",
      "text/plain": [
       "<Figure size 720x504 with 1 Axes>"
      ]
     },
     "metadata": {
      "needs_background": "light"
     },
     "output_type": "display_data"
    }
   ],
   "source": [
    "pd_train.RestingBP.hist(bins = 20)\n",
    "plt.xlabel(\"RestingBP\")\n",
    "plt.title(\"Histogram of Participant Resting Blood Pressure\")\n",
    "plt.show()"
   ]
  },
  {
   "cell_type": "markdown",
   "id": "1b5e1b92-029a-4fa4-89f0-0cbc9fd334e8",
   "metadata": {},
   "source": [
    "Systolic blood pressure is typically greater than 100, which is what we see from this plot. There is one observation at zero which matches our previous finding."
   ]
  },
  {
   "cell_type": "markdown",
   "id": "c30eb46a-f555-4c93-a552-82b414a37981",
   "metadata": {},
   "source": [
    "Histogram for `Cholesterol`."
   ]
  },
  {
   "cell_type": "code",
   "execution_count": 21,
   "id": "3ced71f3-5a84-4259-9c72-27d3afcaa47a",
   "metadata": {},
   "outputs": [
    {
     "data": {
      "image/png": "[encoded data removed]",
      "text/plain": [
       "<Figure size 720x504 with 1 Axes>"
      ]
     },
     "metadata": {
      "needs_background": "light"
     },
     "output_type": "display_data"
    }
   ],
   "source": [
    "pd_train.Cholesterol.hist(bins = 20)\n",
    "plt.xlabel(\"Cholesterol\")\n",
    "plt.title(\"Histogram of Participant Cholesterol Measurement\")\n",
    "plt.show()"
   ]
  },
  {
   "cell_type": "markdown",
   "id": "712bcd90-220b-4194-b789-87eb46e7dd09",
   "metadata": {},
   "source": [
    "Once again we see that many observations have `Cholesteral` of zero. At the upper end of the scale, you can see several values beyond 450. Most other observations are between 100 and 400. This matches our previous statistics."
   ]
  },
  {
   "cell_type": "markdown",
   "id": "b5daba3c-88cc-4ef4-aff8-72e3b94f85dd",
   "metadata": {},
   "source": [
    "Next, we have a histogram for `MaxHR`."
   ]
  },
  {
   "cell_type": "code",
   "execution_count": 43,
   "id": "02582202-0226-4bec-a670-b9d3e03dfd2d",
   "metadata": {},
   "outputs": [
    {
     "data": {
      "image/png": "[encoded data removed]",
      "text/plain": [
       "<Figure size 720x504 with 1 Axes>"
      ]
     },
     "metadata": {
      "needs_background": "light"
     },
     "output_type": "display_data"
    }
   ],
   "source": [
    "pd_train.MaxHR.hist(bins = 20)\n",
    "plt.xlabel(\"MaxHR\")\n",
    "plt.title(\"Histogram of Participant Maximum Heart Rate\")\n",
    "plt.show()"
   ]
  },
  {
   "cell_type": "markdown",
   "id": "afa8d165-8731-44a7-80ae-074d975eb526",
   "metadata": {},
   "source": [
    "`MaxHR` has a large spread. This histogram matches with the fact that `MaxHR` has a mean and standard deviation of ~25."
   ]
  },
  {
   "cell_type": "markdown",
   "id": "4dcb3261-fa33-4f4b-964f-685c85f28f84",
   "metadata": {},
   "source": [
    "Our last histogram is for `Oldpeak`."
   ]
  },
  {
   "cell_type": "code",
   "execution_count": 46,
   "id": "0960b30b-3ecf-4242-94d4-ac4eae408497",
   "metadata": {},
   "outputs": [
    {
     "data": {
      "image/png": "[encoded data removed]",
      "text/plain": [
       "<Figure size 720x504 with 1 Axes>"
      ]
     },
     "metadata": {
      "needs_background": "light"
     },
     "output_type": "display_data"
    }
   ],
   "source": [
    "pd_train.Oldpeak.hist(bins = 50)\n",
    "plt.xlabel(\"Oldpeak\")\n",
    "plt.title(\"Histogram of Participant Oldpeak\")\n",
    "plt.show()"
   ]
  },
  {
   "cell_type": "markdown",
   "id": "a046754b-8368-4507-94dd-bc7b72f2cf15",
   "metadata": {},
   "source": [
    "`Oldpeak` has a rather unusual histogram with numerous observations at zero and no clear shape. The distribution almost looks as if this variable is more discrete than continuous. This histogram matches with the fact that `Oldspeak` values are generally small."
   ]
  },
  {
   "cell_type": "markdown",
   "id": "ca3408fa-769b-4eff-bfa1-354f4488ba4e",
   "metadata": {},
   "source": [
    "By now we have a pretty good sense of shape, spread, and center of the numeric predictor variables. Let's now examine how these components change when grouped by `HeartDisease`. To do this we will look at boxplots for each numeric variable plotted over `HeartDisease`."
   ]
  },
  {
   "cell_type": "code",
   "execution_count": 26,
   "id": "e128d5e0-fa5a-40c8-a8fd-41cfba781939",
   "metadata": {},
   "outputs": [
    {
     "data": {
      "image/png": "[encoded data removed]",
      "text/plain": [
       "<Figure size 720x504 with 1 Axes>"
      ]
     },
     "metadata": {
      "needs_background": "light"
     },
     "output_type": "display_data"
    }
   ],
   "source": [
    "pd_train.boxplot(column = ['Age'], by = 'HeartDisease')\n",
    "plt.show()"
   ]
  },
  {
   "cell_type": "markdown",
   "id": "13824cf3-5b7d-4236-97dc-6643715cebea",
   "metadata": {},
   "source": [
    "As shown by the 8 number summaries and aggregate mean and standard deviation tables, individual's with heart disease tend to be older. "
   ]
  },
  {
   "cell_type": "code",
   "execution_count": null,
   "id": "eb33314c-5aa1-447c-8e68-9411f59b669e",
   "metadata": {},
   "outputs": [],
   "source": [
    "Bo"
   ]
  },
  {
   "cell_type": "code",
   "execution_count": 28,
   "id": "627d173f-4e71-438e-9b27-a868a9a32dc3",
   "metadata": {},
   "outputs": [
    {
     "data": {
      "image/png": "[encoded data removed]",
      "text/plain": [
       "<Figure size 720x504 with 1 Axes>"
      ]
     },
     "metadata": {
      "needs_background": "light"
     },
     "output_type": "display_data"
    }
   ],
   "source": [
    "pd_train.boxplot(column = ['RestingBP'], by = 'HeartDisease')\n",
    "plt.show()"
   ]
  },
  {
   "cell_type": "code",
   "execution_count": null,
   "id": "66e8f819-ec4d-49e3-9e49-42ef43ac5a11",
   "metadata": {},
   "outputs": [],
   "source": []
  },
  {
   "cell_type": "code",
   "execution_count": 30,
   "id": "aa54afa2-9151-481f-ad49-a22bb61459db",
   "metadata": {},
   "outputs": [
    {
     "data": {
      "image/png": "[encoded data removed]",
      "text/plain": [
       "<Figure size 720x504 with 1 Axes>"
      ]
     },
     "metadata": {
      "needs_background": "light"
     },
     "output_type": "display_data"
    }
   ],
   "source": [
    "pd_train.boxplot(column = ['Cholesterol'], by = 'HeartDisease')\n",
    "plt.show()"
   ]
  },
  {
   "cell_type": "code",
   "execution_count": 73,
   "id": "5342f00b-aa49-4a9a-a6f3-eb284166045d",
   "metadata": {},
   "outputs": [
    {
     "data": {
      "image/png": "[encoded data removed]",
      "text/plain": [
       "<Figure size 720x504 with 1 Axes>"
      ]
     },
     "metadata": {
      "needs_background": "light"
     },
     "output_type": "display_data"
    }
   ],
   "source": [
    "pd_train.boxplot(column = ['MaxHR'], by = 'HeartDisease')\n",
    "plt.show()"
   ]
  },
  {
   "cell_type": "code",
   "execution_count": 33,
   "id": "a1364a03-ceeb-47b8-af87-288ac931ddab",
   "metadata": {},
   "outputs": [
    {
     "data": {
      "image/png": "[encoded data removed]",
      "text/plain": [
       "<Figure size 720x504 with 1 Axes>"
      ]
     },
     "metadata": {
      "needs_background": "light"
     },
     "output_type": "display_data"
    }
   ],
   "source": [
    "pd_train.boxplot(column = ['Oldpeak'], by = 'HeartDisease')\n",
    "plt.show()"
   ]
  },
  {
   "cell_type": "code",
   "execution_count": 34,
   "id": "6bbcecdb-1ba1-4e01-ac08-12e32e139cd2",
   "metadata": {},
   "outputs": [
    {
     "name": "stdout",
     "output_type": "stream",
     "text": [
      "+----------------+---+---+\n",
      "|HeartDisease_Sex|  F|  M|\n",
      "+----------------+---+---+\n",
      "|               1| 38|346|\n",
      "|               0|104|198|\n",
      "+----------------+---+---+\n",
      "\n"
     ]
    }
   ],
   "source": [
    "train.crosstab('HeartDisease', 'Sex').show()"
   ]
  },
  {
   "cell_type": "code",
   "execution_count": 35,
   "id": "ecb579ea-4fb5-45b1-bc95-072f930cc3fe",
   "metadata": {},
   "outputs": [
    {
     "name": "stdout",
     "output_type": "stream",
     "text": [
      "+--------------------------+---+---+---+---+\n",
      "|HeartDisease_ChestPainType|ASY|ATA|NAP| TA|\n",
      "+--------------------------+---+---+---+---+\n",
      "|                         1|299| 18| 53| 14|\n",
      "|                         0| 78|106| 97| 21|\n",
      "+--------------------------+---+---+---+---+\n",
      "\n"
     ]
    }
   ],
   "source": [
    "train.crosstab('HeartDisease', 'ChestPainType').show()"
   ]
  },
  {
   "cell_type": "code",
   "execution_count": 36,
   "id": "7f36d1c7-38b9-415b-b8e6-df0e0ba932da",
   "metadata": {},
   "outputs": [
    {
     "name": "stdout",
     "output_type": "stream",
     "text": [
      "+----------------------+---+---+\n",
      "|HeartDisease_FastingBS|  0|  1|\n",
      "+----------------------+---+---+\n",
      "|                     1|250|134|\n",
      "|                     0|269| 33|\n",
      "+----------------------+---+---+\n",
      "\n"
     ]
    }
   ],
   "source": [
    "train.crosstab('HeartDisease', 'FastingBS').show()"
   ]
  },
  {
   "cell_type": "code",
   "execution_count": 37,
   "id": "3a095f8d-704c-42ee-8be7-95a90af96695",
   "metadata": {},
   "outputs": [
    {
     "name": "stdout",
     "output_type": "stream",
     "text": [
      "+-----------------------+---+------+---+\n",
      "|HeartDisease_RestingECG|LVH|Normal| ST|\n",
      "+-----------------------+---+------+---+\n",
      "|                      1| 69|   219| 96|\n",
      "|                      0| 65|   194| 43|\n",
      "+-----------------------+---+------+---+\n",
      "\n"
     ]
    }
   ],
   "source": [
    "train.crosstab('HeartDisease', 'RestingECG').show()"
   ]
  },
  {
   "cell_type": "code",
   "execution_count": 38,
   "id": "346d5393-f2e8-492f-9467-a6322be0abf8",
   "metadata": {},
   "outputs": [
    {
     "name": "stdout",
     "output_type": "stream",
     "text": [
      "+---------------------------+---+---+\n",
      "|HeartDisease_ExerciseAngina|  N|  Y|\n",
      "+---------------------------+---+---+\n",
      "|                          0|262| 40|\n",
      "|                          1|144|240|\n",
      "+---------------------------+---+---+\n",
      "\n"
     ]
    }
   ],
   "source": [
    "train.crosstab('HeartDisease', 'ExerciseAngina').show()"
   ]
  },
  {
   "cell_type": "code",
   "execution_count": 39,
   "id": "07604f44-fba9-44e7-80eb-2c7d507415d9",
   "metadata": {},
   "outputs": [
    {
     "name": "stdout",
     "output_type": "stream",
     "text": [
      "+---------------------+----+----+---+\n",
      "|HeartDisease_ST_Slope|Down|Flat| Up|\n",
      "+---------------------+----+----+---+\n",
      "|                    0|   9|  59|234|\n",
      "|                    1|  36| 282| 66|\n",
      "+---------------------+----+----+---+\n",
      "\n"
     ]
    }
   ],
   "source": [
    "train.crosstab('HeartDisease', 'ST_Slope').show()"
   ]
  },
  {
   "cell_type": "code",
   "execution_count": 40,
   "id": "70336678-80b2-4e0f-8ee6-460b52db614a",
   "metadata": {},
   "outputs": [
    {
     "data": {
      "image/png": "[encoded data removed]",
      "text/plain": [
       "<Figure size 720x504 with 1 Axes>"
      ]
     },
     "metadata": {
      "needs_background": "light"
     },
     "output_type": "display_data"
    }
   ],
   "source": [
    "cat_data = pd_train[['HeartDisease', 'Sex', 'ChestPainType', 'FastingBS',\n",
    "                     'RestingECG', 'ExerciseAngina', 'ST_Slope']]\n",
    "table = pd.crosstab(cat_data.HeartDisease, cat_data.Sex)\n",
    "table.plot.bar()\n",
    "plt.title(\"Bar Plot of Heart Disease by Sex\")\n",
    "plt.show()"
   ]
  },
  {
   "cell_type": "code",
   "execution_count": 83,
   "id": "1cf380c3-07ba-47c1-b806-5a7c8fa17521",
   "metadata": {},
   "outputs": [
    {
     "data": {
      "image/png": "[encoded data removed]",
      "text/plain": [
       "<Figure size 720x504 with 1 Axes>"
      ]
     },
     "metadata": {
      "needs_background": "light"
     },
     "output_type": "display_data"
    }
   ],
   "source": [
    "table = pd.crosstab(cat_data.HeartDisease, cat_data.ChestPainType)\n",
    "table.plot.bar()\n",
    "plt.title(\"Bar Plot of Heart Disease by Chest Pain Type\")\n",
    "plt.show()"
   ]
  },
  {
   "cell_type": "code",
   "execution_count": 84,
   "id": "ae19f8ec-bb94-449a-b8ba-a8c8a01da264",
   "metadata": {},
   "outputs": [
    {
     "data": {
      "image/png": "[encoded data removed]",
      "text/plain": [
       "<Figure size 720x504 with 1 Axes>"
      ]
     },
     "metadata": {
      "needs_background": "light"
     },
     "output_type": "display_data"
    }
   ],
   "source": [
    "table = pd.crosstab(cat_data.HeartDisease, cat_data.FastingBS)\n",
    "table.plot.bar()\n",
    "plt.title(\"Bar Plot of Heart Disease by Fasting BS\")\n",
    "plt.show()"
   ]
  },
  {
   "cell_type": "code",
   "execution_count": 85,
   "id": "4d0d26c4-862c-47f9-b56c-4cb01956f238",
   "metadata": {},
   "outputs": [
    {
     "data": {
      "image/png": "[encoded data removed]",
      "text/plain": [
       "<Figure size 720x504 with 1 Axes>"
      ]
     },
     "metadata": {
      "needs_background": "light"
     },
     "output_type": "display_data"
    }
   ],
   "source": [
    "table = pd.crosstab(cat_data.HeartDisease, cat_data.RestingECG)\n",
    "table.plot.bar()\n",
    "plt.title(\"Bar Plot of Heart Disease by Resting ECG\")\n",
    "plt.show()"
   ]
  },
  {
   "cell_type": "code",
   "execution_count": 86,
   "id": "0973bb5c-f52b-46fa-b010-509471040abb",
   "metadata": {},
   "outputs": [
    {
     "data": {
      "image/png": "[encoded data removed]",
      "text/plain": [
       "<Figure size 720x504 with 1 Axes>"
      ]
     },
     "metadata": {
      "needs_background": "light"
     },
     "output_type": "display_data"
    }
   ],
   "source": [
    "table = pd.crosstab(cat_data.HeartDisease, cat_data.ExerciseAngina)\n",
    "table.plot.bar()\n",
    "plt.title(\"Bar Plot of Heart Disease by Exercise Angina\")\n",
    "plt.show()"
   ]
  },
  {
   "cell_type": "code",
   "execution_count": 87,
   "id": "6e695ed9-583d-4ead-a6b4-3a29d62cb95b",
   "metadata": {},
   "outputs": [
    {
     "data": {
      "image/png": "[encoded data removed]",
      "text/plain": [
       "<Figure size 720x504 with 1 Axes>"
      ]
     },
     "metadata": {
      "needs_background": "light"
     },
     "output_type": "display_data"
    }
   ],
   "source": [
    "table = pd.crosstab(cat_data.HeartDisease, cat_data.ST_Slope)\n",
    "table.plot.bar()\n",
    "plt.title(\"Bar Plot of Heart Disease by ST Slope\")\n",
    "plt.show()"
   ]
  },
  {
   "cell_type": "markdown",
   "id": "a56854c6-e953-4c23-b485-3e6eef965791",
   "metadata": {
    "tags": []
   },
   "source": [
    "### Modeling"
   ]
  },
  {
   "cell_type": "code",
   "execution_count": 89,
   "id": "502bfe48-6159-409e-9062-df8b06f531f0",
   "metadata": {
    "tags": []
   },
   "outputs": [],
   "source": [
    "#import required library\n",
    "from pyspark.ml.feature import StringIndexer, OneHotEncoder, SQLTransformer, VectorAssembler"
   ]
  },
  {
   "cell_type": "code",
   "execution_count": 90,
   "id": "21bbeb98-5407-48ac-967d-0b611644ab3f",
   "metadata": {},
   "outputs": [],
   "source": [
    "sex_indexer = StringIndexer(inputCol = \"Sex\", outputCol=\"SexIndex\")\n",
    "\n",
    "chestPain_indexer = StringIndexer(inputCol = \"ChestPainType\", outputCol=\"ChestPainTypeIndex\")\n",
    "\n",
    "RestingECG_indexer = StringIndexer(inputCol = \"RestingECG\", outputCol=\"RestingECGIndex\")\n",
    "\n",
    "ExerciseAngina_indexer = StringIndexer(inputCol = \"ExerciseAngina\", outputCol=\"ExerciseAnginaIndex\")\n",
    "\n",
    "ST_Slope_indexer  = StringIndexer(inputCol = \"ST_Slope\", outputCol=\"ST_SlopeIndex\")"
   ]
  },
  {
   "cell_type": "code",
   "execution_count": 91,
   "id": "d1ee92a3-6e41-4adf-b8db-aa45ee5ac555",
   "metadata": {},
   "outputs": [],
   "source": [
    "encoder = OneHotEncoder().setInputCols([\"SexIndex\", \"ChestPainTypeIndex\", \"RestingECGIndex\",\n",
    "                                        \"ExerciseAnginaIndex\", \"ST_SlopeIndex\"])\\\n",
    "                                 .setOutputCols([\"Sex_encoded\", \"ChestPainType_encoded\",\n",
    "                                                 \"RestingECG_encoded\", \"ExerciseAngina_encoded\",\n",
    "                                                 \"ST_Slope_encoded\"])"
   ]
  },
  {
   "cell_type": "code",
   "execution_count": null,
   "id": "e79f6931-64df-48cd-9e17-5236828c9fad",
   "metadata": {},
   "outputs": [],
   "source": []
  },
  {
   "cell_type": "code",
   "execution_count": 92,
   "id": "90321cee-6fab-4d97-b430-31ce9332365d",
   "metadata": {},
   "outputs": [],
   "source": [
    "sqlTrans1 = SQLTransformer(\n",
    "    statement = \"SELECT Age, Sex_encoded, ChestPainType_encoded,\"+\n",
    "                \"log(RestingBP) as log_RestingBP,\" + \n",
    "                \"log(Cholesterol) as log_Cholesterol, FastingBS, RestingECG_encoded,\" +\n",
    "                \"log(MaxHR) as log_MaxHR, ExerciseAngina_encoded, Oldpeak,\" +\n",
    "                \"ST_Slope_encoded,\" +\n",
    "                \"HeartDisease as label FROM __THIS__\"\n",
    ")"
   ]
  },
  {
   "cell_type": "code",
   "execution_count": 93,
   "id": "e9b99966-f25c-46db-a661-c38c2601cf52",
   "metadata": {},
   "outputs": [],
   "source": [
    "assembler = VectorAssembler(inputCols = [\"Age\", \"Sex_encoded\", \"ChestPainType_encoded\", \"log_RestingBP\",\n",
    "                                         \"log_Cholesterol\", \"FastingBS\", \"RestingECG_encoded\",\n",
    "                                         \"log_MaxHR\", \"ExerciseAngina_encoded\", \"Oldpeak\",\n",
    "                                         \"ST_Slope_encoded\"],\n",
    "                            outputCol = \"features\",\n",
    "                            handleInvalid = 'keep')"
   ]
  },
  {
   "cell_type": "code",
   "execution_count": null,
   "id": "e3a5cffd-622f-4329-82b8-8edb3ef7d1cf",
   "metadata": {},
   "outputs": [],
   "source": [
    "from pyspark.ml.classification import LogisticRegression\n",
    "lr = LogisticRegression(maxIter=10, regParam=0.3, elasticNetParam=0.8)"
   ]
  },
  {
   "cell_type": "code",
   "execution_count": 94,
   "id": "ec6b5a7e-90d7-4bf1-97b8-90802713884b",
   "metadata": {},
   "outputs": [
    {
     "ename": "NameError",
     "evalue": "name 'lr' is not defined",
     "output_type": "error",
     "traceback": [
      "\u001b[0;31m---------------------------------------------------------------------------\u001b[0m",
      "\u001b[0;31mNameError\u001b[0m                                 Traceback (most recent call last)",
      "Input \u001b[0;32mIn [94]\u001b[0m, in \u001b[0;36m<module>\u001b[0;34m\u001b[0m\n\u001b[1;32m      1\u001b[0m \u001b[38;5;28;01mfrom\u001b[39;00m \u001b[38;5;21;01mpyspark\u001b[39;00m\u001b[38;5;21;01m.\u001b[39;00m\u001b[38;5;21;01mml\u001b[39;00m \u001b[38;5;28;01mimport\u001b[39;00m Pipeline\n\u001b[1;32m      2\u001b[0m pipeline \u001b[38;5;241m=\u001b[39m Pipeline(stages \u001b[38;5;241m=\u001b[39m [sex_indexer, chestPain_indexer, RestingECG_indexer,\n\u001b[1;32m      3\u001b[0m                               ExerciseAngina_indexer, ST_Slope_indexer, encoder,\n\u001b[0;32m----> 4\u001b[0m                               sqlTrans1,  assembler, \u001b[43mlr\u001b[49m])\n\u001b[1;32m      5\u001b[0m model \u001b[38;5;241m=\u001b[39m pipeline\u001b[38;5;241m.\u001b[39mfit(sql_heart)\u001b[38;5;241m.\u001b[39mtransform(sql_heart)\n\u001b[1;32m      6\u001b[0m model\u001b[38;5;241m.\u001b[39mselect(\u001b[38;5;124m\"\u001b[39m\u001b[38;5;124mlabel\u001b[39m\u001b[38;5;124m\"\u001b[39m, \u001b[38;5;124m\"\u001b[39m\u001b[38;5;124mfeatures\u001b[39m\u001b[38;5;124m\"\u001b[39m)\u001b[38;5;241m.\u001b[39mshow()\n",
      "\u001b[0;31mNameError\u001b[0m: name 'lr' is not defined"
     ]
    }
   ],
   "source": [
    "from pyspark.ml import Pipeline\n",
    "pipeline = Pipeline(stages = [sex_indexer, chestPain_indexer, RestingECG_indexer,\n",
    "                              ExerciseAngina_indexer, ST_Slope_indexer, encoder,\n",
    "                              sqlTrans1,  assembler, lr])\n",
    "model = pipeline.fit(sql_heart).transform(sql_heart)\n",
    "model.select(\"label\", \"features\").show()"
   ]
  },
  {
   "cell_type": "code",
   "execution_count": null,
   "id": "93f61fa9-0c96-4697-a5e7-3f3f99053b97",
   "metadata": {},
   "outputs": [],
   "source": [
    "from pyspark.ml.tuning import ParamGridBuilder, CrossValidator\n",
    "from pyspark.ml.evaluation import BinaryClassificationEvaluator\n",
    "from pyspark.mllib.evaluation import BinaryClassificationMetrics\n",
    "paramGrid = (ParamGridBuilder()\n",
    "             .addGrid(lr.regParam, [0.01, 0.1, 0.5, 1.0, 2.0])\n",
    "             .addGrid(lr.elasticNetParam, [0.0, 0.25, 0.5, 0.75, 1.0])\n",
    "             .addGrid(lr.maxIter, [1, 5, 10, 20, 50])\n",
    "             .build())\n",
    "\n",
    "# Evaluate model\n",
    "lrevaluator = BinaryClassificationEvaluator()\n",
    "\n",
    "# Create 5-fold CrossValidator\n",
    "crossval = CrossValidator(estimator = pipeline,\n",
    "                          estimatorParamMaps = paramGrid,\n",
    "                          evaluator = lrevaluator,\n",
    "                          numFolds = 5)"
   ]
  },
  {
   "cell_type": "code",
   "execution_count": null,
   "id": "9f2976d7-4fb8-4602-b1f2-5f0105529b4a",
   "metadata": {},
   "outputs": [],
   "source": [
    "cvmodel = crossval.fit(train)"
   ]
  }
 ],
 "metadata": {
  "kernelspec": {
   "display_name": "Python 3 (ipykernel)",
   "language": "python",
   "name": "python3"
  },
  "language_info": {
   "codemirror_mode": {
    "name": "ipython",
    "version": 3
   },
   "file_extension": ".py",
   "mimetype": "text/x-python",
   "name": "python",
   "nbconvert_exporter": "python",
   "pygments_lexer": "ipython3",
   "version": "3.10.1"
  }
 },
 "nbformat": 4,
 "nbformat_minor": 5
}
