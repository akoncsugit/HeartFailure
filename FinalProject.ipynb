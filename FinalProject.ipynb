{
 "cells": [
  {
   "cell_type": "markdown",
   "id": "c7109262-a5a7-44ba-bc2f-a8dd9dce2b99",
   "metadata": {},
   "source": [
    "# <center>ST590 Final Project</center>\n",
    "\n",
    "#### <center>Pramodini Karwande and Ashley Ko </center>"
   ]
  },
  {
   "cell_type": "markdown",
   "id": "23cadf0a-3e68-4d97-964b-debb29b2942d",
   "metadata": {},
   "source": [
    "## Introduction"
   ]
  },
  {
   "cell_type": "markdown",
   "id": "1c9a713a-d400-4cdd-b99f-0502f845ad68",
   "metadata": {},
   "source": [
    "**This section is in progress. I have started writing some preliminary things that we can use to form an introductory section**\n"
   ]
  },
  {
   "cell_type": "markdown",
   "id": "4fac2a7c-0a41-457d-82b0-f537cab49d9b",
   "metadata": {},
   "source": [
    "\n",
    "We will be exploring data from `heart.csv`. It was obtained via kaggle.com. https://www.kaggle.com/datasets/fedesoriano/heart-failure-prediction\n",
    "\n",
    "We will be using this data set to classify individuals as either having heart disease or not. This is a binary data set.\n",
    "We will use a classification tree, bagging, random forest and logistic regression to select and fit models and predict the presence of heart disease."
   ]
  },
  {
   "cell_type": "markdown",
   "id": "6bd3c6af-36c8-44b8-bf3f-990681eb47ea",
   "metadata": {},
   "source": [
    "## Supervised Learning Concepts"
   ]
  },
  {
   "cell_type": "code",
   "execution_count": null,
   "id": "805df1c0-77d0-4c1d-b931-2de70fec57a9",
   "metadata": {},
   "outputs": [],
   "source": [
    "## TO DO: DESCRIBE SUPERVISED LEARNING CONCEPTS"
   ]
  },
  {
   "cell_type": "markdown",
   "id": "0c0a5f08-88f1-444b-b06f-6e1b3c4a90b3",
   "metadata": {},
   "source": [
    "## Data Split"
   ]
  },
  {
   "cell_type": "code",
   "execution_count": 2,
   "id": "b57eefe0-ac65-4cee-b3d9-7f374bd379d9",
   "metadata": {},
   "outputs": [],
   "source": [
    "## TO DO: CALL PACKAGES\n",
    "\n",
    "import os\n",
    "import sys\n",
    "os.environ['PYSPARK_PYTHON'] = sys.executable\n",
    "os.environ['PYSPARK_DRIVER_PYTHON'] = sys.executable\n",
    "\n",
    "import pandas as pd\n",
    "from pyspark.sql import SparkSession\n",
    "spark = SparkSession.builder.getOrCreate()"
   ]
  },
  {
   "cell_type": "markdown",
   "id": "0f004412-1a02-47bf-a0ac-49386a0135c7",
   "metadata": {},
   "source": [
    "<p  style=\"color:#ff6633;\"> Now read in a data set using `pandas` and convert it to a `spark` SQL style data frame.</p>"
   ]
  },
  {
   "cell_type": "code",
   "execution_count": 4,
   "id": "03539a13-68fc-4326-812f-ac1d9d060eff",
   "metadata": {},
   "outputs": [
    {
     "data": {
      "text/html": [
       "<div>\n",
       "<style scoped>\n",
       "    .dataframe tbody tr th:only-of-type {\n",
       "        vertical-align: middle;\n",
       "    }\n",
       "\n",
       "    .dataframe tbody tr th {\n",
       "        vertical-align: top;\n",
       "    }\n",
       "\n",
       "    .dataframe thead th {\n",
       "        text-align: right;\n",
       "    }\n",
       "</style>\n",
       "<table border=\"1\" class=\"dataframe\">\n",
       "  <thead>\n",
       "    <tr style=\"text-align: right;\">\n",
       "      <th></th>\n",
       "      <th>Age</th>\n",
       "      <th>Sex</th>\n",
       "      <th>ChestPainType</th>\n",
       "      <th>RestingBP</th>\n",
       "      <th>Cholesterol</th>\n",
       "      <th>FastingBS</th>\n",
       "      <th>RestingECG</th>\n",
       "      <th>MaxHR</th>\n",
       "      <th>ExerciseAngina</th>\n",
       "      <th>Oldpeak</th>\n",
       "      <th>ST_Slope</th>\n",
       "      <th>HeartDisease</th>\n",
       "    </tr>\n",
       "  </thead>\n",
       "  <tbody>\n",
       "    <tr>\n",
       "      <th>0</th>\n",
       "      <td>40</td>\n",
       "      <td>M</td>\n",
       "      <td>ATA</td>\n",
       "      <td>140</td>\n",
       "      <td>289</td>\n",
       "      <td>0</td>\n",
       "      <td>Normal</td>\n",
       "      <td>172</td>\n",
       "      <td>N</td>\n",
       "      <td>0.0</td>\n",
       "      <td>Up</td>\n",
       "      <td>0</td>\n",
       "    </tr>\n",
       "    <tr>\n",
       "      <th>1</th>\n",
       "      <td>49</td>\n",
       "      <td>F</td>\n",
       "      <td>NAP</td>\n",
       "      <td>160</td>\n",
       "      <td>180</td>\n",
       "      <td>0</td>\n",
       "      <td>Normal</td>\n",
       "      <td>156</td>\n",
       "      <td>N</td>\n",
       "      <td>1.0</td>\n",
       "      <td>Flat</td>\n",
       "      <td>1</td>\n",
       "    </tr>\n",
       "    <tr>\n",
       "      <th>2</th>\n",
       "      <td>37</td>\n",
       "      <td>M</td>\n",
       "      <td>ATA</td>\n",
       "      <td>130</td>\n",
       "      <td>283</td>\n",
       "      <td>0</td>\n",
       "      <td>ST</td>\n",
       "      <td>98</td>\n",
       "      <td>N</td>\n",
       "      <td>0.0</td>\n",
       "      <td>Up</td>\n",
       "      <td>0</td>\n",
       "    </tr>\n",
       "    <tr>\n",
       "      <th>3</th>\n",
       "      <td>48</td>\n",
       "      <td>F</td>\n",
       "      <td>ASY</td>\n",
       "      <td>138</td>\n",
       "      <td>214</td>\n",
       "      <td>0</td>\n",
       "      <td>Normal</td>\n",
       "      <td>108</td>\n",
       "      <td>Y</td>\n",
       "      <td>1.5</td>\n",
       "      <td>Flat</td>\n",
       "      <td>1</td>\n",
       "    </tr>\n",
       "    <tr>\n",
       "      <th>4</th>\n",
       "      <td>54</td>\n",
       "      <td>M</td>\n",
       "      <td>NAP</td>\n",
       "      <td>150</td>\n",
       "      <td>195</td>\n",
       "      <td>0</td>\n",
       "      <td>Normal</td>\n",
       "      <td>122</td>\n",
       "      <td>N</td>\n",
       "      <td>0.0</td>\n",
       "      <td>Up</td>\n",
       "      <td>0</td>\n",
       "    </tr>\n",
       "  </tbody>\n",
       "</table>\n",
       "</div>"
      ],
      "text/plain": [
       "   Age Sex ChestPainType  RestingBP  Cholesterol  FastingBS RestingECG  MaxHR  \\\n",
       "0   40   M           ATA        140          289          0     Normal    172   \n",
       "1   49   F           NAP        160          180          0     Normal    156   \n",
       "2   37   M           ATA        130          283          0         ST     98   \n",
       "3   48   F           ASY        138          214          0     Normal    108   \n",
       "4   54   M           NAP        150          195          0     Normal    122   \n",
       "\n",
       "  ExerciseAngina  Oldpeak ST_Slope  HeartDisease  \n",
       "0              N      0.0       Up             0  \n",
       "1              N      1.0     Flat             1  \n",
       "2              N      0.0       Up             0  \n",
       "3              Y      1.5     Flat             1  \n",
       "4              N      0.0       Up             0  "
      ]
     },
     "execution_count": 4,
     "metadata": {},
     "output_type": "execute_result"
    }
   ],
   "source": [
    "## TO DO: READ IN DATA HERE\n",
    "pd_heart_data = pd.read_csv(\"./data/heart.csv\")\n",
    "pd_heart_data.head()"
   ]
  },
  {
   "cell_type": "markdown",
   "id": "0f9e6112-efe8-43f2-8255-50de0260cb8b",
   "metadata": {},
   "source": [
    "<p  style=\"color:#ff6633;\"> Convert to a spark SQL data frame. </p>"
   ]
  },
  {
   "cell_type": "code",
   "execution_count": 6,
   "id": "7a5f8471-b463-40ea-a800-0010eae52996",
   "metadata": {},
   "outputs": [
    {
     "name": "stdout",
     "output_type": "stream",
     "text": [
      "+---+---+-------------+---------+-----------+---------+----------+-----+--------------+-------+--------+------------+\n",
      "|Age|Sex|ChestPainType|RestingBP|Cholesterol|FastingBS|RestingECG|MaxHR|ExerciseAngina|Oldpeak|ST_Slope|HeartDisease|\n",
      "+---+---+-------------+---------+-----------+---------+----------+-----+--------------+-------+--------+------------+\n",
      "| 40|  M|          ATA|      140|        289|        0|    Normal|  172|             N|    0.0|      Up|           0|\n",
      "| 49|  F|          NAP|      160|        180|        0|    Normal|  156|             N|    1.0|    Flat|           1|\n",
      "| 37|  M|          ATA|      130|        283|        0|        ST|   98|             N|    0.0|      Up|           0|\n",
      "| 48|  F|          ASY|      138|        214|        0|    Normal|  108|             Y|    1.5|    Flat|           1|\n",
      "| 54|  M|          NAP|      150|        195|        0|    Normal|  122|             N|    0.0|      Up|           0|\n",
      "+---+---+-------------+---------+-----------+---------+----------+-----+--------------+-------+--------+------------+\n",
      "only showing top 5 rows\n",
      "\n"
     ]
    }
   ],
   "source": [
    "sp_heart_data = spark.createDataFrame(pd_heart_data)\n",
    "sp_heart_data.show(5)"
   ]
  },
  {
   "cell_type": "markdown",
   "id": "7c5ea49b-35f7-4b6a-a1f1-06f19db805ea",
   "metadata": {},
   "source": [
    "## Exploratory Data Analysis"
   ]
  },
  {
   "cell_type": "markdown",
   "id": "183d3980-89bc-4492-83ea-29b7db24a63d",
   "metadata": {},
   "source": [
    "### Numerical Summaries"
   ]
  },
  {
   "cell_type": "code",
   "execution_count": null,
   "id": "407f4ea4-9cb8-4f68-8f38-a540d7bb9d05",
   "metadata": {},
   "outputs": [],
   "source": []
  },
  {
   "cell_type": "markdown",
   "id": "66be8e13-35d3-4e06-8937-836f2af46411",
   "metadata": {},
   "source": [
    "### Graphical Summaries"
   ]
  },
  {
   "cell_type": "code",
   "execution_count": null,
   "id": "ad5b9f56-8918-4753-9690-6839e4443a67",
   "metadata": {},
   "outputs": [],
   "source": []
  },
  {
   "cell_type": "markdown",
   "id": "a100701b-a562-4747-b87f-89e3929c6029",
   "metadata": {},
   "source": [
    "## Modeling"
   ]
  },
  {
   "cell_type": "code",
   "execution_count": null,
   "id": "7855a74f-40ff-4fae-9354-09d80ce951ef",
   "metadata": {},
   "outputs": [],
   "source": []
  },
  {
   "cell_type": "code",
   "execution_count": null,
   "id": "c0ed2120-c429-4c88-91e9-8a414147b926",
   "metadata": {},
   "outputs": [],
   "source": [
    "### Classification Tree"
   ]
  },
  {
   "cell_type": "code",
   "execution_count": null,
   "id": "ba950c35-23db-4fa2-ae0a-6f436e6885a5",
   "metadata": {},
   "outputs": [],
   "source": [
    "### Random Forest"
   ]
  },
  {
   "cell_type": "code",
   "execution_count": null,
   "id": "767b6bd6-fe35-452d-a9fc-b53fd2ae3910",
   "metadata": {},
   "outputs": [],
   "source": []
  },
  {
   "cell_type": "markdown",
   "id": "11adbf63-b3ab-4fe4-a309-b26665bf2037",
   "metadata": {},
   "source": [
    "## Conclusion"
   ]
  }
 ],
 "metadata": {
  "kernelspec": {
   "display_name": "Python 3 (ipykernel)",
   "language": "python",
   "name": "python3"
  },
  "language_info": {
   "codemirror_mode": {
    "name": "ipython",
    "version": 3
   },
   "file_extension": ".py",
   "mimetype": "text/x-python",
   "name": "python",
   "nbconvert_exporter": "python",
   "pygments_lexer": "ipython3",
   "version": "3.8.8"
  }
 },
 "nbformat": 4,
 "nbformat_minor": 5
}
